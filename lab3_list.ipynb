{
 "cells": [
  {
   "cell_type": "code",
   "execution_count": null,
   "metadata": {},
   "outputs": [
    {
     "name": "stdout",
     "output_type": "stream",
     "text": [
      "[1.0, 2.56, 3, 4, 5, 6.8]\n"
     ]
    }
   ],
   "source": [
    "myListNumber = [1.0, 2.56, 3, 4, 5,6.8]\n",
    "print(myListNumber)\n"
   ]
  },
  {
   "cell_type": "code",
   "execution_count": null,
   "metadata": {},
   "outputs": [
    {
     "name": "stdout",
     "output_type": "stream",
     "text": [
      "['apple', 'sakda', 'homhuan']\n"
     ]
    }
   ],
   "source": [
    "myListString = [\"apple\", 'sakda', '''homhuan''']\n",
    "print(myListString[1])"
   ]
  },
  {
   "cell_type": "code",
   "execution_count": 25,
   "metadata": {},
   "outputs": [
    {
     "name": "stdout",
     "output_type": "stream",
     "text": [
      "[1, 65.67, 5, 'sakda', 'homhuan', False, 'geography']\n",
      "[1, 65.67, 5, 'sakda', 'homhuan', False]\n",
      "[65.67, 20, 5.2, 1]\n"
     ]
    }
   ],
   "source": [
    "myList2 = [1, 65.67, 5,\"sakda\", \n",
    "           \"homhuan\", False]\n",
    "myList2.append(\"geography\")\n",
    "print(myList2)\n",
    "myList2.remove(\"geography\")\n",
    "print(myList2)\n",
    "\n",
    "newListNumber = [1, 65.67, 5.2, 20] \n",
    "newListNumber.sort(reverse=True)\n",
    "print(newListNumber)"
   ]
  },
  {
   "cell_type": "code",
   "execution_count": 26,
   "metadata": {},
   "outputs": [
    {
     "name": "stdout",
     "output_type": "stream",
     "text": [
      "1\n",
      "65.67\n",
      "5\n",
      "sakda\n",
      "homhuan\n",
      "False\n",
      "geography\n"
     ]
    }
   ],
   "source": [
    "newListNumber2 = [1, 65.67, 5, \n",
    "                  'sakda', 'homhuan', \n",
    "                  False, 'geography']\n",
    "# loop for\n",
    "for x in newListNumber2:\n",
    "    print(x)"
   ]
  },
  {
   "cell_type": "code",
   "execution_count": 39,
   "metadata": {},
   "outputs": [
    {
     "name": "stdout",
     "output_type": "stream",
     "text": [
      "[0, 1, 2, 3, 4, 5, 6, 7, 8, 9]\n",
      "0\n",
      "1\n",
      "2\n",
      "3\n",
      "4\n",
      "5\n",
      "6\n",
      "7\n",
      "8\n",
      "9\n"
     ]
    }
   ],
   "source": [
    "a = range(10)\n",
    "\n",
    "b = [x for x in range(10)]\n",
    "\n",
    "print(b)\n",
    "\n",
    "for x in a:\n",
    "    print(x)\n"
   ]
  },
  {
   "cell_type": "code",
   "execution_count": null,
   "metadata": {},
   "outputs": [
    {
     "name": "stdout",
     "output_type": "stream",
     "text": [
      "[[19.24, 100.45], [18.89, 101.23], [18.67, 101.67], [19.24, 100.45]]\n"
     ]
    }
   ],
   "source": [
    "# nested list\n",
    "point = [19.24, 100.45]\n",
    "\n",
    "line = [[19.24, 100.45], [18.89, 101.23]]\n",
    "\n",
    "polygon  = [[19.24, 100.45], \n",
    "            [18.89, 101.23], \n",
    "            [18.67, 101.67],\n",
    "            [19.24, 100.45], \n",
    "            ]\n",
    "print(polygon)"
   ]
  },
  {
   "cell_type": "code",
   "execution_count": null,
   "metadata": {},
   "outputs": [],
   "source": [
    "# set "
   ]
  }
 ],
 "metadata": {
  "kernelspec": {
   "display_name": "py499",
   "language": "python",
   "name": "python3"
  },
  "language_info": {
   "codemirror_mode": {
    "name": "ipython",
    "version": 3
   },
   "file_extension": ".py",
   "mimetype": "text/x-python",
   "name": "python",
   "nbconvert_exporter": "python",
   "pygments_lexer": "ipython3",
   "version": "3.12.3"
  }
 },
 "nbformat": 4,
 "nbformat_minor": 2
}
