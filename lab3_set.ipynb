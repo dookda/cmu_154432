{
 "cells": [
  {
   "cell_type": "code",
   "execution_count": 12,
   "metadata": {},
   "outputs": [
    {
     "name": "stdout",
     "output_type": "stream",
     "text": [
      "{1, 2, 3, 'homhuan', 4, 5, 6.0, 'sakda'}\n",
      "{3, 'sakda'}\n",
      "{1, 2}\n",
      "{'homhuan', 4, 5, 6.0}\n",
      "{1, 'homhuan', 4, 5, 6.0, 2}\n"
     ]
    }
   ],
   "source": [
    "set1 = {1,2,3,\"sakda\"}\n",
    "set2 = set((3,4,5,6.0,\"sakda\", \"homhuan\"))\n",
    "\n",
    "print(set1 | set2)\n",
    "print(set1 & set2)\n",
    "print(set1 - set2)\n",
    "print(set2 - set1)\n",
    "print(set1 ^ set2)\n",
    "\n",
    "# for x in set2:\n",
    "#     print(x)\n",
    "\n",
    "# print(set1)\n",
    "# print(set2)"
   ]
  },
  {
   "cell_type": "code",
   "execution_count": null,
   "metadata": {},
   "outputs": [
    {
     "name": "stdout",
     "output_type": "stream",
     "text": [
      "sakda\n",
      "dict_keys(['firstName', 'lastName', 'age', 'occupation'])\n",
      "24\n",
      "{'firstName': 'sakda', 'lastName': 'homhuan', 'occupation': 'student', 'age': 28}\n"
     ]
    }
   ],
   "source": [
    "name = { \"firstName\": \"sakda\", \n",
    "        \"lastName\": \"homhuan\", \n",
    "        \"age\": 24 }\n",
    "\n",
    "print(name[\"firstName\"])\n",
    "\n",
    "name[\"occupation\"] = \"student\"\n",
    "\n",
    "print(name.keys())\n",
    "\n",
    "print(name.pop(\"age\"))\n",
    "\n",
    "name.update({\"age\": 28})\n",
    "\n",
    "print(name)\n",
    "\n",
    "# for i in name.items():\n",
    "#     print(i[1])"
   ]
  },
  {
   "cell_type": "code",
   "execution_count": null,
   "metadata": {},
   "outputs": [
    {
     "name": "stdout",
     "output_type": "stream",
     "text": [
      "Krista Rippin 1 2024-12-08T15:00:27.563Z\n",
      "Mr. Marco Streich 2 2024-12-08T11:16:40.563Z\n",
      "Mr. Mario Harvey 3 2024-12-08T22:57:19.476Z\n",
      "Karl Terry 4 2024-12-08T18:33:10.261Z\n"
     ]
    }
   ],
   "source": [
    "data = [\n",
    "  {\n",
    "    \"dt\": \"2024-12-08T15:00:27.563Z\",\n",
    "    \"name\": \"Krista Rippin\",\n",
    "    \"pictureProfile\": \"https://cloudflare-ipfs.com/ipfs/Qmd3W5DuhgHirLHGVixi6V76LhCkZUz6pnFt5AJBiyvHye/avatar/481.jpg\",\n",
    "    \"userId\": \"1\"\n",
    "  },\n",
    "  {\n",
    "    \"dt\": \"2024-12-08T11:16:40.563Z\",\n",
    "    \"name\": \"Mr. Marco Streich\",\n",
    "    \"pictureProfile\": \"https://cloudflare-ipfs.com/ipfs/Qmd3W5DuhgHirLHGVixi6V76LhCkZUz6pnFt5AJBiyvHye/avatar/682.jpg\",\n",
    "    \"userId\": \"2\"\n",
    "  },\n",
    "  {\n",
    "    \"dt\": \"2024-12-08T22:57:19.476Z\",\n",
    "    \"name\": \"Mr. Mario Harvey\",\n",
    "    \"pictureProfile\": \"https://cloudflare-ipfs.com/ipfs/Qmd3W5DuhgHirLHGVixi6V76LhCkZUz6pnFt5AJBiyvHye/avatar/694.jpg\",\n",
    "    \"userId\": \"3\"\n",
    "  },\n",
    "  {\n",
    "    \"dt\": \"2024-12-08T18:33:10.261Z\",\n",
    "    \"name\": \"Karl Terry\",\n",
    "    \"pictureProfile\": \"https://cloudflare-ipfs.com/ipfs/Qmd3W5DuhgHirLHGVixi6V76LhCkZUz6pnFt5AJBiyvHye/avatar/479.jpg\",\n",
    "    \"userId\": \"4\"\n",
    "  }\n",
    "]\n",
    "\n",
    "for i in data:\n",
    "    print(i[\"name\"], i[\"userId\"], i[\"dt\"])\n",
    "\n",
    "\n"
   ]
  },
  {
   "cell_type": "code",
   "execution_count": null,
   "metadata": {},
   "outputs": [
    {
     "name": "stdout",
     "output_type": "stream",
     "text": [
      "[{'dt': '2024-12-08T15:00:27.563Z', 'name': 'Krista Rippin', 'pictureProfile': 'https://cloudflare-ipfs.com/ipfs/Qmd3W5DuhgHirLHGVixi6V76LhCkZUz6pnFt5AJBiyvHye/avatar/481.jpg', 'userId': '1'}, {'dt': '2024-12-08T11:16:40.563Z', 'name': 'Mr. Marco Streich', 'pictureProfile': 'https://cloudflare-ipfs.com/ipfs/Qmd3W5DuhgHirLHGVixi6V76LhCkZUz6pnFt5AJBiyvHye/avatar/682.jpg', 'userId': '2'}, {'dt': '2024-12-08T22:57:19.476Z', 'name': 'Mr. Mario Harvey', 'pictureProfile': 'https://cloudflare-ipfs.com/ipfs/Qmd3W5DuhgHirLHGVixi6V76LhCkZUz6pnFt5AJBiyvHye/avatar/694.jpg', 'userId': '3'}, {'dt': '2024-12-08T18:33:10.261Z', 'name': 'Karl Terry', 'pictureProfile': 'https://cloudflare-ipfs.com/ipfs/Qmd3W5DuhgHirLHGVixi6V76LhCkZUz6pnFt5AJBiyvHye/avatar/479.jpg', 'userId': '4'}]\n",
      "Krista Rippin 1 2024-12-08T15:00:27.563Z\n",
      "Mr. Marco Streich 2 2024-12-08T11:16:40.563Z\n",
      "Mr. Mario Harvey 3 2024-12-08T22:57:19.476Z\n",
      "Karl Terry 4 2024-12-08T18:33:10.261Z\n"
     ]
    }
   ],
   "source": [
    "import requests\n",
    "\n",
    "dataUrl = 'https://658a6b69ba789a96223708bc.mockapi.io/api/user/user'\n",
    "\n",
    "response = requests.get(dataUrl)\n",
    "\n",
    "print(response.json())\n",
    "\n",
    "for i in response.json():\n",
    "    \n",
    "    print(i[\"name\"], i[\"userId\"], i[\"dt\"])"
   ]
  }
 ],
 "metadata": {
  "kernelspec": {
   "display_name": "py499",
   "language": "python",
   "name": "python3"
  },
  "language_info": {
   "codemirror_mode": {
    "name": "ipython",
    "version": 3
   },
   "file_extension": ".py",
   "mimetype": "text/x-python",
   "name": "python",
   "nbconvert_exporter": "python",
   "pygments_lexer": "ipython3",
   "version": "3.12.3"
  }
 },
 "nbformat": 4,
 "nbformat_minor": 2
}
