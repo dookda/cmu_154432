{
 "cells": [
  {
   "cell_type": "code",
   "execution_count": 1,
   "metadata": {},
   "outputs": [
    {
     "data": {
      "application/vnd.jupyter.widget-view+json": {
       "model_id": "9821eb2b81be4a419f298dd81c128e59",
       "version_major": 2,
       "version_minor": 0
      },
      "text/plain": [
       "Map(center=[19.25, 99.25], controls=(WidgetControl(options=['position', 'transparent_bg'], widget=SearchDataGU…"
      ]
     },
     "execution_count": 1,
     "metadata": {},
     "output_type": "execute_result"
    }
   ],
   "source": [
    "import ee\n",
    "import geemap\n",
    "\n",
    "# Initialize the Earth Engine API\n",
    "ee.Initialize()\n",
    "\n",
    "# Define the ROI as a polygon geometry\n",
    "roi = ee.Geometry.Polygon([\n",
    "    [97.0, 21.5],\n",
    "    [97.0, 17.0],\n",
    "    [101.5, 17.0],\n",
    "    [101.5, 21.5]\n",
    "])\n",
    "\n",
    "# Convert the geometry into a FeatureCollection\n",
    "roi_feature = ee.FeatureCollection([ee.Feature(roi)])\n",
    "\n",
    "# Style the feature: red outline and no fill\n",
    "styled_roi = roi_feature.style(\n",
    "    color='FF0000',      # Red outline in hex\n",
    "    fillColor='00000000', # Transparent fill (8-digit hex: '00000000')\n",
    "    width=2              # Outline width\n",
    ")\n",
    "\n",
    "# Create a map using geemap\n",
    "Map = geemap.Map()\n",
    "Map.setCenter(99.25, 19.25, 7) # Center roughly on northern Thailand\n",
    "Map.addLayer(styled_roi, {}, 'ROI')\n",
    "Map"
   ]
  },
  {
   "cell_type": "code",
   "execution_count": 8,
   "metadata": {},
   "outputs": [
    {
     "data": {
      "text/html": [
       "\n",
       "            <style>\n",
       "                .geemap-dark {\n",
       "                    --jp-widgets-color: white;\n",
       "                    --jp-widgets-label-color: white;\n",
       "                    --jp-ui-font-color1: white;\n",
       "                    --jp-layout-color2: #454545;\n",
       "                    background-color: #383838;\n",
       "                }\n",
       "                    \n",
       "                .geemap-dark .jupyter-button {\n",
       "                    --jp-layout-color3: #383838;\n",
       "                }\n",
       "                \n",
       "                .geemap-colab {\n",
       "                    background-color: var(--colab-primary-surface-color, white);\n",
       "                }\n",
       "                    \n",
       "                .geemap-colab .jupyter-button {\n",
       "                    --jp-layout-color3: var(--colab-primary-surface-color, white);\n",
       "                }\n",
       "            </style>\n",
       "            "
      ],
      "text/plain": [
       "<IPython.core.display.HTML object>"
      ]
     },
     "metadata": {},
     "output_type": "display_data"
    },
    {
     "name": "stdout",
     "output_type": "stream",
     "text": [
      "2012\n",
      "2013\n",
      "2014\n",
      "2015\n",
      "2016\n",
      "2017\n",
      "2018\n",
      "2019\n",
      "2020\n",
      "2021\n",
      "2022\n"
     ]
    },
    {
     "data": {
      "application/vnd.jupyter.widget-view+json": {
       "model_id": "062015b4522b4b55ada5c7c34b366fa6",
       "version_major": 2,
       "version_minor": 0
      },
      "text/plain": [
       "Map(center=[19.25, 99.25], controls=(WidgetControl(options=['position', 'transparent_bg'], widget=SearchDataGU…"
      ]
     },
     "execution_count": 8,
     "metadata": {},
     "output_type": "execute_result"
    }
   ],
   "source": [
    "import ee\n",
    "import geemap\n",
    "\n",
    "# Initialize the Earth Engine API\n",
    "import ee\n",
    "\n",
    "# Provide your Google Cloud project ID\n",
    "project_id = 'earthengine-380405'\n",
    "\n",
    "# Authenticate and initialize the Earth Engine API with the project ID\n",
    "ee.Authenticate()\n",
    "ee.Initialize(project=project_id)\n",
    "\n",
    "\n",
    "\n",
    "# --------------------------------------------------------\n",
    "# Step 1: Define Region of Interest (northern Thailand)\n",
    "# --------------------------------------------------------\n",
    "# roi = ee.Geometry.Polygon([\n",
    "#     [97.0, 21.5],\n",
    "#     [97.0, 17.0],\n",
    "#     [101.5, 17.0],\n",
    "#     [101.5, 21.5]\n",
    "# ])\n",
    "\n",
    "hexpolygon = ee.FeatureCollection(\"projects/ee-sakda/assets/ud_lst_10y\");\n",
    "roi = hexpolygon.geometry().bounds()\n",
    "\n",
    "# Create a geemap Map to visualize results\n",
    "Map = geemap.Map(center=[19.25, 99.25], zoom=7)\n",
    "\n",
    "# Add the ROI boundary to the map\n",
    "Map.addLayer(roi, {'color': 'black'}, 'ROI')\n",
    "\n",
    "# --------------------------------------------------------\n",
    "# Step 2: Define Time Range and Parameters\n",
    "# --------------------------------------------------------\n",
    "startYear = 2012\n",
    "endYear = 2022  # inclusive\n",
    "\n",
    "# MODIS LST datasets (V006)\n",
    "terraDataset = 'MODIS/006/MOD11A2'  # Terra\n",
    "aquaDataset = 'MODIS/006/MYD11A2'   # Aqua\n",
    "\n",
    "# --------------------------------------------------------\n",
    "# Step 3: Function to scale and mask LST\n",
    "# --------------------------------------------------------\n",
    "def scaleAndMaskLST(image):\n",
    "    lst = image.select('LST_Day_1km').multiply(0.02)\n",
    "    # Mask LST outside realistic range (0°C to 77°C in Kelvin)\n",
    "    lst = lst.updateMask(lst.gt(273).And(lst.lt(350)))\n",
    "    return lst.copyProperties(image, image.propertyNames())\n",
    "\n",
    "# Visualization parameters for the Celsius LST\n",
    "visParams = {\n",
    "    'min': 15,     # 15°C\n",
    "    'max': 40,     # 40°C\n",
    "    'palette': ['blue', 'cyan', 'green', 'yellow', 'red']\n",
    "}\n",
    "\n",
    "# --------------------------------------------------------\n",
    "# Step 4: Loop Over Each Year, Compute Mean LST from Terra+Aqua, and Export\n",
    "# --------------------------------------------------------\n",
    "for year in range(startYear, endYear + 1):\n",
    "    startDate = ee.Date.fromYMD(year, 1, 1)\n",
    "    endDate = ee.Date.fromYMD(year, 12, 31)\n",
    "\n",
    "    print(year)\n",
    "\n",
    "    # Filter Terra collection\n",
    "    terraCollection = (ee.ImageCollection(terraDataset)\n",
    "                       .filterDate(startDate, endDate)\n",
    "                       .filterBounds(roi)\n",
    "                       .map(scaleAndMaskLST))\n",
    "\n",
    "    # Filter Aqua collection\n",
    "    aquaCollection = (ee.ImageCollection(aquaDataset)\n",
    "                      .filterDate(startDate, endDate)\n",
    "                      .filterBounds(roi)\n",
    "                      .map(scaleAndMaskLST))\n",
    "\n",
    "    # Merge Terra and Aqua collections\n",
    "    mergedCollection = terraCollection.merge(aquaCollection)\n",
    "\n",
    "    # Compute the mean LST (Kelvin)\n",
    "    meanLST = mergedCollection.mean().clip(roi)\n",
    "\n",
    "    # Convert from Kelvin to Celsius\n",
    "    meanLST_C = meanLST.subtract(273.15)\n",
    "\n",
    "    # Add layer to the map for visualization\n",
    "    Map.addLayer(meanLST_C, visParams, f'Mean LST {year} (°C)')\n",
    "\n",
    "    # Export to Google Drive\n",
    "    task = ee.batch.Export.image.toDrive(\n",
    "        image=meanLST,\n",
    "        description='Mean_LST_Terra_Aqua_Northern_Thailand_' + str(year),\n",
    "        folder='_GEE',\n",
    "        fileNamePrefix='mean_lst_modmyd_northern_th_' + str(year),\n",
    "        scale=1000,\n",
    "        region=roi, \n",
    "        crs='EPSG:4326'\n",
    "    )\n",
    "    task.start()\n",
    "\n",
    "# Display the map\n",
    "Map\n"
   ]
  },
  {
   "cell_type": "code",
   "execution_count": 11,
   "metadata": {},
   "outputs": [
    {
     "data": {
      "text/html": [
       "\n",
       "            <style>\n",
       "                .geemap-dark {\n",
       "                    --jp-widgets-color: white;\n",
       "                    --jp-widgets-label-color: white;\n",
       "                    --jp-ui-font-color1: white;\n",
       "                    --jp-layout-color2: #454545;\n",
       "                    background-color: #383838;\n",
       "                }\n",
       "                    \n",
       "                .geemap-dark .jupyter-button {\n",
       "                    --jp-layout-color3: #383838;\n",
       "                }\n",
       "                \n",
       "                .geemap-colab {\n",
       "                    background-color: var(--colab-primary-surface-color, white);\n",
       "                }\n",
       "                    \n",
       "                .geemap-colab .jupyter-button {\n",
       "                    --jp-layout-color3: var(--colab-primary-surface-color, white);\n",
       "                }\n",
       "            </style>\n",
       "            "
      ],
      "text/plain": [
       "<IPython.core.display.HTML object>"
      ]
     },
     "metadata": {},
     "output_type": "display_data"
    },
    {
     "name": "stdout",
     "output_type": "stream",
     "text": [
      "{'stations': [{'stationID': '02t', 'nameTH': 'มหาวิทยาลัยราชภัฏบ้านสมเด็จเจ้าพระยา', 'nameEN': 'Bansomdejchaopraya Rajabhat University', 'areaTH': 'แขวงหิรัญรูจี เขตธนบุรี, กรุงเทพฯ', 'areaEN': 'Hiran Ruchi, Khet Thon Buri, Bangkok', 'stationType': 'GROUND', 'lat': '13.732846', 'long': '100.487662', 'forecast': [], 'AQILast': {'date': '2024-12-15', 'time': '17:00', 'PM25': {'color_id': '2', 'aqi': '49', 'value': '24.7'}, 'PM10': {'color_id': '0', 'aqi': '-1', 'value': '-1'}, 'O3': {'color_id': '0', 'aqi': '-1', 'value': '-1'}, 'CO': {'color_id': '0', 'aqi': '-1', 'value': '-1'}, 'NO2': {'color_id': '0', 'aqi': '-1', 'value': '-1'}, 'SO2': {'color_id': '0', 'aqi': '-1', 'value': '-1'}, 'AQI': {'color_id': '2', 'aqi': '49', 'param': 'PM25'}}}, {'stationID': '03t', 'nameTH': 'ริมถนนทางหลวงหมายเลข 3902 ', 'nameEN': 'Highway NO.3902 km.13 +600', 'areaTH': 'ริมถนนกาญจนาภิเษก เขตบางขุนเทียน, กรุงเทพฯ', 'areaEN': 'Kanchanaphisek Rd, Bang Khun Thian, Bangkok', 'stationType': 'GROUND', 'lat': '13.636514', 'long': '100.414262', 'forecast': [], 'AQILast': {'date': '2024-12-15', 'time': '17:00', 'PM25': {'color_id': '2', 'aqi': '37', 'value': '19.7'}, 'PM10': {'color_id': '0', 'aqi': '-1', 'value': '-1'}, 'O3': {'color_id': '0', 'aqi': '-1', 'value': '-1'}, 'CO': {'color_id': '0', 'aqi': '-1', 'value': '-1'}, 'NO2': {'color_id': '0', 'aqi': '-1', 'value': '-1'}, 'SO2': {'color_id': '0', 'aqi': '-999', 'value': '-1'}, 'AQI': {'color_id': '2', 'aqi': '37', 'param': 'PM25'}}}, {'stationID': '11t', 'nameTH': 'การเคหะชุมชนห้วยขวาง ', 'nameEN': 'National Housing  Huaykwang', 'areaTH': 'แขวงดินแดง เขตดินแดง, กรุงเทพฯ', 'areaEN': 'Din Daeng, Khet Din Daeng, Bangkok', 'stationType': 'GROUND', 'lat': '13.77553', 'long': '100.569195', 'forecast': [], 'AQILast': {'date': '2024-12-15', 'time': '17:00', 'PM25': {'color_id': '2', 'aqi': '34', 'value': '18.5'}, 'PM10': {'color_id': '0', 'aqi': '-1', 'value': '-1'}, 'O3': {'color_id': '0', 'aqi': '-1', 'value': '-1'}, 'CO': {'color_id': '0', 'aqi': '-1', 'value': '-1'}, 'NO2': {'color_id': '0', 'aqi': '-1', 'value': '-1'}, 'SO2': {'color_id': '0', 'aqi': '-1', 'value': '-1'}, 'AQI': {'color_id': '2', 'aqi': '34', 'param': 'PM25'}}}, {'stationID': '12t', 'nameTH': 'โรงเรียนนนทรีวิทยา ', 'nameEN': 'Nonsi Witthaya School', 'areaTH': 'แขวงช่องนนทรี เขตยานนาวา, กรุงเทพฯ', 'areaEN': 'Chong Nonsi, Khet Yannawa, Bangkok', 'stationType': 'GROUND', 'lat': '13.70806667', 'long': '100.5473333', 'forecast': [], 'AQILast': {'date': '2024-12-15', 'time': '17:00', 'PM25': {'color_id': '2', 'aqi': '34', 'value': '18.3'}, 'PM10': {'color_id': '0', 'aqi': '-1', 'value': '-1'}, 'O3': {'color_id': '0', 'aqi': '-1', 'value': '-1'}, 'CO': {'color_id': '0', 'aqi': '-1', 'value': '-1'}, 'NO2': {'color_id': '0', 'aqi': '-1', 'value': '-1'}, 'SO2': {'color_id': '0', 'aqi': '-1', 'value': '-1'}, 'AQI': {'color_id': '2', 'aqi': '34', 'param': 'PM25'}}}, {'stationID': '50t', 'nameTH': 'โรงพยาบาลจุฬาลงกรณ์', 'nameEN': 'Chulalongkorn Hospital', 'areaTH': 'ริมถนนพระราม 4 เขตปทุมวัน, กรุงเทพฯ', 'areaEN': 'Rama IV Rd. Khet Pathum Wan, Bangkok', 'stationType': 'GROUND', 'lat': '13.729852', 'long': '100.536501', 'forecast': [], 'AQILast': {'date': '2024-12-15', 'time': '17:00', 'PM25': {'color_id': '2', 'aqi': '47', 'value': '23.6'}, 'PM10': {'color_id': '0', 'aqi': '-1', 'value': '-1'}, 'O3': {'color_id': '0', 'aqi': '-999', 'value': '-1'}, 'CO': {'color_id': '0', 'aqi': '-1', 'value': '-1'}, 'NO2': {'color_id': '0', 'aqi': '-1', 'value': '-1'}, 'SO2': {'color_id': '0', 'aqi': '-999', 'value': '-1'}, 'AQI': {'color_id': '2', 'aqi': '47', 'param': 'PM25'}}}, {'stationID': '52t', 'nameTH': 'การไฟฟ้าย่อยธนบุรี ', 'nameEN': 'Thonburi Power Sub-Station', 'areaTH': 'ริมถนนอินทรพิทักษ์ เขตธนบุรี, กรุงเทพฯ', 'areaEN': 'Intarapitak Rd. Khet Thon Buri, Bangkok', 'stationType': 'GROUND', 'lat': '13.727622', 'long': '100.486568', 'forecast': [], 'AQILast': {'date': '2024-12-15', 'time': '17:00', 'PM25': {'color_id': '2', 'aqi': '48', 'value': '24.3'}, 'PM10': {'color_id': '0', 'aqi': '-1', 'value': '-1'}, 'O3': {'color_id': '0', 'aqi': '-1', 'value': '-1'}, 'CO': {'color_id': '0', 'aqi': '-1', 'value': '-1'}, 'NO2': {'color_id': '0', 'aqi': '-1', 'value': '-1'}, 'SO2': {'color_id': '0', 'aqi': '-1', 'value': '-1'}, 'AQI': {'color_id': '2', 'aqi': '48', 'param': 'PM25'}}}, {'stationID': '53t', 'nameTH': 'สถานีตำรวจนครบาลโชคชัย ', 'nameEN': 'Chokchai Police Station', 'areaTH': 'ริมถนนลาดพร้าว เขตวังทองหลาง, กรุงเทพฯ', 'areaEN': 'Lat Phrao Rd. Khet Wang Thonglang, Bangkok', 'stationType': 'GROUND', 'lat': '13.7954248', 'long': '100.5930298', 'forecast': [], 'AQILast': {'date': '2024-12-15', 'time': '17:00', 'PM25': {'color_id': '2', 'aqi': '46', 'value': '23.2'}, 'PM10': {'color_id': '0', 'aqi': '-1', 'value': '-1'}, 'O3': {'color_id': '0', 'aqi': '-999', 'value': '-1'}, 'CO': {'color_id': '0', 'aqi': '-1', 'value': '-1'}, 'NO2': {'color_id': '0', 'aqi': '-1', 'value': '-1'}, 'SO2': {'color_id': '0', 'aqi': '-999', 'value': '-1'}, 'AQI': {'color_id': '2', 'aqi': '46', 'param': 'PM25'}}}, {'stationID': '54t', 'nameTH': 'การเคหะชุมชนดินแดง ', 'nameEN': 'National Housing Authority Dindaeng', 'areaTH': 'ริมถนนดินแดง เขตดินแดง, กรุงเทพฯ', 'areaEN': 'Din Daeng Rd. Khet Din Daeng, Bangkok', 'stationType': 'GROUND', 'lat': '13.76251667', 'long': '100.5502', 'forecast': [], 'AQILast': {'date': '2024-12-15', 'time': '17:00', 'PM25': {'color_id': '2', 'aqi': '46', 'value': '23.5'}, 'PM10': {'color_id': '2', 'aqi': '38', 'value': '66'}, 'O3': {'color_id': '0', 'aqi': '-1', 'value': '-1'}, 'CO': {'color_id': '1', 'aqi': '3', 'value': '0.60'}, 'NO2': {'color_id': '0', 'aqi': '-1', 'value': '-1'}, 'SO2': {'color_id': '0', 'aqi': '-1', 'value': '-1'}, 'AQI': {'color_id': '2', 'aqi': '46', 'param': 'PM25'}}}, {'stationID': '59t', 'nameTH': 'กรมประชาสัมพันธ์', 'nameEN': 'The Government Public Relations Department ', 'areaTH': 'แขวงพญาไท เขตพญาไท, กรุงเทพฯ', 'areaEN': 'Phaya Thai, Khet Phaya Thai, Bangkok', 'stationType': 'GROUND', 'lat': '13.783185', 'long': '100.540489', 'forecast': [], 'AQILast': {'date': '2024-12-15', 'time': '17:00', 'PM25': {'color_id': '1', 'aqi': '21', 'value': '12.4'}, 'PM10': {'color_id': '1', 'aqi': '16', 'value': '32'}, 'O3': {'color_id': '0', 'aqi': '-1', 'value': '-1'}, 'CO': {'color_id': '0', 'aqi': '-1', 'value': '-1'}, 'NO2': {'color_id': '0', 'aqi': '-1', 'value': '-1'}, 'SO2': {'color_id': '0', 'aqi': '-999', 'value': '-1'}, 'AQI': {'color_id': '1', 'aqi': '21', 'param': 'PM25'}}}, {'stationID': 'bkp100t', 'nameTH': 'สำนักงานเขตบึงกุ่ม', 'nameEN': 'Bueng Kum District Office, Bangkok', 'areaTH': 'แขวงคลองกุ่ม เขตบึงกุ่ม', 'areaEN': 'Khlong Kum, Bueng Kum, Bangkok', 'stationType': 'BKK', 'lat': '13.785212', 'long': '100.669183', 'forecast': [], 'AQILast': {'date': '2024-12-15', 'time': '19:00', 'PM25': {'color_id': '1', 'aqi': '25', 'value': '15.0'}, 'PM10': {'color_id': '0', 'aqi': '-999', 'value': '-1'}, 'O3': {'color_id': '0', 'aqi': '-999', 'value': '-1'}, 'CO': {'color_id': '0', 'aqi': '-999', 'value': '-1'}, 'NO2': {'color_id': '0', 'aqi': '-999', 'value': '-1'}, 'SO2': {'color_id': '0', 'aqi': '-999', 'value': '-1'}, 'AQI': {'color_id': '1', 'aqi': '25', 'param': 'PM25'}}}, {'stationID': 'bkp101t', 'nameTH': 'สำนักงานเขตคลองสามวา', 'nameEN': 'Khlong Sam Wa District Office, Bangkok', 'areaTH': 'เขตคลองสามวา, กรุงเทพฯ', 'areaEN': 'Khlong Sam Wa, Bangkok', 'stationType': 'BKK', 'lat': '13.859911', 'long': '100.704002', 'forecast': [], 'AQILast': {'date': '2024-12-15', 'time': '19:00', 'PM25': {'color_id': '2', 'aqi': '44', 'value': '22.6'}, 'PM10': {'color_id': '0', 'aqi': '-999', 'value': '-1'}, 'O3': {'color_id': '0', 'aqi': '-999', 'value': '-1'}, 'CO': {'color_id': '0', 'aqi': '-999', 'value': '-1'}, 'NO2': {'color_id': '0', 'aqi': '-999', 'value': '-1'}, 'SO2': {'color_id': '0', 'aqi': '-999', 'value': '-1'}, 'AQI': {'color_id': '2', 'aqi': '44', 'param': 'PM25'}}}, {'stationID': 'bkp102t', 'nameTH': 'สำนักงานเขตจอมทอง', 'nameEN': 'Chomthong District Office, Bangkok', 'areaTH': 'เขตจอมทอง, กรุงเทพฯ', 'areaEN': 'Chomthong, Bangkok', 'stationType': 'BKK', 'lat': '13.677757', 'long': '100.483861', 'forecast': [], 'AQILast': {'date': '2024-12-15', 'time': '19:00', 'PM25': {'color_id': '2', 'aqi': '33', 'value': '17.9'}, 'PM10': {'color_id': '0', 'aqi': '-999', 'value': '-1'}, 'O3': {'color_id': '0', 'aqi': '-999', 'value': '-1'}, 'CO': {'color_id': '0', 'aqi': '-999', 'value': '-1'}, 'NO2': {'color_id': '0', 'aqi': '-999', 'value': '-1'}, 'SO2': {'color_id': '0', 'aqi': '-999', 'value': '-1'}, 'AQI': {'color_id': '2', 'aqi': '33', 'param': 'PM25'}}}, {'stationID': 'bkp103t', 'nameTH': 'สำนักงานเขตบางพลัด', 'nameEN': 'Bang Phlat District Office, Bangkok', 'areaTH': 'ริมถนนจรัญสนิทวงศ์ เขตบางพลัด, กรุงเทพฯ', 'areaEN': 'Charansanitwong Roadside, Bangkok', 'stationType': 'BKK', 'lat': '13.793965', 'long': '100.504956', 'forecast': [], 'AQILast': {'date': '2024-12-15', 'time': '19:00', 'PM25': {'color_id': '2', 'aqi': '41', 'value': '21.4'}, 'PM10': {'color_id': '0', 'aqi': '-999', 'value': '-1'}, 'O3': {'color_id': '0', 'aqi': '-999', 'value': '-1'}, 'CO': {'color_id': '0', 'aqi': '-999', 'value': '-1'}, 'NO2': {'color_id': '0', 'aqi': '-999', 'value': '-1'}, 'SO2': {'color_id': '0', 'aqi': '-999', 'value': '-1'}, 'AQI': {'color_id': '2', 'aqi': '41', 'param': 'PM25'}}}, {'stationID': 'bkp104t', 'nameTH': 'สำนักงานเขตบางแค', 'nameEN': 'Bang Khae District Office, Bangkok', 'areaTH': 'เขตบางแค, กรุงเทพฯ', 'areaEN': 'Bang Khae, Bangkok', 'stationType': 'BKK', 'lat': '13.696314', 'long': '100.409049', 'forecast': [], 'AQILast': {'date': '2024-12-15', 'time': '19:00', 'PM25': {'color_id': '2', 'aqi': '33', 'value': '18.0'}, 'PM10': {'color_id': '0', 'aqi': '-999', 'value': '-1'}, 'O3': {'color_id': '0', 'aqi': '-999', 'value': '-1'}, 'CO': {'color_id': '0', 'aqi': '-999', 'value': '-1'}, 'NO2': {'color_id': '0', 'aqi': '-999', 'value': '-1'}, 'SO2': {'color_id': '0', 'aqi': '-999', 'value': '-1'}, 'AQI': {'color_id': '2', 'aqi': '33', 'param': 'PM25'}}}, {'stationID': 'bkp105t', 'nameTH': 'สำนักงานเขตบางขุนเทียน', 'nameEN': 'Bang Khun Thian District Office, Bangkok', 'areaTH': 'ริมถนนพระราม 2 เขตบางขุนเทียน, กรุงเทพฯ', 'areaEN': 'RamaII Roadside,  Bang Khun Thian, Bangkok', 'stationType': 'BKK', 'lat': '13.659908', 'long': '100.435902', 'forecast': [], 'AQILast': {'date': '2024-12-15', 'time': '19:00', 'PM25': {'color_id': '2', 'aqi': '35', 'value': '18.8'}, 'PM10': {'color_id': '0', 'aqi': '-999', 'value': '-1'}, 'O3': {'color_id': '0', 'aqi': '-999', 'value': '-1'}, 'CO': {'color_id': '0', 'aqi': '-999', 'value': '-1'}, 'NO2': {'color_id': '0', 'aqi': '-999', 'value': '-1'}, 'SO2': {'color_id': '0', 'aqi': '-999', 'value': '-1'}, 'AQI': {'color_id': '2', 'aqi': '35', 'param': 'PM25'}}}, {'stationID': 'bkp112t', 'nameTH': 'สำนักงานเขตบางคอแหลม (Mobile)', 'nameEN': 'Bang Kho Laem District Office, Bangkok (Mobile)', 'areaTH': 'เขตบางคอแหลม, กรุงเทพฯ', 'areaEN': 'Bang Kho Laem, Bangkok', 'stationType': 'BKK', 'lat': '13.69304', 'long': '100.50244', 'forecast': [], 'AQILast': {'date': '2024-12-15', 'time': '19:00', 'PM25': {'color_id': '2', 'aqi': '32', 'value': '17.5'}, 'PM10': {'color_id': '0', 'aqi': '-999', 'value': '-1'}, 'O3': {'color_id': '0', 'aqi': '-999', 'value': '-1'}, 'CO': {'color_id': '0', 'aqi': '-999', 'value': '-1'}, 'NO2': {'color_id': '0', 'aqi': '-999', 'value': '-1'}, 'SO2': {'color_id': '0', 'aqi': '-999', 'value': '-1'}, 'AQI': {'color_id': '2', 'aqi': '32', 'param': 'PM25'}}}, {'stationID': 'bkp114t', 'nameTH': 'สวนลุมพินี ถนนพระราม 4 แขวงวังใหม่ เขตปทุมวัน', 'nameEN': 'Lumpini park', 'areaTH': 'สวนลุมพินี เขตปทุมวัน', 'areaEN': 'Lumpini park, Pathum Wan, Bangkok', 'stationType': 'BKK', 'lat': '13.732225', 'long': '100.5448381', 'forecast': [], 'AQILast': {'date': '2024-12-15', 'time': '19:00', 'PM25': {'color_id': '2', 'aqi': '32', 'value': '17.5'}, 'PM10': {'color_id': '0', 'aqi': '-999', 'value': '-1'}, 'O3': {'color_id': '0', 'aqi': '-999', 'value': '-1'}, 'CO': {'color_id': '0', 'aqi': '-999', 'value': '-1'}, 'NO2': {'color_id': '0', 'aqi': '-999', 'value': '-1'}, 'SO2': {'color_id': '0', 'aqi': '-999', 'value': '-1'}, 'AQI': {'color_id': '2', 'aqi': '32', 'param': 'PM25'}}}, {'stationID': 'bkp116t', 'nameTH': 'สวนจตุจักร ถนนพหลโยธิน แขวงจตุจักร เขตจตุจักร', 'nameEN': 'Chatuchak Park', 'areaTH': 'สวนจตุจักร เขตจตุจักร', 'areaEN': 'Chatuchak Park, Chatuchak, Bangkok', 'stationType': 'BKK', 'lat': '13.802546', 'long': '100.5509191', 'forecast': [], 'AQILast': {'date': '2024-12-15', 'time': '19:00', 'PM25': {'color_id': '2', 'aqi': '28', 'value': '16.0'}, 'PM10': {'color_id': '0', 'aqi': '-999', 'value': '-1'}, 'O3': {'color_id': '0', 'aqi': '-999', 'value': '-1'}, 'CO': {'color_id': '0', 'aqi': '-999', 'value': '-1'}, 'NO2': {'color_id': '0', 'aqi': '-999', 'value': '-1'}, 'SO2': {'color_id': '0', 'aqi': '-999', 'value': '-1'}, 'AQI': {'color_id': '2', 'aqi': '28', 'param': 'PM25'}}}, {'stationID': 'bkp117t', 'nameTH': 'สวนหลวง ร.9 ถนนเฉลิมพระเกียรติ ร.9 แขวงหนองบอน เขตประเวศ', 'nameEN': 'Suan Luang Rama IX', 'areaTH': 'สวนหลวง ร.9 เขตประเวศ', 'areaEN': 'Suan Luang Rama IX, Pravet, Bangkok', 'stationType': 'BKK', 'lat': '13.6881393', 'long': '100.6579657', 'forecast': [], 'AQILast': {'date': '2024-12-15', 'time': '19:00', 'PM25': {'color_id': '1', 'aqi': '20', 'value': '11.9'}, 'PM10': {'color_id': '0', 'aqi': '-999', 'value': '-1'}, 'O3': {'color_id': '0', 'aqi': '-999', 'value': '-1'}, 'CO': {'color_id': '0', 'aqi': '-999', 'value': '-1'}, 'NO2': {'color_id': '0', 'aqi': '-999', 'value': '-1'}, 'SO2': {'color_id': '0', 'aqi': '-999', 'value': '-1'}, 'AQI': {'color_id': '1', 'aqi': '20', 'param': 'PM25'}}}, {'stationID': 'bkp118t', 'nameTH': 'สวน 60 พรรษาสมเด็จพระนางเจ้าพระบรมราชินีนาถ ถนนเคหะร่มเกล้า เขตลาดกระบัง', 'nameEN': '60th Anniversary of Queen Sirikit Park ,Kheha Romklao Road, Lat Krabang, Bangkok', 'areaTH': 'สวน 60 พรรษาสมเด็จพระนางเจ้าพระบรมราชินีนาถ เขตลาดกระบัง', 'areaEN': '60th Anniversary of Queen Sirikit Park, Lat Krabang, Bangkok', 'stationType': 'BKK', 'lat': '13.7631141', 'long': '100.7302101', 'forecast': [], 'AQILast': {'date': '2024-12-15', 'time': '19:00', 'PM25': {'color_id': '2', 'aqi': '32', 'value': '17.7'}, 'PM10': {'color_id': '0', 'aqi': '-999', 'value': '-1'}, 'O3': {'color_id': '0', 'aqi': '-999', 'value': '-1'}, 'CO': {'color_id': '0', 'aqi': '-999', 'value': '-1'}, 'NO2': {'color_id': '0', 'aqi': '-999', 'value': '-1'}, 'SO2': {'color_id': '0', 'aqi': '-999', 'value': '-1'}, 'AQI': {'color_id': '2', 'aqi': '32', 'param': 'PM25'}}}, {'stationID': 'bkp119t', 'nameTH': 'อุทยานเบญจสิริ', 'nameEN': 'Benchasiri Park', 'areaTH': 'อุทยานเบญจสิริ เขตคลองเตย', 'areaEN': 'Benchasiri Park, Klong Toei, Bangkok', 'stationType': 'BKK', 'lat': '13.7304916', 'long': '100.5684634', 'forecast': [], 'AQILast': {'date': '2024-12-15', 'time': '19:00', 'PM25': {'color_id': '2', 'aqi': '26', 'value': '15.2'}, 'PM10': {'color_id': '0', 'aqi': '-999', 'value': '-1'}, 'O3': {'color_id': '0', 'aqi': '-999', 'value': '-1'}, 'CO': {'color_id': '0', 'aqi': '-999', 'value': '-1'}, 'NO2': {'color_id': '0', 'aqi': '-999', 'value': '-1'}, 'SO2': {'color_id': '0', 'aqi': '-999', 'value': '-1'}, 'AQI': {'color_id': '2', 'aqi': '26', 'param': 'PM25'}}}, {'stationID': 'bkp120t', 'nameTH': 'สวนรมณีย์ทุ่งสีกัน', 'nameEN': 'Rommani Thungsikan Park', 'areaTH': 'สวนรมณีย์ทุ่งสีกัน เขตดอนเมือง', 'areaEN': 'Rommani Thungsikan Park, Don Mueang, Bangkok', 'stationType': 'BKK', 'lat': '13.9288678', 'long': '100.5684666', 'forecast': [], 'AQILast': {'date': '2024-12-15', 'time': '19:00', 'PM25': {'color_id': '2', 'aqi': '39', 'value': '20.3'}, 'PM10': {'color_id': '0', 'aqi': '-999', 'value': '-1'}, 'O3': {'color_id': '0', 'aqi': '-999', 'value': '-1'}, 'CO': {'color_id': '0', 'aqi': '-999', 'value': '-1'}, 'NO2': {'color_id': '0', 'aqi': '-999', 'value': '-1'}, 'SO2': {'color_id': '0', 'aqi': '-999', 'value': '-1'}, 'AQI': {'color_id': '2', 'aqi': '39', 'param': 'PM25'}}}, {'stationID': 'bkp121t', 'nameTH': 'สวนธนบุรีรมย์', 'nameEN': 'Thonburirom Park', 'areaTH': 'สวนธนบุรีรมย์ เขตทุ่งครุ', 'areaEN': 'Thonburirom Park, Thung Khru, Bangkok', 'stationType': 'BKK', 'lat': '13.6502295', 'long': '100.4909771', 'forecast': [], 'AQILast': {'date': '2024-12-15', 'time': '19:00', 'PM25': {'color_id': '2', 'aqi': '35', 'value': '18.7'}, 'PM10': {'color_id': '0', 'aqi': '-999', 'value': '-1'}, 'O3': {'color_id': '0', 'aqi': '-999', 'value': '-1'}, 'CO': {'color_id': '0', 'aqi': '-999', 'value': '-1'}, 'NO2': {'color_id': '0', 'aqi': '-999', 'value': '-1'}, 'SO2': {'color_id': '0', 'aqi': '-999', 'value': '-1'}, 'AQI': {'color_id': '2', 'aqi': '35', 'param': 'PM25'}}}, {'stationID': 'bkp122t', 'nameTH': 'สวนเบญจกิติ', 'nameEN': 'Benjakitti Park', 'areaTH': 'สวนเบญจกิติ เขตคลองเตย', 'areaEN': 'Benjakitti Park, Khlong Toei, Bangkok', 'stationType': 'BKK', 'lat': '13.7328791', 'long': '100.5600172', 'forecast': [], 'AQILast': {'date': '2024-12-15', 'time': '18:00', 'PM25': {'color_id': '2', 'aqi': '29', 'value': '16.2'}, 'PM10': {'color_id': '0', 'aqi': '-999', 'value': '-1'}, 'O3': {'color_id': '0', 'aqi': '-999', 'value': '-1'}, 'CO': {'color_id': '0', 'aqi': '-999', 'value': '-1'}, 'NO2': {'color_id': '0', 'aqi': '-999', 'value': '-1'}, 'SO2': {'color_id': '0', 'aqi': '-999', 'value': '-1'}, 'AQI': {'color_id': '2', 'aqi': '29', 'param': 'PM25'}}}, {'stationID': 'bkp123t', 'nameTH': 'สวนสมเด็จพระนางเจ้าสิริกิติ์ฯ', 'nameEN': 'Queen Sirikit Park', 'areaTH': 'สวนสมเด็จพระนางเจ้าสิริกิติ์ฯ เขตจตุจักร', 'areaEN': 'Queen Sirikit Park, Chatuchak, Bangkok', 'stationType': 'BKK', 'lat': '13.8055472', 'long': '100.5488338', 'forecast': [], 'AQILast': {'date': '2024-12-15', 'time': '19:00', 'PM25': {'color_id': '1', 'aqi': '23', 'value': '13.8'}, 'PM10': {'color_id': '0', 'aqi': '-999', 'value': '-1'}, 'O3': {'color_id': '0', 'aqi': '-999', 'value': '-1'}, 'CO': {'color_id': '0', 'aqi': '-999', 'value': '-1'}, 'NO2': {'color_id': '0', 'aqi': '-999', 'value': '-1'}, 'SO2': {'color_id': '0', 'aqi': '-999', 'value': '-1'}, 'AQI': {'color_id': '1', 'aqi': '23', 'param': 'PM25'}}}, {'stationID': 'bkp124t', 'nameTH': 'สวนเฉลิมพระเกียรติ 80 พรรษา', 'nameEN': '80th Anniversary Commemoration Park', 'areaTH': 'สวนเฉลิมพระเกียรติ 80 พรรษา เขตบางกอกน้อย', 'areaEN': '80th Anniversary Commemoration Park, Bangkok Noi, Bangkok', 'stationType': 'BKK', 'lat': '13.7716446', 'long': '100.4681128', 'forecast': [], 'AQILast': {'date': '2024-12-15', 'time': '19:00', 'PM25': {'color_id': '2', 'aqi': '40', 'value': '20.7'}, 'PM10': {'color_id': '0', 'aqi': '-999', 'value': '-1'}, 'O3': {'color_id': '0', 'aqi': '-999', 'value': '-1'}, 'CO': {'color_id': '0', 'aqi': '-999', 'value': '-1'}, 'NO2': {'color_id': '0', 'aqi': '-999', 'value': '-1'}, 'SO2': {'color_id': '0', 'aqi': '-999', 'value': '-1'}, 'AQI': {'color_id': '2', 'aqi': '40', 'param': 'PM25'}}}, {'stationID': 'bkp125t', 'nameTH': 'สวนเสรีไทย', 'nameEN': 'Serithai Park', 'areaTH': 'สวนเสรีไทย เขตบึงกุ่ม', 'areaEN': 'Serithai Park, Bueng Kum, Bangkok', 'stationType': 'BKK', 'lat': '13.7855673', 'long': '100.6733359', 'forecast': [], 'AQILast': {'date': '2024-12-15', 'time': '19:00', 'PM25': {'color_id': '2', 'aqi': '37', 'value': '19.5'}, 'PM10': {'color_id': '0', 'aqi': '-999', 'value': '-1'}, 'O3': {'color_id': '0', 'aqi': '-999', 'value': '-1'}, 'CO': {'color_id': '0', 'aqi': '-999', 'value': '-1'}, 'NO2': {'color_id': '0', 'aqi': '-999', 'value': '-1'}, 'SO2': {'color_id': '0', 'aqi': '-999', 'value': '-1'}, 'AQI': {'color_id': '2', 'aqi': '37', 'param': 'PM25'}}}, {'stationID': 'bkp126t', 'nameTH': 'สวนบางแคภิรมย์', 'nameEN': 'Bang Khae Phirom Park', 'areaTH': 'สวนบางแคภิรมย์ เขตบางแค', 'areaEN': 'Bang Khae Phirom Park, Bang Khae, Bangkok', 'stationType': 'BKK', 'lat': '13.6863478', 'long': '100.3844036', 'forecast': [], 'AQILast': {'date': '2024-12-15', 'time': '19:00', 'PM25': {'color_id': '2', 'aqi': '34', 'value': '18.5'}, 'PM10': {'color_id': '0', 'aqi': '-999', 'value': '-1'}, 'O3': {'color_id': '0', 'aqi': '-999', 'value': '-1'}, 'CO': {'color_id': '0', 'aqi': '-999', 'value': '-1'}, 'NO2': {'color_id': '0', 'aqi': '-999', 'value': '-1'}, 'SO2': {'color_id': '0', 'aqi': '-999', 'value': '-1'}, 'AQI': {'color_id': '2', 'aqi': '34', 'param': 'PM25'}}}, {'stationID': 'bkp127t', 'nameTH': 'สวนทวีวนารมย์', 'nameEN': 'Thawee Wanarom Park', 'areaTH': 'สวนทวีวนารมย์ เขตทวีวัฒนา', 'areaEN': 'Thawee Wanarom Park, Thawi Watthana, Bangkok', 'stationType': 'BKK', 'lat': '13.7435329', 'long': '100.3526893', 'forecast': [], 'AQILast': {'date': '2024-12-15', 'time': '19:00', 'PM25': {'color_id': '2', 'aqi': '31', 'value': '17.2'}, 'PM10': {'color_id': '0', 'aqi': '-999', 'value': '-1'}, 'O3': {'color_id': '0', 'aqi': '-999', 'value': '-1'}, 'CO': {'color_id': '0', 'aqi': '-999', 'value': '-1'}, 'NO2': {'color_id': '0', 'aqi': '-999', 'value': '-1'}, 'SO2': {'color_id': '0', 'aqi': '-999', 'value': '-1'}, 'AQI': {'color_id': '2', 'aqi': '31', 'param': 'PM25'}}}, {'stationID': 'bkp128t', 'nameTH': 'สวนพระนคร', 'nameEN': 'Phra Nakhon Park', 'areaTH': 'สวนพระนคร เขตลาดกระบัง', 'areaEN': 'Phra Nakhon Park, Lat Krabang, Bangkok', 'stationType': 'BKK', 'lat': '13.7201042', 'long': '100.7807077', 'forecast': [], 'AQILast': {'date': '2024-12-15', 'time': '19:00', 'PM25': {'color_id': '1', 'aqi': '21', 'value': '12.7'}, 'PM10': {'color_id': '0', 'aqi': '-999', 'value': '-1'}, 'O3': {'color_id': '0', 'aqi': '-999', 'value': '-1'}, 'CO': {'color_id': '0', 'aqi': '-999', 'value': '-1'}, 'NO2': {'color_id': '0', 'aqi': '-999', 'value': '-1'}, 'SO2': {'color_id': '0', 'aqi': '-999', 'value': '-1'}, 'AQI': {'color_id': '1', 'aqi': '21', 'param': 'PM25'}}}, {'stationID': 'bkp129t', 'nameTH': 'สวนหนองจอก', 'nameEN': 'Nong Chok Park', 'areaTH': 'สวนหนองจอก เขตหนองจอก', 'areaEN': 'Nong Chok Park, Nong Chok, Bangkok', 'stationType': 'BKK', 'lat': '13.855656', 'long': '100.8585539', 'forecast': [], 'AQILast': {'date': '2024-12-15', 'time': '19:00', 'PM25': {'color_id': '1', 'aqi': '22', 'value': '13.1'}, 'PM10': {'color_id': '0', 'aqi': '-999', 'value': '-1'}, 'O3': {'color_id': '0', 'aqi': '-999', 'value': '-1'}, 'CO': {'color_id': '0', 'aqi': '-999', 'value': '-1'}, 'NO2': {'color_id': '0', 'aqi': '-999', 'value': '-1'}, 'SO2': {'color_id': '0', 'aqi': '-999', 'value': '-1'}, 'AQI': {'color_id': '1', 'aqi': '22', 'param': 'PM25'}}}, {'stationID': 'bkp130t', 'nameTH': 'สวนกีฬารามอินทรา', 'nameEN': 'Ramintra Sports Park', 'areaTH': 'สวนกีฬารามอินทรา เขตบางเขน', 'areaEN': 'Ramintra Sports Park, Bang Khen, Bangkok', 'stationType': 'BKK', 'lat': '13.8778763', 'long': '100.6207085', 'forecast': [], 'AQILast': {'date': '2024-12-15', 'time': '19:00', 'PM25': {'color_id': '2', 'aqi': '28', 'value': '15.8'}, 'PM10': {'color_id': '0', 'aqi': '-999', 'value': '-1'}, 'O3': {'color_id': '0', 'aqi': '-999', 'value': '-1'}, 'CO': {'color_id': '0', 'aqi': '-999', 'value': '-1'}, 'NO2': {'color_id': '0', 'aqi': '-999', 'value': '-1'}, 'SO2': {'color_id': '0', 'aqi': '-999', 'value': '-1'}, 'AQI': {'color_id': '2', 'aqi': '28', 'param': 'PM25'}}}, {'stationID': 'bkp131t', 'nameTH': 'สวนสาธารณะเฉลิมพระเกียรติ 6 รอบพระชนมพรรษา', 'nameEN': 'Public Park to commemorate the sixth anniversary of His Majesty the King', 'areaTH': 'สวนสาธารณะเฉลิมพระเกียรติ 6 รอบพระชนมพรรษา เขตบางคอแหลม', 'areaEN': 'Public Park to commemorate the sixth anniversary of His Majesty the King, Bang Kho Laem, Bangkok', 'stationType': 'BKK', 'lat': '13.697252', 'long': '100.497185', 'forecast': [], 'AQILast': {'date': '2024-12-15', 'time': '19:00', 'PM25': {'color_id': '2', 'aqi': '32', 'value': '17.7'}, 'PM10': {'color_id': '0', 'aqi': '-999', 'value': '-1'}, 'O3': {'color_id': '0', 'aqi': '-999', 'value': '-1'}, 'CO': {'color_id': '0', 'aqi': '-999', 'value': '-1'}, 'NO2': {'color_id': '0', 'aqi': '-999', 'value': '-1'}, 'SO2': {'color_id': '0', 'aqi': '-999', 'value': '-1'}, 'AQI': {'color_id': '2', 'aqi': '32', 'param': 'PM25'}}}, {'stationID': 'bkp133t', 'nameTH': 'สวนหลวงพระราม 8', 'nameEN': 'Rama VIII Park', 'areaTH': 'สวนหลวงพระราม 8 เขตบางพลัด', 'areaEN': 'Rama VIII Park, Bang Plad, Bangkok', 'stationType': 'BKK', 'lat': '13.7693437', 'long': '100.4945337', 'forecast': [], 'AQILast': {'date': '2024-12-15', 'time': '19:00', 'PM25': {'color_id': '2', 'aqi': '34', 'value': '18.2'}, 'PM10': {'color_id': '0', 'aqi': '-999', 'value': '-1'}, 'O3': {'color_id': '0', 'aqi': '-999', 'value': '-1'}, 'CO': {'color_id': '0', 'aqi': '-999', 'value': '-1'}, 'NO2': {'color_id': '0', 'aqi': '-999', 'value': '-1'}, 'SO2': {'color_id': '0', 'aqi': '-999', 'value': '-1'}, 'AQI': {'color_id': '2', 'aqi': '34', 'param': 'PM25'}}}, {'stationID': 'bkp56t', 'nameTH': 'สำนักงานเขตดินแดง กรุงเทพฯ', 'nameEN': 'Din Dang, Bangkok', 'areaTH': 'ริมถนนวิภาวดีรังสิต, เขตดินแดง, กรุงเทพฯ', 'areaEN': 'Din Dang, Bangkok', 'stationType': 'BKK', 'lat': '13.7619223', 'long': '100.558606', 'forecast': [], 'AQILast': {'date': '2024-12-15', 'time': '19:00', 'PM25': {'color_id': '2', 'aqi': '32', 'value': '17.7'}, 'PM10': {'color_id': '0', 'aqi': '-999', 'value': '-1'}, 'O3': {'color_id': '0', 'aqi': '-999', 'value': '-1'}, 'CO': {'color_id': '0', 'aqi': '-999', 'value': '-1'}, 'NO2': {'color_id': '0', 'aqi': '-999', 'value': '-1'}, 'SO2': {'color_id': '0', 'aqi': '-999', 'value': '-1'}, 'AQI': {'color_id': '2', 'aqi': '32', 'param': 'PM25'}}}, {'stationID': 'bkp57t', 'nameTH': 'สำนักงานเขตพระโขนง กรุงเทพฯ', 'nameEN': 'Phra Kanong District Office,  Bangkok', 'areaTH': 'ริมถนนสุขุมวิท เขตพระโขนง, กรุงเทพฯ', 'areaEN': 'Phra Kanong, Bangkok', 'stationType': 'BKK', 'lat': '13.691511', 'long': '100.61457', 'forecast': [], 'AQILast': {'date': '2024-12-15', 'time': '19:00', 'PM25': {'color_id': '2', 'aqi': '49', 'value': '24.7'}, 'PM10': {'color_id': '0', 'aqi': '-999', 'value': '-1'}, 'O3': {'color_id': '0', 'aqi': '-999', 'value': '-1'}, 'CO': {'color_id': '0', 'aqi': '-999', 'value': '-1'}, 'NO2': {'color_id': '0', 'aqi': '-999', 'value': '-1'}, 'SO2': {'color_id': '0', 'aqi': '-999', 'value': '-1'}, 'AQI': {'color_id': '2', 'aqi': '49', 'param': 'PM25'}}}, {'stationID': 'bkp58t', 'nameTH': 'สำนักงานเขตราษฎร์บูรณะ กรุงเทพฯ', 'nameEN': 'Rat Burana District Office,  Bangkok', 'areaTH': 'ริมถนนราษฎร์บูรณะ, เขตราษฎร์บูรณะ, กรุงเทพฯ', 'areaEN': 'Rat Burana, Bangkok', 'stationType': 'BKK', 'lat': '13.6821364', 'long': '100.5060513', 'forecast': [], 'AQILast': {'date': '2024-12-15', 'time': '19:00', 'PM25': {'color_id': '2', 'aqi': '46', 'value': '23.4'}, 'PM10': {'color_id': '0', 'aqi': '-999', 'value': '-1'}, 'O3': {'color_id': '0', 'aqi': '-999', 'value': '-1'}, 'CO': {'color_id': '0', 'aqi': '-999', 'value': '-1'}, 'NO2': {'color_id': '0', 'aqi': '-999', 'value': '-1'}, 'SO2': {'color_id': '0', 'aqi': '-999', 'value': '-1'}, 'AQI': {'color_id': '2', 'aqi': '46', 'param': 'PM25'}}}, {'stationID': 'bkp59t', 'nameTH': 'สำนักงานเขตราชเทวี กรุงเทพฯ', 'nameEN': 'Ratchathewi District Office, Bangkok', 'areaTH': 'ริมถนนพญาไท เขตราชเทวี, กรุงเทพฯ', 'areaEN': 'Phayathai Roadside, Ratchathewi, Bangkok', 'stationType': 'BKK', 'lat': '13.7590851', 'long': '100.5345788', 'forecast': [], 'AQILast': {'date': '2024-12-15', 'time': '19:00', 'PM25': {'color_id': '2', 'aqi': '32', 'value': '17.6'}, 'PM10': {'color_id': '0', 'aqi': '-999', 'value': '-1'}, 'O3': {'color_id': '0', 'aqi': '-999', 'value': '-1'}, 'CO': {'color_id': '0', 'aqi': '-999', 'value': '-1'}, 'NO2': {'color_id': '0', 'aqi': '-999', 'value': '-1'}, 'SO2': {'color_id': '0', 'aqi': '-999', 'value': '-1'}, 'AQI': {'color_id': '2', 'aqi': '32', 'param': 'PM25'}}}, {'stationID': 'bkp60t', 'nameTH': 'ริมสวนหย่อมตรงข้ามสำนักงานเขตดุสิต', 'nameEN': 'Dusit District Office, Bangkok', 'areaTH': 'ริมถนนพระราม 5 เขตดุสิต, กรุงเทพฯ', 'areaEN': 'RamaV Roadside, Dusit, Bangkok', 'stationType': 'BKK', 'lat': '13.776664', 'long': '100.520982', 'forecast': [], 'AQILast': {'date': '2024-12-15', 'time': '19:00', 'PM25': {'color_id': '2', 'aqi': '31', 'value': '17.1'}, 'PM10': {'color_id': '0', 'aqi': '-999', 'value': '-1'}, 'O3': {'color_id': '0', 'aqi': '-999', 'value': '-1'}, 'CO': {'color_id': '0', 'aqi': '-999', 'value': '-1'}, 'NO2': {'color_id': '0', 'aqi': '-999', 'value': '-1'}, 'SO2': {'color_id': '0', 'aqi': '-999', 'value': '-1'}, 'AQI': {'color_id': '2', 'aqi': '31', 'param': 'PM25'}}}, {'stationID': 'bkp61t', 'nameTH': 'สำนักงานคณะกรรมการพัฒนาเศรษฐกิจและสังคมแห่งชาติ', 'nameEN': 'National Economic and Social Development Council Office', 'areaTH': 'ริมถนนกรุงเกษม เขตป้อมปราบศัตรูพ่าย, กรุงเทพฯ', 'areaEN': 'Krung Kasem Roadside, Pom Prap Sattru Phai, Bangkok', 'stationType': 'BKK', 'lat': '13.756281', 'long': '100.514267', 'forecast': [], 'AQILast': {'date': '2024-12-15', 'time': '19:00', 'PM25': {'color_id': '2', 'aqi': '45', 'value': '22.9'}, 'PM10': {'color_id': '0', 'aqi': '-999', 'value': '-1'}, 'O3': {'color_id': '0', 'aqi': '-999', 'value': '-1'}, 'CO': {'color_id': '0', 'aqi': '-999', 'value': '-1'}, 'NO2': {'color_id': '0', 'aqi': '-999', 'value': '-1'}, 'SO2': {'color_id': '0', 'aqi': '-999', 'value': '-1'}, 'AQI': {'color_id': '2', 'aqi': '45', 'param': 'PM25'}}}, {'stationID': 'bkp62t', 'nameTH': 'วงเวียนโอเดียน', 'nameEN': 'Odeon Circus', 'areaTH': 'ริมถนนตรีมิตร วงเวียนโอเดียน์ เขตสัมพันธวงศ์, กรุงเทพฯ', 'areaEN': 'TheeMitr Roadside, Samphanthawong, Bangkok', 'stationType': 'BKK', 'lat': '13.737136', 'long': '100.512734', 'forecast': [], 'AQILast': {'date': '2024-12-15', 'time': '19:00', 'PM25': {'color_id': '2', 'aqi': '49', 'value': '24.5'}, 'PM10': {'color_id': '0', 'aqi': '-999', 'value': '-1'}, 'O3': {'color_id': '0', 'aqi': '-999', 'value': '-1'}, 'CO': {'color_id': '0', 'aqi': '-999', 'value': '-1'}, 'NO2': {'color_id': '0', 'aqi': '-999', 'value': '-1'}, 'SO2': {'color_id': '0', 'aqi': '-999', 'value': '-1'}, 'AQI': {'color_id': '2', 'aqi': '49', 'param': 'PM25'}}}, {'stationID': 'bkp63t', 'nameTH': 'แฟลตทหารบก สามเสน', 'nameEN': 'Army Apartment Sam Sen', 'areaTH': 'ริมถนนพระราม 6 เขตพญาไท, กรุงเทพฯ', 'areaEN': 'RamaVI Roadside, Phaya Thai, Bangkok', 'stationType': 'BKK', 'lat': '13.783554', 'long': '100.5344645', 'forecast': [], 'AQILast': {'date': '2024-12-15', 'time': '19:00', 'PM25': {'color_id': '2', 'aqi': '46', 'value': '23.2'}, 'PM10': {'color_id': '0', 'aqi': '-999', 'value': '-1'}, 'O3': {'color_id': '0', 'aqi': '-999', 'value': '-1'}, 'CO': {'color_id': '0', 'aqi': '-999', 'value': '-1'}, 'NO2': {'color_id': '0', 'aqi': '-999', 'value': '-1'}, 'SO2': {'color_id': '0', 'aqi': '-999', 'value': '-1'}, 'AQI': {'color_id': '2', 'aqi': '46', 'param': 'PM25'}}}, {'stationID': 'bkp64t', 'nameTH': 'สำนักงานเขตวังทองหลาง', 'nameEN': 'Wang Thonglang District Office, Bangkok', 'areaTH': 'ริมถนนลาดพร้าว ซอยลาดพร้าว 95 เขตวังทองหลาง, กรุงเทพฯ', 'areaEN': 'Lat Phrao Rd Soi 95, Wang Thonglang, Bangkok', 'stationType': 'BKK', 'lat': '13.778981', 'long': '100.622294', 'forecast': [], 'AQILast': {'date': '2024-12-15', 'time': '19:00', 'PM25': {'color_id': '2', 'aqi': '48', 'value': '24.0'}, 'PM10': {'color_id': '0', 'aqi': '-999', 'value': '-1'}, 'O3': {'color_id': '0', 'aqi': '-999', 'value': '-1'}, 'CO': {'color_id': '0', 'aqi': '-999', 'value': '-1'}, 'NO2': {'color_id': '0', 'aqi': '-999', 'value': '-1'}, 'SO2': {'color_id': '0', 'aqi': '-999', 'value': '-1'}, 'AQI': {'color_id': '2', 'aqi': '48', 'param': 'PM25'}}}, {'stationID': 'bkp65t', 'nameTH': 'สามย่านมิตรทาวน์', 'nameEN': 'Samyan Mitrtown', 'areaTH': 'ริมถนนพระรามที่ 4 หน้าสามย่านมิตรทาวน์ เขตปทุมวัน, กรุงเทพฯ', 'areaEN': 'RamaIV Roadside, Pathum Wan, Bangkok', 'stationType': 'BKK', 'lat': '13.733136', 'long': '100.52829', 'forecast': [], 'AQILast': {'date': '2024-12-15', 'time': '19:00', 'PM25': {'color_id': '2', 'aqi': '28', 'value': '15.9'}, 'PM10': {'color_id': '0', 'aqi': '-999', 'value': '-1'}, 'O3': {'color_id': '0', 'aqi': '-999', 'value': '-1'}, 'CO': {'color_id': '0', 'aqi': '-999', 'value': '-1'}, 'NO2': {'color_id': '0', 'aqi': '-999', 'value': '-1'}, 'SO2': {'color_id': '0', 'aqi': '-999', 'value': '-1'}, 'AQI': {'color_id': '2', 'aqi': '28', 'param': 'PM25'}}}, {'stationID': 'bkp66t', 'nameTH': 'ลานบางรักเลิฟลี่ พลาซ่า', 'nameEN': 'Bangrak Lovely Plaza', 'areaTH': 'ริมถนนนราธิวาส เขตบางรัก, กรุงเทพฯ', 'areaEN': 'Narathiwat Roadside, Bang Rak, Bangkok', 'stationType': 'BKK', 'lat': '13.726136', 'long': '100.528055', 'forecast': [], 'AQILast': {'date': '2024-12-15', 'time': '19:00', 'PM25': {'color_id': '2', 'aqi': '46', 'value': '23.4'}, 'PM10': {'color_id': '0', 'aqi': '-999', 'value': '-1'}, 'O3': {'color_id': '0', 'aqi': '-999', 'value': '-1'}, 'CO': {'color_id': '0', 'aqi': '-999', 'value': '-1'}, 'NO2': {'color_id': '0', 'aqi': '-999', 'value': '-1'}, 'SO2': {'color_id': '0', 'aqi': '-999', 'value': '-1'}, 'AQI': {'color_id': '2', 'aqi': '46', 'param': 'PM25'}}}, {'stationID': 'bkp67t', 'nameTH': 'สำนักงานเขตสาทร', 'nameEN': 'Sathon District Office, Bangkok', 'areaTH': 'แขวงทุ่งวัดดอน เขตสาทร, กรุงเทพฯ', 'areaEN': 'Thung Wat Don, Sathon, Bangkok', 'stationType': 'BKK', 'lat': '13.707763', 'long': '100.526787', 'forecast': [], 'AQILast': {'date': '2024-12-15', 'time': '19:00', 'PM25': {'color_id': '2', 'aqi': '36', 'value': '19.2'}, 'PM10': {'color_id': '0', 'aqi': '-999', 'value': '-1'}, 'O3': {'color_id': '0', 'aqi': '-999', 'value': '-1'}, 'CO': {'color_id': '0', 'aqi': '-999', 'value': '-1'}, 'NO2': {'color_id': '0', 'aqi': '-999', 'value': '-1'}, 'SO2': {'color_id': '0', 'aqi': '-999', 'value': '-1'}, 'AQI': {'color_id': '2', 'aqi': '36', 'param': 'PM25'}}}, {'stationID': 'bkp69t', 'nameTH': 'ธนาคารกรุงศรีอยุธยา สำนักงานใหญ่', 'nameEN': 'Bank of Ayuthaya Head Office Yan Nawa, Bangkok', 'areaTH': 'ริมถนนพระราม 3 เขตยานนาวา, กรุงเทพฯ', 'areaEN': 'RamaIII Roadside, Yan Nawa, Bangkok', 'stationType': 'BKK', 'lat': '13.679226', 'long': '100.54687', 'forecast': [], 'AQILast': {'date': '2024-12-15', 'time': '19:00', 'PM25': {'color_id': '2', 'aqi': '30', 'value': '16.8'}, 'PM10': {'color_id': '0', 'aqi': '-999', 'value': '-1'}, 'O3': {'color_id': '0', 'aqi': '-999', 'value': '-1'}, 'CO': {'color_id': '0', 'aqi': '-999', 'value': '-1'}, 'NO2': {'color_id': '0', 'aqi': '-999', 'value': '-1'}, 'SO2': {'color_id': '0', 'aqi': '-999', 'value': '-1'}, 'AQI': {'color_id': '2', 'aqi': '30', 'param': 'PM25'}}}, {'stationID': 'bkp70t', 'nameTH': 'ริมถนนซอยสุขุมวิท 63', 'nameEN': 'Soi Sukhumwit 63 Roadside Wattana, Bangkok', 'areaTH': 'ริมถนนซอยสุขุมวิท 63 เขตวัฒนา, กรุงเทพฯ', 'areaEN': 'Soi Sukhumwit 63 Roadside, Wattana, Bangkok', 'stationType': 'BKK', 'lat': '13.722096', 'long': '100.584559', 'forecast': [], 'AQILast': {'date': '2024-12-15', 'time': '19:00', 'PM25': {'color_id': '1', 'aqi': '22', 'value': '13.2'}, 'PM10': {'color_id': '0', 'aqi': '-999', 'value': '-1'}, 'O3': {'color_id': '0', 'aqi': '-999', 'value': '-1'}, 'CO': {'color_id': '0', 'aqi': '-999', 'value': '-1'}, 'NO2': {'color_id': '0', 'aqi': '-999', 'value': '-1'}, 'SO2': {'color_id': '0', 'aqi': '-999', 'value': '-1'}, 'AQI': {'color_id': '1', 'aqi': '22', 'param': 'PM25'}}}, {'stationID': 'bkp71t', 'nameTH': 'สำนักงานเขตสวนหลวง', 'nameEN': 'Suan Luang District Office, Bangkok', 'areaTH': 'ริมถนนพัฒนาการ เขตสวนหลวง, กรุงเทพฯ', 'areaEN': 'Suan Luang, Bangkok', 'stationType': 'BKK', 'lat': '13.731051', 'long': '100.651705', 'forecast': [], 'AQILast': {'date': '2024-12-15', 'time': '19:00', 'PM25': {'color_id': '1', 'aqi': '25', 'value': '15.0'}, 'PM10': {'color_id': '0', 'aqi': '-999', 'value': '-1'}, 'O3': {'color_id': '0', 'aqi': '-999', 'value': '-1'}, 'CO': {'color_id': '0', 'aqi': '-999', 'value': '-1'}, 'NO2': {'color_id': '0', 'aqi': '-999', 'value': '-1'}, 'SO2': {'color_id': '0', 'aqi': '-999', 'value': '-1'}, 'AQI': {'color_id': '1', 'aqi': '25', 'param': 'PM25'}}}, {'stationID': 'bkp72t', 'nameTH': 'บิ๊กซี ซุปเปอร์เซ็นเตอร์ บางนา', 'nameEN': 'Big C Supercenter Bang Na', 'areaTH': 'ริมถนนบางนา-ตราด เขตบางนา, กรุงเทพฯ', 'areaEN': 'Bang Na-Trat Roadside, Bang na, Bangkok', 'stationType': 'BKK', 'lat': '13.667987', 'long': '100.635313', 'forecast': [], 'AQILast': {'date': '2024-12-15', 'time': '19:00', 'PM25': {'color_id': '2', 'aqi': '42', 'value': '21.6'}, 'PM10': {'color_id': '0', 'aqi': '-999', 'value': '-1'}, 'O3': {'color_id': '0', 'aqi': '-999', 'value': '-1'}, 'CO': {'color_id': '0', 'aqi': '-999', 'value': '-1'}, 'NO2': {'color_id': '0', 'aqi': '-999', 'value': '-1'}, 'SO2': {'color_id': '0', 'aqi': '-999', 'value': '-1'}, 'AQI': {'color_id': '2', 'aqi': '42', 'param': 'PM25'}}}, {'stationID': 'bkp73t', 'nameTH': 'มหาวิทยาลัยเกษตรศาสตร์', 'nameEN': 'Kasertsart University', 'areaTH': 'ริมถนนพหลโยธิน แยก ม.เกษตรศาสตร์ เขตจตุจักร, กรุงเทพฯ', 'areaEN': 'Kasertsart Intersection, Chatuchak, Bangkok', 'stationType': 'BKK', 'lat': '13.839923', 'long': '100.575632', 'forecast': [], 'AQILast': {'date': '2024-12-15', 'time': '19:00', 'PM25': {'color_id': '2', 'aqi': '30', 'value': '16.8'}, 'PM10': {'color_id': '0', 'aqi': '-999', 'value': '-1'}, 'O3': {'color_id': '0', 'aqi': '-999', 'value': '-1'}, 'CO': {'color_id': '0', 'aqi': '-999', 'value': '-1'}, 'NO2': {'color_id': '0', 'aqi': '-999', 'value': '-1'}, 'SO2': {'color_id': '0', 'aqi': '-999', 'value': '-1'}, 'AQI': {'color_id': '2', 'aqi': '30', 'param': 'PM25'}}}, {'stationID': 'bkp74t', 'nameTH': 'สำนักงานเขตดอนเมือง', 'nameEN': 'Don Mueng District Office, Bangkok', 'areaTH': 'เขตดอนเมือง, กรุงเทพฯ', 'areaEN': 'Don Mueng, Bangkok', 'stationType': 'BKK', 'lat': '13.910986', 'long': '100.594877', 'forecast': [], 'AQILast': {'date': '2024-12-15', 'time': '19:00', 'PM25': {'color_id': '2', 'aqi': '28', 'value': '15.9'}, 'PM10': {'color_id': '0', 'aqi': '-999', 'value': '-1'}, 'O3': {'color_id': '0', 'aqi': '-999', 'value': '-1'}, 'CO': {'color_id': '0', 'aqi': '-999', 'value': '-1'}, 'NO2': {'color_id': '0', 'aqi': '-999', 'value': '-1'}, 'SO2': {'color_id': '0', 'aqi': '-999', 'value': '-1'}, 'AQI': {'color_id': '2', 'aqi': '28', 'param': 'PM25'}}}, {'stationID': 'bkp75t', 'nameTH': 'สำนักงานเขตสายไหม', 'nameEN': 'Sai Mai District Office, Bangkok', 'areaTH': 'ริมถนนสุขาภิบาล5 เขตสายไหม, กรุงเทพฯ', 'areaEN': 'Sukhaphiban 5 Roadside, Sai Mai, Bangkok', 'stationType': 'BKK', 'lat': '13.896035', 'long': '100.660628', 'forecast': [], 'AQILast': {'date': '2024-12-15', 'time': '19:00', 'PM25': {'color_id': '2', 'aqi': '39', 'value': '20.6'}, 'PM10': {'color_id': '0', 'aqi': '-999', 'value': '-1'}, 'O3': {'color_id': '0', 'aqi': '-999', 'value': '-1'}, 'CO': {'color_id': '0', 'aqi': '-999', 'value': '-1'}, 'NO2': {'color_id': '0', 'aqi': '-999', 'value': '-1'}, 'SO2': {'color_id': '0', 'aqi': '-999', 'value': '-1'}, 'AQI': {'color_id': '2', 'aqi': '39', 'param': 'PM25'}}}, {'stationID': 'bkp76t', 'nameTH': 'สำนักงานเขตบางกะปิ', 'nameEN': 'Bang Kapi District Office, Bangkok', 'areaTH': 'ริมถนนนวมินทร์ แยกบางกะปิ เขตบางกะปิ, กรุงเทพฯ', 'areaEN': 'Navamin Roadside, Bang Kapi, Bangkok', 'stationType': 'BKK', 'lat': '13.766478', 'long': '100.647785', 'forecast': [], 'AQILast': {'date': '2024-12-15', 'time': '19:00', 'PM25': {'color_id': '2', 'aqi': '27', 'value': '15.6'}, 'PM10': {'color_id': '0', 'aqi': '-999', 'value': '-1'}, 'O3': {'color_id': '0', 'aqi': '-999', 'value': '-1'}, 'CO': {'color_id': '0', 'aqi': '-999', 'value': '-1'}, 'NO2': {'color_id': '0', 'aqi': '-999', 'value': '-1'}, 'SO2': {'color_id': '0', 'aqi': '-999', 'value': '-1'}, 'AQI': {'color_id': '2', 'aqi': '27', 'param': 'PM25'}}}, {'stationID': 'bkp77t', 'nameTH': 'แยกสวนสยาม-รามอินทรา', 'nameEN': 'Suan Sayam-Ram Intra Intersection', 'areaTH': 'แยกสวนสยาม-รามอินทรา เขตคันนายาว, กรุงเทพฯ', 'areaEN': 'Suan Sayam-Ram Intra Intersection Khan Na Yao, Bangkok', 'stationType': 'BKK', 'lat': '13.813844', 'long': '100.686594', 'forecast': [], 'AQILast': {'date': '2024-12-15', 'time': '19:00', 'PM25': {'color_id': '2', 'aqi': '35', 'value': '18.8'}, 'PM10': {'color_id': '0', 'aqi': '-999', 'value': '-1'}, 'O3': {'color_id': '0', 'aqi': '-999', 'value': '-1'}, 'CO': {'color_id': '0', 'aqi': '-999', 'value': '-1'}, 'NO2': {'color_id': '0', 'aqi': '-999', 'value': '-1'}, 'SO2': {'color_id': '0', 'aqi': '-999', 'value': '-1'}, 'AQI': {'color_id': '2', 'aqi': '35', 'param': 'PM25'}}}, {'stationID': 'bkp78t', 'nameTH': 'โรงพยาบาลลาดกระบัง', 'nameEN': 'Lat Krabang Hospital', 'areaTH': 'ริมถนนลาดกระบัง เขตลาดกระบัง, กรุงเทพฯ', 'areaEN': 'Lat Krabang Roadside, Lat Krabang, Bangkok', 'stationType': 'BKK', 'lat': '13.72205', 'long': '100.784069', 'forecast': [], 'AQILast': {'date': '2024-12-15', 'time': '19:00', 'PM25': {'color_id': '2', 'aqi': '38', 'value': '20.0'}, 'PM10': {'color_id': '0', 'aqi': '-999', 'value': '-1'}, 'O3': {'color_id': '0', 'aqi': '-999', 'value': '-1'}, 'CO': {'color_id': '0', 'aqi': '-999', 'value': '-1'}, 'NO2': {'color_id': '0', 'aqi': '-999', 'value': '-1'}, 'SO2': {'color_id': '0', 'aqi': '-999', 'value': '-1'}, 'AQI': {'color_id': '2', 'aqi': '38', 'param': 'PM25'}}}, {'stationID': 'bkp79t', 'nameTH': 'สวนเฉลิมพระเกียรติ ร.9', 'nameEN': 'Chaloem Phrakiat Rama 9 Park Min buri, Bangkok', 'areaTH': 'ริมถนนสีหบุรานุกิจ เขตมีนบุรี, กรุงเทพฯ', 'areaEN': 'Sihaburanukit Roadside, Meenburi, Bangkok', 'stationType': 'BKK', 'lat': '13.813578', 'long': '100.73208', 'forecast': [], 'AQILast': {'date': '2024-12-15', 'time': '19:00', 'PM25': {'color_id': '2', 'aqi': '30', 'value': '16.6'}, 'PM10': {'color_id': '0', 'aqi': '-999', 'value': '-1'}, 'O3': {'color_id': '0', 'aqi': '-999', 'value': '-1'}, 'CO': {'color_id': '0', 'aqi': '-999', 'value': '-1'}, 'NO2': {'color_id': '0', 'aqi': '-999', 'value': '-1'}, 'SO2': {'color_id': '0', 'aqi': '-999', 'value': '-1'}, 'AQI': {'color_id': '2', 'aqi': '30', 'param': 'PM25'}}}, {'stationID': 'bkp80t', 'nameTH': 'สำนักงานเขตหนองจอก', 'nameEN': 'Nong Chok District Office, Bangkok', 'areaTH': 'ริมถนนเลียบวารี เขตหนองจอก, กรุงเทพฯ', 'areaEN': 'Liap Wari Roadsire, Nong Chok, Bangkok', 'stationType': 'BKK', 'lat': '13.855362', 'long': '100.86267', 'forecast': [], 'AQILast': {'date': '2024-12-15', 'time': '19:00', 'PM25': {'color_id': '2', 'aqi': '33', 'value': '17.9'}, 'PM10': {'color_id': '0', 'aqi': '-999', 'value': '-1'}, 'O3': {'color_id': '0', 'aqi': '-999', 'value': '-1'}, 'CO': {'color_id': '0', 'aqi': '-999', 'value': '-1'}, 'NO2': {'color_id': '0', 'aqi': '-999', 'value': '-1'}, 'SO2': {'color_id': '0', 'aqi': '-999', 'value': '-1'}, 'AQI': {'color_id': '2', 'aqi': '33', 'param': 'PM25'}}}, {'stationID': 'bkp81t', 'nameTH': 'ซีคอน สแควร์', 'nameEN': 'Seacon Square', 'areaTH': 'ริมถนนศรีนครินทร์ เขตประเวศ, กรุงเทพฯ', 'areaEN': 'Srinakarin Roadside, Prawet, Bangkok', 'stationType': 'BKK', 'lat': '13.695561', 'long': '100.647615', 'forecast': [], 'AQILast': {'date': '2024-12-15', 'time': '19:00', 'PM25': {'color_id': '2', 'aqi': '46', 'value': '23.4'}, 'PM10': {'color_id': '0', 'aqi': '-999', 'value': '-1'}, 'O3': {'color_id': '0', 'aqi': '-999', 'value': '-1'}, 'CO': {'color_id': '0', 'aqi': '-999', 'value': '-1'}, 'NO2': {'color_id': '0', 'aqi': '-999', 'value': '-1'}, 'SO2': {'color_id': '0', 'aqi': '-999', 'value': '-1'}, 'AQI': {'color_id': '2', 'aqi': '46', 'param': 'PM25'}}}, {'stationID': 'bkp82t', 'nameTH': 'แยกมไหศวรรย์', 'nameEN': 'Mahaisawan Intersection', 'areaTH': 'ริมถนนรัชดาภิเษก-ท่าพระ เขตธนบุรี, กรุงเทพฯ', 'areaEN': 'Ratchadaphisek Roadside, Thon Buri, Bangkok', 'stationType': 'BKK', 'lat': '13.70515', 'long': '100.48465', 'forecast': [], 'AQILast': {'date': '2024-12-15', 'time': '19:00', 'PM25': {'color_id': '3', 'aqi': '56', 'value': '26.4'}, 'PM10': {'color_id': '0', 'aqi': '-999', 'value': '-1'}, 'O3': {'color_id': '0', 'aqi': '-999', 'value': '-1'}, 'CO': {'color_id': '0', 'aqi': '-999', 'value': '-1'}, 'NO2': {'color_id': '0', 'aqi': '-999', 'value': '-1'}, 'SO2': {'color_id': '0', 'aqi': '-999', 'value': '-1'}, 'AQI': {'color_id': '3', 'aqi': '56', 'param': 'PM25'}}}, {'stationID': 'bkp83t', 'nameTH': 'ห้องสมุดใต้สะพานสมเด็จพระเจ้าตากสิน', 'nameEN': 'Library under King Taksin Bridge', 'areaTH': 'ริมถนนเจริญนคร เขตคลองสาน, กรุงเทพฯ', 'areaEN': 'Charoen Nakorn Roadside, Klong San, Bangkok', 'stationType': 'BKK', 'lat': '13.719705', 'long': '100.508782', 'forecast': [], 'AQILast': {'date': '2024-12-15', 'time': '19:00', 'PM25': {'color_id': '3', 'aqi': '66', 'value': '28.9'}, 'PM10': {'color_id': '0', 'aqi': '-999', 'value': '-1'}, 'O3': {'color_id': '0', 'aqi': '-999', 'value': '-1'}, 'CO': {'color_id': '0', 'aqi': '-999', 'value': '-1'}, 'NO2': {'color_id': '0', 'aqi': '-999', 'value': '-1'}, 'SO2': {'color_id': '0', 'aqi': '-999', 'value': '-1'}, 'AQI': {'color_id': '3', 'aqi': '66', 'param': 'PM25'}}}, {'stationID': 'bkp84t', 'nameTH': 'สี่แยกท่าพระ', 'nameEN': 'Tha phra Intersection', 'areaTH': 'ริมถนนแยกท่าพระ เขตบางกอกใหญ่, กรุงเทพฯ', 'areaEN': 'Tha phra Intersection, Bangkok Yai, Bangkok', 'stationType': 'BKK', 'lat': '13.729431', 'long': '100.474373', 'forecast': [], 'AQILast': {'date': '2024-12-15', 'time': '19:00', 'PM25': {'color_id': '3', 'aqi': '64', 'value': '28.5'}, 'PM10': {'color_id': '0', 'aqi': '-999', 'value': '-1'}, 'O3': {'color_id': '0', 'aqi': '-999', 'value': '-1'}, 'CO': {'color_id': '0', 'aqi': '-999', 'value': '-1'}, 'NO2': {'color_id': '0', 'aqi': '-999', 'value': '-1'}, 'SO2': {'color_id': '0', 'aqi': '-999', 'value': '-1'}, 'AQI': {'color_id': '3', 'aqi': '64', 'param': 'PM25'}}}, {'stationID': 'bkp85t', 'nameTH': 'สถานีตำรวจรถไฟบางกอกน้อย', 'nameEN': 'Bangkok Noi Train Police Station', 'areaTH': 'ริมถนนซอยนิคมบ้านพักรถไฟธนบุรี 5 เขตบางกอกน้อย, กรุงเทพฯ', 'areaEN': 'Soi Nikhom Banphak Rodfai Thonburi5, Bangkok Noi, Bangkok', 'stationType': 'BKK', 'lat': '13.759619', 'long': '100.481137', 'forecast': [], 'AQILast': {'date': '2024-12-15', 'time': '19:00', 'PM25': {'color_id': '3', 'aqi': '51', 'value': '25.1'}, 'PM10': {'color_id': '0', 'aqi': '-999', 'value': '-1'}, 'O3': {'color_id': '0', 'aqi': '-999', 'value': '-1'}, 'CO': {'color_id': '0', 'aqi': '-999', 'value': '-1'}, 'NO2': {'color_id': '0', 'aqi': '-999', 'value': '-1'}, 'SO2': {'color_id': '0', 'aqi': '-999', 'value': '-1'}, 'AQI': {'color_id': '3', 'aqi': '51', 'param': 'PM25'}}}, {'stationID': 'bkp86t', 'nameTH': 'ถนนพุทธมณฑลสาย 1 ตัดกับถนนบรมราชชนนี', 'nameEN': 'Phutthamonthon 1 - Borommaratchachonnani Intersection', 'areaTH': 'ริมถนนพุทธมณฑล 1 เขตตลิ่งชัน, กรุงเทพฯ', 'areaEN': 'Phutthamonthon 1 Roadside, Taling Chan, Bangkok', 'stationType': 'BKK', 'lat': '13.780778', 'long': '100.426727', 'forecast': [], 'AQILast': {'date': '2024-12-15', 'time': '19:00', 'PM25': {'color_id': '2', 'aqi': '40', 'value': '20.7'}, 'PM10': {'color_id': '0', 'aqi': '-999', 'value': '-1'}, 'O3': {'color_id': '0', 'aqi': '-999', 'value': '-1'}, 'CO': {'color_id': '0', 'aqi': '-999', 'value': '-1'}, 'NO2': {'color_id': '0', 'aqi': '-999', 'value': '-1'}, 'SO2': {'color_id': '0', 'aqi': '-999', 'value': '-1'}, 'AQI': {'color_id': '2', 'aqi': '40', 'param': 'PM25'}}}, {'stationID': 'bkp87t', 'nameTH': 'ตลาดธนบุรีสนามหลวง 2', 'nameEN': 'Thon Buri Market Sanam Luang 2', 'areaTH': 'ริมถนนคลองทวีวัฒนา เขตทวีวัฒนา, กรุงเทพฯ', 'areaEN': 'Klong Thawi Watthana Roadside, Thawi Watthana, Bangkok', 'stationType': 'BKK', 'lat': '13.746257', 'long': '100.355099', 'forecast': [], 'AQILast': {'date': '2024-12-15', 'time': '19:00', 'PM25': {'color_id': '2', 'aqi': '43', 'value': '22.3'}, 'PM10': {'color_id': '0', 'aqi': '-999', 'value': '-1'}, 'O3': {'color_id': '0', 'aqi': '-999', 'value': '-1'}, 'CO': {'color_id': '0', 'aqi': '-999', 'value': '-1'}, 'NO2': {'color_id': '0', 'aqi': '-999', 'value': '-1'}, 'SO2': {'color_id': '0', 'aqi': '-999', 'value': '-1'}, 'AQI': {'color_id': '2', 'aqi': '43', 'param': 'PM25'}}}, {'stationID': 'bkp88t', 'nameTH': 'มหาวิทยาลัยสยาม', 'nameEN': 'Siam University', 'areaTH': 'ริมถนนเพชรเกษม เขตภาษีเจริญ, กรุงเทพฯ', 'areaEN': 'Petchkasem Roadside, Phasi Charoen, Bangkok', 'stationType': 'BKK', 'lat': '13.718689', 'long': '100.45391', 'forecast': [], 'AQILast': {'date': '2024-12-15', 'time': '19:00', 'PM25': {'color_id': '2', 'aqi': '46', 'value': '23.5'}, 'PM10': {'color_id': '0', 'aqi': '-999', 'value': '-1'}, 'O3': {'color_id': '0', 'aqi': '-999', 'value': '-1'}, 'CO': {'color_id': '0', 'aqi': '-999', 'value': '-1'}, 'NO2': {'color_id': '0', 'aqi': '-999', 'value': '-1'}, 'SO2': {'color_id': '0', 'aqi': '-999', 'value': '-1'}, 'AQI': {'color_id': '2', 'aqi': '46', 'param': 'PM25'}}}, {'stationID': 'bkp89t', 'nameTH': 'ริมถนนมาเจริญ เพชรเกษม 8, เขตหนองแขม', 'nameEN': 'Ma Charean Roadside, Petcha Kasem 8, Nong Khaem', 'areaTH': 'ริมถนนมาเจริญ เพชรเกษม 81 เขตหนองแขม, กรุงเทพฯ', 'areaEN': 'Ma Charean Roadside Nong Khaem, Bangkok', 'stationType': 'BKK', 'lat': '13.705582', 'long': '100.343164', 'forecast': [], 'AQILast': {'date': '2024-12-15', 'time': '19:00', 'PM25': {'color_id': '3', 'aqi': '54', 'value': '25.9'}, 'PM10': {'color_id': '0', 'aqi': '-999', 'value': '-1'}, 'O3': {'color_id': '0', 'aqi': '-999', 'value': '-1'}, 'CO': {'color_id': '0', 'aqi': '-999', 'value': '-1'}, 'NO2': {'color_id': '0', 'aqi': '-999', 'value': '-1'}, 'SO2': {'color_id': '0', 'aqi': '-999', 'value': '-1'}, 'AQI': {'color_id': '3', 'aqi': '54', 'param': 'PM25'}}}, {'stationID': 'bkp90t', 'nameTH': 'ตลาดบางบอน 5', 'nameEN': 'Bang Bon 5 Market', 'areaTH': 'ริมถนนเอกชัย เขตบางบอน, กรุงเทพฯ', 'areaEN': 'Ekkachai Roadside, Bang Bon, Bangkok', 'stationType': 'BKK', 'lat': '13.639165', 'long': '100.372958', 'forecast': [], 'AQILast': {'date': '2024-12-15', 'time': '19:00', 'PM25': {'color_id': '2', 'aqi': '40', 'value': '20.8'}, 'PM10': {'color_id': '0', 'aqi': '-999', 'value': '-1'}, 'O3': {'color_id': '0', 'aqi': '-999', 'value': '-1'}, 'CO': {'color_id': '0', 'aqi': '-999', 'value': '-1'}, 'NO2': {'color_id': '0', 'aqi': '-999', 'value': '-1'}, 'SO2': {'color_id': '0', 'aqi': '-999', 'value': '-1'}, 'AQI': {'color_id': '2', 'aqi': '40', 'param': 'PM25'}}}, {'stationID': 'bkp91t', 'nameTH': 'มหาวิทยาลัยเทคโนโลยีพระจอมเกล้าธนบุรี', 'nameEN': \"King Mongkut's University of Technology Thonburi \", 'areaTH': 'ริมถนนประชาอุทิศ เขตทุ่งครุ, กรุงเทพฯ', 'areaEN': 'Pracha Uthit Roadside, Thung Khru, Bangkok', 'stationType': 'BKK', 'lat': '13.651004', 'long': '100.496673', 'forecast': [], 'AQILast': {'date': '2024-12-15', 'time': '19:00', 'PM25': {'color_id': '2', 'aqi': '29', 'value': '16.5'}, 'PM10': {'color_id': '0', 'aqi': '-999', 'value': '-1'}, 'O3': {'color_id': '0', 'aqi': '-999', 'value': '-1'}, 'CO': {'color_id': '0', 'aqi': '-999', 'value': '-1'}, 'NO2': {'color_id': '0', 'aqi': '-999', 'value': '-1'}, 'SO2': {'color_id': '0', 'aqi': '-999', 'value': '-1'}, 'AQI': {'color_id': '2', 'aqi': '29', 'param': 'PM25'}}}, {'stationID': 'bkp92t', 'nameTH': 'สำนักงานเขตพระนคร', 'nameEN': 'Phra Nakhon District Office, Bangkok', 'areaTH': 'ริมถนนสามเสน เขตพระนคร, กรุงเทพฯ', 'areaEN': 'Samsen Roadside, Phra Nakhon, Bangkok', 'stationType': 'BKK', 'lat': '13.76415', 'long': '100.499077', 'forecast': [], 'AQILast': {'date': '2024-12-15', 'time': '19:00', 'PM25': {'color_id': '2', 'aqi': '32', 'value': '17.4'}, 'PM10': {'color_id': '0', 'aqi': '-999', 'value': '-1'}, 'O3': {'color_id': '0', 'aqi': '-999', 'value': '-1'}, 'CO': {'color_id': '0', 'aqi': '-999', 'value': '-1'}, 'NO2': {'color_id': '0', 'aqi': '-999', 'value': '-1'}, 'SO2': {'color_id': '0', 'aqi': '-999', 'value': '-1'}, 'AQI': {'color_id': '2', 'aqi': '32', 'param': 'PM25'}}}, {'stationID': 'bkp93t', 'nameTH': 'สำนักงานเขตห้วยขวาง', 'nameEN': 'Huai Khwang District Office, Bangkok', 'areaTH': 'เขตห้วยขวาง, กรุงเทพฯ', 'areaEN': 'Huai Khwang, Bangkok', 'stationType': 'BKK', 'lat': '13.77682', 'long': '100.579543', 'forecast': [], 'AQILast': {'date': '2024-12-15', 'time': '19:00', 'PM25': {'color_id': '2', 'aqi': '30', 'value': '16.8'}, 'PM10': {'color_id': '0', 'aqi': '-999', 'value': '-1'}, 'O3': {'color_id': '0', 'aqi': '-999', 'value': '-1'}, 'CO': {'color_id': '0', 'aqi': '-999', 'value': '-1'}, 'NO2': {'color_id': '0', 'aqi': '-999', 'value': '-1'}, 'SO2': {'color_id': '0', 'aqi': '-999', 'value': '-1'}, 'AQI': {'color_id': '2', 'aqi': '30', 'param': 'PM25'}}}, {'stationID': 'bkp94t', 'nameTH': 'สำนักงานเขตคลองเตย', 'nameEN': 'Khlong Toei District Office, Bangkok', 'areaTH': 'แขวงคลองเตย เขตคลองเตย, กรุงเทพฯ', 'areaEN': 'Khlong Toei, Bangkok', 'stationType': 'BKK', 'lat': '13.708488', 'long': '100.583747', 'forecast': [], 'AQILast': {'date': '2024-12-15', 'time': '19:00', 'PM25': {'color_id': '2', 'aqi': '44', 'value': '22.7'}, 'PM10': {'color_id': '0', 'aqi': '-999', 'value': '-1'}, 'O3': {'color_id': '0', 'aqi': '-999', 'value': '-1'}, 'CO': {'color_id': '0', 'aqi': '-999', 'value': '-1'}, 'NO2': {'color_id': '0', 'aqi': '-999', 'value': '-1'}, 'SO2': {'color_id': '0', 'aqi': '-999', 'value': '-1'}, 'AQI': {'color_id': '2', 'aqi': '44', 'param': 'PM25'}}}, {'stationID': 'bkp95t', 'nameTH': 'สำนักงานเขตบางซื่อ', 'nameEN': 'Bang Sue District Office, Bangkok', 'areaTH': 'แขวงบางซื่อ เขตบางซื่อ, กรุงเทพฯ', 'areaEN': 'Bang Sue, Bangkok', 'stationType': 'BKK', 'lat': '13.809596', 'long': '100.537883', 'forecast': [], 'AQILast': {'date': '2024-12-15', 'time': '19:00', 'PM25': {'color_id': '2', 'aqi': '41', 'value': '21.4'}, 'PM10': {'color_id': '0', 'aqi': '-999', 'value': '-1'}, 'O3': {'color_id': '0', 'aqi': '-999', 'value': '-1'}, 'CO': {'color_id': '0', 'aqi': '-999', 'value': '-1'}, 'NO2': {'color_id': '0', 'aqi': '-999', 'value': '-1'}, 'SO2': {'color_id': '0', 'aqi': '-999', 'value': '-1'}, 'AQI': {'color_id': '2', 'aqi': '41', 'param': 'PM25'}}}, {'stationID': 'bkp96t', 'nameTH': 'สำนักงานเขตลาดพร้าว', 'nameEN': 'Ladphrao District Office, Bangkok', 'areaTH': 'เขตลาดพร้าว, กรุงเทพฯ', 'areaEN': 'Ladphrao, Bangkok', 'stationType': 'BKK', 'lat': '13.803587', 'long': '100.607535', 'forecast': [], 'AQILast': {'date': '2024-12-15', 'time': '19:00', 'PM25': {'color_id': '2', 'aqi': '34', 'value': '18.4'}, 'PM10': {'color_id': '0', 'aqi': '-999', 'value': '-1'}, 'O3': {'color_id': '0', 'aqi': '-999', 'value': '-1'}, 'CO': {'color_id': '0', 'aqi': '-999', 'value': '-1'}, 'NO2': {'color_id': '0', 'aqi': '-999', 'value': '-1'}, 'SO2': {'color_id': '0', 'aqi': '-999', 'value': '-1'}, 'AQI': {'color_id': '2', 'aqi': '34', 'param': 'PM25'}}}, {'stationID': 'bkp97t', 'nameTH': 'สำนักงานเขตหลักสี่', 'nameEN': 'Lak Si District Office, Bangkok', 'areaTH': 'แขวงทุ่งสองห้อง เขตหลักสี่, กรุงเทพฯ', 'areaEN': 'Thung Song Hong, Lak Si, Bangkok', 'stationType': 'BKK', 'lat': '13.887395', 'long': '100.579247', 'forecast': [], 'AQILast': {'date': '2024-12-15', 'time': '19:00', 'PM25': {'color_id': '2', 'aqi': '47', 'value': '23.6'}, 'PM10': {'color_id': '0', 'aqi': '-999', 'value': '-1'}, 'O3': {'color_id': '0', 'aqi': '-999', 'value': '-1'}, 'CO': {'color_id': '0', 'aqi': '-999', 'value': '-1'}, 'NO2': {'color_id': '0', 'aqi': '-999', 'value': '-1'}, 'SO2': {'color_id': '0', 'aqi': '-999', 'value': '-1'}, 'AQI': {'color_id': '2', 'aqi': '47', 'param': 'PM25'}}}, {'stationID': 'bkp98t', 'nameTH': 'สำนักงานเขตบางเขน', 'nameEN': 'Bang Khen District Office, Bangkok', 'areaTH': 'ริมถนนพหลโยธิน เขตบางเขน, กรุงเทพฯ', 'areaEN': 'Phahon Yothin Roadside, Bang Khen, Bangkok', 'stationType': 'BKK', 'lat': '13.873603', 'long': '100.595839', 'forecast': [], 'AQILast': {'date': '2024-12-15', 'time': '19:00', 'PM25': {'color_id': '2', 'aqi': '43', 'value': '22.2'}, 'PM10': {'color_id': '0', 'aqi': '-999', 'value': '-1'}, 'O3': {'color_id': '0', 'aqi': '-999', 'value': '-1'}, 'CO': {'color_id': '0', 'aqi': '-999', 'value': '-1'}, 'NO2': {'color_id': '0', 'aqi': '-999', 'value': '-1'}, 'SO2': {'color_id': '0', 'aqi': '-999', 'value': '-1'}, 'AQI': {'color_id': '2', 'aqi': '43', 'param': 'PM25'}}}, {'stationID': 'bkp99t', 'nameTH': 'สำนักงานเขตสะพานสูง', 'nameEN': 'Saphan Sung District Office, Bangkok', 'areaTH': 'เขตสะพานสูง, กรุงเทพฯ', 'areaEN': 'Saphan Sung, Bangkok', 'stationType': 'BKK', 'lat': '13.768892', 'long': '100.685743', 'forecast': [], 'AQILast': {'date': '2024-12-15', 'time': '19:00', 'PM25': {'color_id': '2', 'aqi': '27', 'value': '15.5'}, 'PM10': {'color_id': '0', 'aqi': '-999', 'value': '-1'}, 'O3': {'color_id': '0', 'aqi': '-999', 'value': '-1'}, 'CO': {'color_id': '0', 'aqi': '-999', 'value': '-1'}, 'NO2': {'color_id': '0', 'aqi': '-999', 'value': '-1'}, 'SO2': {'color_id': '0', 'aqi': '-999', 'value': '-1'}, 'AQI': {'color_id': '2', 'aqi': '27', 'param': 'PM25'}}}, {'stationID': 'o10', 'nameTH': 'เคหะชุมชนคลองจั่น', 'nameEN': 'National Housing Authority Klongchan', 'areaTH': 'แขวงคลองจั่น เขตบางกะปิ, กรุงเทพฯ', 'areaEN': 'Khlong Chan, Khet Bang Kapi, Bangkok', 'stationType': 'GROUND', 'lat': '13.779873', 'long': '100.646009', 'forecast': [], 'AQILast': {'date': '2024-12-15', 'time': '17:00', 'PM25': {'color_id': '2', 'aqi': '28', 'value': '16.0'}, 'PM10': {'color_id': '0', 'aqi': '-999', 'value': '-1'}, 'O3': {'color_id': '0', 'aqi': '-999', 'value': '-1'}, 'CO': {'color_id': '0', 'aqi': '-999', 'value': '-1'}, 'NO2': {'color_id': '0', 'aqi': '-999', 'value': '-1'}, 'SO2': {'color_id': '0', 'aqi': '-999', 'value': '-1'}, 'AQI': {'color_id': '2', 'aqi': '28', 'param': 'PM25'}}}, {'stationID': 'o28', 'nameTH': 'โรงเรียนบดินทรเดชา (สิงห์ สิงหเสนี) ', 'nameEN': 'Bodindecha Sing Singhaseni School', 'areaTH': 'แขวงพลับพลา เขตวังทองหลาง, กรุงเทพฯ', 'areaEN': 'Pubpla, Khet Wang Thonglang, Bangkok', 'stationType': 'GROUND', 'lat': '13.769634', 'long': '100.614567', 'forecast': [], 'AQILast': {'date': '2024-12-15', 'time': '17:00', 'PM25': {'color_id': '2', 'aqi': '31', 'value': '17.3'}, 'PM10': {'color_id': '0', 'aqi': '-999', 'value': '-1'}, 'O3': {'color_id': '0', 'aqi': '-999', 'value': '-1'}, 'CO': {'color_id': '0', 'aqi': '-999', 'value': '-1'}, 'NO2': {'color_id': '0', 'aqi': '-999', 'value': '-1'}, 'SO2': {'color_id': '0', 'aqi': '-999', 'value': '-1'}, 'AQI': {'color_id': '2', 'aqi': '31', 'param': 'PM25'}}}, {'stationID': 'o63', 'nameTH': 'กรมอุตุนิยมวิทยาบางนา', 'nameEN': 'Thai Meteorological Department ', 'areaTH': 'แขวงบางนา เขตบางนา, กรุงเทพฯ', 'areaEN': 'Bang Na, Khet Bang Na, Bangkok', 'stationType': 'GROUND', 'lat': '13.666183', 'long': '100.605742', 'forecast': [], 'AQILast': {'date': '2024-12-15', 'time': '17:00', 'PM25': {'color_id': '2', 'aqi': '28', 'value': '16.0'}, 'PM10': {'color_id': '0', 'aqi': '-999', 'value': '-1'}, 'O3': {'color_id': '0', 'aqi': '-999', 'value': '-1'}, 'CO': {'color_id': '0', 'aqi': '-999', 'value': '-1'}, 'NO2': {'color_id': '0', 'aqi': '-999', 'value': '-1'}, 'SO2': {'color_id': '0', 'aqi': '-999', 'value': '-1'}, 'AQI': {'color_id': '2', 'aqi': '28', 'param': 'PM25'}}}, {'stationID': '79t', 'nameTH': 'สถานีอุตุนิยมวิทยา จ.กาญจนบุรี', 'nameEN': 'Kanchanaburi Meteorological Station', 'areaTH': 'ต.บ้านเหนือ อ.เมือง, กาญจนบุรี', 'areaEN': 'Ban Nuea, Mueang, Kanchanaburi', 'stationType': 'GROUND', 'lat': '14.022376', 'long': '99.536195', 'forecast': [], 'AQILast': {'date': '2024-12-15', 'time': '17:00', 'PM25': {'color_id': '2', 'aqi': '41', 'value': '21.2'}, 'PM10': {'color_id': '0', 'aqi': '-1', 'value': '-1'}, 'O3': {'color_id': '0', 'aqi': '-1', 'value': '-1'}, 'CO': {'color_id': '0', 'aqi': '-1', 'value': '-1'}, 'NO2': {'color_id': '0', 'aqi': '-1', 'value': '-1'}, 'SO2': {'color_id': '0', 'aqi': '-1', 'value': '-1'}, 'AQI': {'color_id': '2', 'aqi': '41', 'param': 'PM25'}}}, {'stationID': '107t', 'nameTH': 'สวนสาธารณะแก่งดอนกลาง', 'nameEN': 'KAENG DON KLANG PARK', 'areaTH': 'ต.กาฬสินธุ์ อ.เมือง, กาฬสินธ์ุ', 'areaEN': 'Kalasin Subdistrict, Mueang Kalasin District, Kalasin', 'stationType': 'GROUND', 'lat': '16.4436', 'long': '103.513', 'forecast': [], 'AQILast': {'date': '2024-12-15', 'time': '17:00', 'PM25': {'color_id': '2', 'aqi': '38', 'value': '20.1'}, 'PM10': {'color_id': '0', 'aqi': '-1', 'value': '-1'}, 'O3': {'color_id': '3', 'aqi': '64', 'value': '56'}, 'CO': {'color_id': '1', 'aqi': '2', 'value': '0.30'}, 'NO2': {'color_id': '1', 'aqi': '2', 'value': '4'}, 'SO2': {'color_id': '1', 'aqi': '0', 'value': '1'}, 'AQI': {'color_id': '3', 'aqi': '64', 'param': 'O3'}}}, {'stationID': '94t', 'nameTH': 'ลานอนุรักษ์วัฒนธรรมไทยสิริจิตอุทยาน', 'nameEN': 'Sirichit Thai Cultural Conservation Ground', 'areaTH': 'ต.ในเมือง อ.เมือง, กำแพงเพชร', 'areaEN': 'Nai Mueang Subdistrict, Mueang District, Kamphaeng Phet', 'stationType': 'GROUND', 'lat': '16.475374', 'long': '99.525425', 'forecast': [], 'AQILast': {'date': '2024-12-15', 'time': '17:00', 'PM25': {'color_id': '2', 'aqi': '30', 'value': '16.9'}, 'PM10': {'color_id': '1', 'aqi': '14', 'value': '27'}, 'O3': {'color_id': '2', 'aqi': '43', 'value': '46'}, 'CO': {'color_id': '1', 'aqi': '3', 'value': '0.50'}, 'NO2': {'color_id': '1', 'aqi': '3', 'value': '8'}, 'SO2': {'color_id': '1', 'aqi': '1', 'value': '4'}, 'AQI': {'color_id': '2', 'aqi': '43', 'param': 'O3'}}}, {'stationID': '46t', 'nameTH': 'ส่วนอุทกวิทยา สำนักงานทรัพยากรน้ำภาคที่4 ขอนแก่น', 'nameEN': 'Hydrogeological Group Water Resources Regional Office4 khonkaen', 'areaTH': 'ต.ในเมือง อ.เมือง, ขอนแก่น', 'areaEN': 'Nai Mueang, Mueang, Khon Kaen', 'stationType': 'GROUND', 'lat': '16.44538333', 'long': '102.83525', 'forecast': [], 'AQILast': {'date': '2024-12-15', 'time': '17:00', 'PM25': {'color_id': '2', 'aqi': '27', 'value': '15.6'}, 'PM10': {'color_id': '0', 'aqi': '-1', 'value': '-1'}, 'O3': {'color_id': '0', 'aqi': '-1', 'value': '-1'}, 'CO': {'color_id': '0', 'aqi': '-1', 'value': '-1'}, 'NO2': {'color_id': '0', 'aqi': '-1', 'value': '-1'}, 'SO2': {'color_id': '0', 'aqi': '-1', 'value': '-1'}, 'AQI': {'color_id': '2', 'aqi': '27', 'param': 'PM25'}}}, {'stationID': '100t', 'nameTH': 'สถานีอุตุนิยมวิทยาจันทบุรี', 'nameEN': 'Chanthaburi Meteorological Station', 'areaTH': 'ต.วัดใหม่ อ.เมือง, จันทบุรี', 'areaEN': 'Wat Mai Subdistrict, Mueang District, Chanthaburi', 'stationType': 'GROUND', 'lat': '12.6095704', 'long': '102.1040804', 'forecast': [], 'AQILast': {'date': '2024-12-15', 'time': '17:00', 'PM25': {'color_id': '1', 'aqi': '14', 'value': '8.2'}, 'PM10': {'color_id': '1', 'aqi': '18', 'value': '36'}, 'O3': {'color_id': '2', 'aqi': '28', 'value': '37'}, 'CO': {'color_id': '1', 'aqi': '2', 'value': '0.40'}, 'NO2': {'color_id': '1', 'aqi': '3', 'value': '7'}, 'SO2': {'color_id': '1', 'aqi': '0', 'value': '1'}, 'AQI': {'color_id': '2', 'aqi': '28', 'param': 'O3'}}}, {'stationID': '60t', 'nameTH': 'สำนักงานเทศบาลตำบลทุ่งสะเดา', 'nameEN': 'Municipality Office Tungsadao', 'areaTH': 'ต.วังเย็น อ.แปลงยาว, ฉะเชิงเทรา', 'areaEN': 'Wang Yen, Plaeng Yao, Chachoengsao', 'stationType': 'GROUND', 'lat': '13.5885', 'long': '101.2863333', 'forecast': [], 'AQILast': {'date': '2024-12-15', 'time': '17:00', 'PM25': {'color_id': '1', 'aqi': '22', 'value': '13.1'}, 'PM10': {'color_id': '2', 'aqi': '28', 'value': '54'}, 'O3': {'color_id': '0', 'aqi': '-1', 'value': '-1'}, 'CO': {'color_id': '0', 'aqi': '-999', 'value': '-1'}, 'NO2': {'color_id': '0', 'aqi': '-1', 'value': '-1'}, 'SO2': {'color_id': '0', 'aqi': '-1', 'value': '-1'}, 'AQI': {'color_id': '2', 'aqi': '28', 'param': 'PM10'}}}, {'stationID': '33t', 'nameTH': 'โรงพยาบาลส่งเสริมสุขภาพตำบลบ้านเขาหิน', 'nameEN': 'Health Promotion Hospital Bankhaohin', 'areaTH': 'ต.บ่อวิน อ.ศรีราชา, ชลบุรี', 'areaEN': 'Bo Win, Si Racha, Chon buri', 'stationType': 'GROUND', 'lat': '13.054551', 'long': '101.098128', 'forecast': [], 'AQILast': {'date': '2024-12-15', 'time': '17:00', 'PM25': {'color_id': '1', 'aqi': '23', 'value': '13.5'}, 'PM10': {'color_id': '0', 'aqi': '-1', 'value': '-1'}, 'O3': {'color_id': '0', 'aqi': '-1', 'value': '-1'}, 'CO': {'color_id': '0', 'aqi': '-999', 'value': '-1'}, 'NO2': {'color_id': '0', 'aqi': '-1', 'value': '-1'}, 'SO2': {'color_id': '0', 'aqi': '-999', 'value': '-1'}, 'AQI': {'color_id': '1', 'aqi': '23', 'param': 'PM25'}}}, {'stationID': '34t', 'nameTH': 'สำนักงานสิ่งแวดล้อมภาคที่ 13 ', 'nameEN': 'Environment Agency Section 13, Chonburi', 'areaTH': 'ต.บ้านสวน อ.เมือง, ชลบุรี', 'areaEN': 'Ban Suan, Mueang, Chon Buri', 'stationType': 'GROUND', 'lat': '13.35461667', 'long': '100.9792167', 'forecast': [], 'AQILast': {'date': '2024-12-15', 'time': '17:00', 'PM25': {'color_id': '1', 'aqi': '19', 'value': '11.2'}, 'PM10': {'color_id': '0', 'aqi': '-1', 'value': '-1'}, 'O3': {'color_id': '0', 'aqi': '-1', 'value': '-1'}, 'CO': {'color_id': '0', 'aqi': '-1', 'value': '-1'}, 'NO2': {'color_id': '0', 'aqi': '-1', 'value': '-1'}, 'SO2': {'color_id': '0', 'aqi': '-999', 'value': '-1'}, 'AQI': {'color_id': '1', 'aqi': '19', 'param': 'PM25'}}}, {'stationID': 'o61', 'nameTH': 'สนามกีฬาเทศบาลแหลมฉบัง ', 'nameEN': 'Laem Chabang Municipal Stadium', 'areaTH': 'ต.ทุ่งสุขลา อ.ศรีราชา, ชลบุรี', 'areaEN': 'Thung Sukhla, Si Racha, Chon buri', 'stationType': 'GROUND', 'lat': '13.11923333', 'long': '100.91855', 'forecast': [], 'AQILast': {'date': '2024-12-15', 'time': '17:00', 'PM25': {'color_id': '1', 'aqi': '18', 'value': '10.6'}, 'PM10': {'color_id': '0', 'aqi': '-999', 'value': '-1'}, 'O3': {'color_id': '0', 'aqi': '-999', 'value': '-1'}, 'CO': {'color_id': '0', 'aqi': '-999', 'value': '-1'}, 'NO2': {'color_id': '0', 'aqi': '-999', 'value': '-1'}, 'SO2': {'color_id': '0', 'aqi': '-999', 'value': '-1'}, 'AQI': {'color_id': '1', 'aqi': '18', 'param': 'PM25'}}}, {'stationID': 'o23', 'nameTH': 'สำนักงานทรัพยากรธรรมชาติและสิ่งแวดล้อมจังหวัดชัยนาท', 'nameEN': 'Natural Resources and Environment Office, Chainat', 'areaTH': 'ต.ในเมือง อ.เมือง, ชัยนาท', 'areaEN': 'Nai Mueang Subdistrict, Mueang District, Chainat', 'stationType': 'MOBILE', 'lat': '15.173056', 'long': '100.126944', 'forecast': [], 'AQILast': {'date': '2024-12-15', 'time': '17:00', 'PM25': {'color_id': '1', 'aqi': '23', 'value': '13.8'}, 'PM10': {'color_id': '0', 'aqi': '-999', 'value': '-1'}, 'O3': {'color_id': '0', 'aqi': '-999', 'value': '-1'}, 'CO': {'color_id': '0', 'aqi': '-999', 'value': '-1'}, 'NO2': {'color_id': '0', 'aqi': '-999', 'value': '-1'}, 'SO2': {'color_id': '0', 'aqi': '-999', 'value': '-1'}, 'AQI': {'color_id': '1', 'aqi': '23', 'param': 'PM25'}}}, {'stationID': '108t', 'nameTH': 'สนามกีฬาเทศบาลเมืองชัยภูมิ', 'nameEN': 'Mueang Chaiyaphum Municipality Stadium', 'areaTH': ' ต.ในเมือง อ.เมืองชัยภูมิ, ชัยภูมิ', 'areaEN': ' Nai Mueang Subdistrict, Mueang Chaiyaphum District, Chaiyaphum', 'stationType': 'GROUND', 'lat': '15.81148', 'long': '102.02281', 'forecast': [], 'AQILast': {'date': '2024-12-15', 'time': '17:00', 'PM25': {'color_id': '1', 'aqi': '19', 'value': '11.5'}, 'PM10': {'color_id': '0', 'aqi': '-1', 'value': '-1'}, 'O3': {'color_id': '2', 'aqi': '50', 'value': '50'}, 'CO': {'color_id': '1', 'aqi': '3', 'value': '0.50'}, 'NO2': {'color_id': '1', 'aqi': '3', 'value': '6'}, 'SO2': {'color_id': '1', 'aqi': '0', 'value': '1'}, 'AQI': {'color_id': '2', 'aqi': '50', 'param': 'O3'}}}, {'stationID': 'o76', 'nameTH': 'สนามกีฬา จ.ชุมพร', 'nameEN': 'Sports Stadium, Chumphon Province', 'areaTH': 'ต.ท่าตะเภา อ.เมือง, จ.ชุมพร', 'areaEN': 'Tha Taphao, Mueang, Chumphon', 'stationType': 'MOBILE', 'lat': '10.495142389105824', 'long': '99.18935409512319', 'forecast': [], 'AQILast': {'date': '2024-12-15', 'time': '17:00', 'PM25': {'color_id': '1', 'aqi': '10', 'value': '6.0'}, 'PM10': {'color_id': '0', 'aqi': '-999', 'value': '-1'}, 'O3': {'color_id': '0', 'aqi': '-999', 'value': '-1'}, 'CO': {'color_id': '0', 'aqi': '-999', 'value': '-1'}, 'NO2': {'color_id': '0', 'aqi': '-999', 'value': '-1'}, 'SO2': {'color_id': '0', 'aqi': '-999', 'value': '-1'}, 'AQI': {'color_id': '1', 'aqi': '10', 'param': 'PM25'}}}, {'stationID': '93t', 'nameTH': 'วิทยาลัยสารพัดช่างตรัง', 'nameEN': 'Polytechnic College, Trang ', 'areaTH': 'ต.นาตาล่วง อ.เมือง, ตรัง', 'areaEN': 'Na Ta Luang Subdistrict, Mueang District, Trang', 'stationType': 'GROUND', 'lat': '7.570238', 'long': '99.588743', 'forecast': [], 'AQILast': {'date': '2024-12-15', 'time': '17:00', 'PM25': {'color_id': '1', 'aqi': '9', 'value': '5.5'}, 'PM10': {'color_id': '1', 'aqi': '6', 'value': '12'}, 'O3': {'color_id': '1', 'aqi': '19', 'value': '27'}, 'CO': {'color_id': '1', 'aqi': '1', 'value': '0.10'}, 'NO2': {'color_id': '1', 'aqi': '0', 'value': '1'}, 'SO2': {'color_id': '1', 'aqi': '0', 'value': '1'}, 'AQI': {'color_id': '1', 'aqi': '19', 'param': 'O3'}}}, {'stationID': '87t', 'nameTH': 'สนามกีฬากลางจังหวัดตราด', 'nameEN': 'Trat Provincial Central Stadium', 'areaTH': 'ต.บางพระ อ.เมือง, ตราด', 'areaEN': 'Bang Phra, Mueang, Trat', 'stationType': 'GROUND', 'lat': '12.234862', 'long': '102.523721', 'forecast': [], 'AQILast': {'date': '2024-12-15', 'time': '17:00', 'PM25': {'color_id': '2', 'aqi': '29', 'value': '16.2'}, 'PM10': {'color_id': '0', 'aqi': '-1', 'value': '-1'}, 'O3': {'color_id': '1', 'aqi': '11', 'value': '16'}, 'CO': {'color_id': '1', 'aqi': '2', 'value': '0.40'}, 'NO2': {'color_id': '1', 'aqi': '0', 'value': '0'}, 'SO2': {'color_id': '1', 'aqi': '0', 'value': '1'}, 'AQI': {'color_id': '2', 'aqi': '29', 'param': 'PM25'}}}, {'stationID': '76t', 'nameTH': 'ศูนย์การศึกษานอกโรงเรียน', 'nameEN': 'Non-Formal Education Centre, Mea Sot', 'areaTH': 'ต.แม่ปะ อ.แม่สอด, ตาก', 'areaEN': 'MaePa, MaeSot, Tak', 'stationType': 'GROUND', 'lat': '16.734413', 'long': '98.566961', 'forecast': [], 'AQILast': {'date': '2024-12-15', 'time': '17:00', 'PM25': {'color_id': '1', 'aqi': '20', 'value': '12.1'}, 'PM10': {'color_id': '0', 'aqi': '-1', 'value': '-1'}, 'O3': {'color_id': '0', 'aqi': '-1', 'value': '-1'}, 'CO': {'color_id': '0', 'aqi': '-1', 'value': '-1'}, 'NO2': {'color_id': '0', 'aqi': '-1', 'value': '-1'}, 'SO2': {'color_id': '0', 'aqi': '-999', 'value': '-1'}, 'AQI': {'color_id': '1', 'aqi': '20', 'param': 'PM25'}}}, {'stationID': '105t', 'nameTH': 'ศูนย์บริการสาธารณสุขเทศบาลเมืองนครนายก', 'nameEN': 'Nakhon Nayok Municipality Public Health Service Center', 'areaTH': 'ต.บ้านใหญ่ อ.เมือง, นครนายก', 'areaEN': 'Ban Yai Subdistrict, Mueang District, Nakhon Nayok', 'stationType': 'GROUND', 'lat': '14.20422', 'long': '101.21509', 'forecast': [], 'AQILast': {'date': '2024-12-15', 'time': '17:00', 'PM25': {'color_id': '1', 'aqi': '20', 'value': '12.1'}, 'PM10': {'color_id': '0', 'aqi': '-999', 'value': '-1'}, 'O3': {'color_id': '2', 'aqi': '47', 'value': '48'}, 'CO': {'color_id': '1', 'aqi': '2', 'value': '0.30'}, 'NO2': {'color_id': '1', 'aqi': '3', 'value': '8'}, 'SO2': {'color_id': '1', 'aqi': '0', 'value': '1'}, 'AQI': {'color_id': '2', 'aqi': '47', 'param': 'O3'}}}, {'stationID': '81t', 'nameTH': 'อ่างเก็บน้ำประปา', 'nameEN': 'Water reservoir', 'areaTH': 'ต.นครปฐม อ.เมือง, นครปฐม', 'areaEN': 'Mueang, Nakhon Pathom', 'stationType': 'GROUND', 'lat': '13.832076', 'long': '100.057961', 'forecast': [], 'AQILast': {'date': '2024-12-15', 'time': '17:00', 'PM25': {'color_id': '3', 'aqi': '52', 'value': '25.4'}, 'PM10': {'color_id': '1', 'aqi': '20', 'value': '39'}, 'O3': {'color_id': '0', 'aqi': '-1', 'value': '-1'}, 'CO': {'color_id': '0', 'aqi': '-1', 'value': '-1'}, 'NO2': {'color_id': '0', 'aqi': '-1', 'value': '-1'}, 'SO2': {'color_id': '0', 'aqi': '-1', 'value': '-1'}, 'AQI': {'color_id': '3', 'aqi': '52', 'param': 'PM25'}}}, {'stationID': '88t', 'nameTH': 'สถานีอุตุนิยมวิทยานครพนม', 'nameEN': 'Meteorological stations, Nakhon Phanom', 'areaTH': 'ต.ในเมือง อ.เมือง, นครพนม', 'areaEN': 'Nai Mueang, Meuang, Nakhon Phanom', 'stationType': 'GROUND', 'lat': '17.412345', 'long': '104.7786123', 'forecast': [], 'AQILast': {'date': '2024-12-15', 'time': '19:00', 'PM25': {'color_id': '1', 'aqi': '17', 'value': '9.9'}, 'PM10': {'color_id': '1', 'aqi': '11', 'value': '21'}, 'O3': {'color_id': '1', 'aqi': '0', 'value': '0'}, 'CO': {'color_id': '0', 'aqi': '-1', 'value': '-1'}, 'NO2': {'color_id': '1', 'aqi': '3', 'value': '6'}, 'SO2': {'color_id': '0', 'aqi': '-1', 'value': '-1'}, 'AQI': {'color_id': '1', 'aqi': '17', 'param': 'PM25'}}}, {'stationID': '47t', 'nameTH': 'สถานีสูบน้ำประตูพลแสน', 'nameEN': 'Municipal Waste Water Pumping Station', 'areaTH': 'ต.ในเมือง อ.เมือง, นครราชสีมา', 'areaEN': 'Nai Mueang, Mueang, Nakhon Ratchasima', 'stationType': 'GROUND', 'lat': '14.979537', 'long': '102.098335', 'forecast': [], 'AQILast': {'date': '2024-12-15', 'time': '17:00', 'PM25': {'color_id': '1', 'aqi': '25', 'value': '15.0'}, 'PM10': {'color_id': '0', 'aqi': '-1', 'value': '-1'}, 'O3': {'color_id': '1', 'aqi': '25', 'value': '35'}, 'CO': {'color_id': '0', 'aqi': '-1', 'value': '-1'}, 'NO2': {'color_id': '1', 'aqi': '3', 'value': '8'}, 'SO2': {'color_id': '1', 'aqi': '0', 'value': '0'}, 'AQI': {'color_id': '1', 'aqi': '25', 'param': 'PM25'}}}, {'stationID': '89t', 'nameTH': 'ศูนย์ฟื้นฟูสุขภาพผู้สูงอายุ', 'nameEN': 'Elderly Health Rehabilitation Center', 'areaTH': 'ต.คลัง อ.เมือง, นครศรีธรรมราช', 'areaEN': 'Khlang, Mueang, Nakhon Si Thammarat', 'stationType': 'GROUND', 'lat': '8.426923', 'long': '99.961469', 'forecast': [], 'AQILast': {'date': '2024-12-15', 'time': '17:00', 'PM25': {'color_id': '1', 'aqi': '10', 'value': '6.0'}, 'PM10': {'color_id': '1', 'aqi': '6', 'value': '11'}, 'O3': {'color_id': '1', 'aqi': '14', 'value': '19'}, 'CO': {'color_id': '1', 'aqi': '1', 'value': '0.20'}, 'NO2': {'color_id': '1', 'aqi': '2', 'value': '5'}, 'SO2': {'color_id': '0', 'aqi': '-1', 'value': '-1'}, 'AQI': {'color_id': '1', 'aqi': '14', 'param': 'O3'}}}, {'stationID': '41t', 'nameTH': 'โครงการชลประทานนครสวรรค์', 'nameEN': 'Nakhonsawan Irrigation Project ', 'areaTH': 'ต.ปากน้ำโพ อ.เมือง, นครสวรรค์', 'areaEN': 'Pak Nam Pho, Mueang, Nakhon Sawan', 'stationType': 'GROUND', 'lat': '15.68623', 'long': '100.110556', 'forecast': [], 'AQILast': {'date': '2024-12-15', 'time': '17:00', 'PM25': {'color_id': '1', 'aqi': '25', 'value': '15.0'}, 'PM10': {'color_id': '0', 'aqi': '-1', 'value': '-1'}, 'O3': {'color_id': '0', 'aqi': '-1', 'value': '-1'}, 'CO': {'color_id': '0', 'aqi': '-1', 'value': '-1'}, 'NO2': {'color_id': '0', 'aqi': '-1', 'value': '-1'}, 'SO2': {'color_id': '0', 'aqi': '-1', 'value': '-1'}, 'AQI': {'color_id': '1', 'aqi': '25', 'param': 'PM25'}}}, {'stationID': '13t', 'nameTH': 'กรมควบควบคุมโรค', 'nameEN': 'Department of Disease Control', 'areaTH': 'ต.ตลาดขวัญ อ.เมือง, นนทบุรี', 'areaEN': 'Talad Kwan, Muang, Nonthaburi', 'stationType': 'GROUND', 'lat': '13.852778', 'long': '100.529444', 'forecast': [], 'AQILast': {'date': '2024-12-15', 'time': '19:00', 'PM25': {'color_id': '2', 'aqi': '31', 'value': '17.2'}, 'PM10': {'color_id': '1', 'aqi': '21', 'value': '41'}, 'O3': {'color_id': '0', 'aqi': '-1', 'value': '-1'}, 'CO': {'color_id': '0', 'aqi': '-1', 'value': '-1'}, 'NO2': {'color_id': '1', 'aqi': '13', 'value': '30'}, 'SO2': {'color_id': '1', 'aqi': '1', 'value': '2'}, 'AQI': {'color_id': '2', 'aqi': '31', 'param': 'PM25'}}}, {'stationID': '22t', 'nameTH': 'มหาวิทยาลัยสุโขทัยธรรมาธิราช ', 'nameEN': 'Sukhothai Thammathirat Open University', 'areaTH': 'ต.บางพูด อ.ปากเกร็ด, นนทบุรี', 'areaEN': 'Bang Phut, Pak Kret, Nonthaburi', 'stationType': 'GROUND', 'lat': '13.907861', 'long': '100.535641', 'forecast': [], 'AQILast': {'date': '2024-12-15', 'time': '17:00', 'PM25': {'color_id': '2', 'aqi': '45', 'value': '23.1'}, 'PM10': {'color_id': '1', 'aqi': '25', 'value': '50'}, 'O3': {'color_id': '0', 'aqi': '-1', 'value': '-1'}, 'CO': {'color_id': '0', 'aqi': '-1', 'value': '-1'}, 'NO2': {'color_id': '0', 'aqi': '-1', 'value': '-1'}, 'SO2': {'color_id': '0', 'aqi': '-1', 'value': '-1'}, 'AQI': {'color_id': '2', 'aqi': '45', 'param': 'PM25'}}}, {'stationID': '62t', 'nameTH': 'ศาลากลางจังหวัดนราธิวาส ', 'nameEN': 'City Hall, Narathiwat', 'areaTH': 'ต.บางนาค อ.เมือง, นราธิวาส', 'areaEN': 'Bang Nak, Mueang, Narathiwat', 'stationType': 'GROUND', 'lat': '6.426853', 'long': '101.823388', 'forecast': [], 'AQILast': {'date': '2024-12-15', 'time': '17:00', 'PM25': {'color_id': '1', 'aqi': '12', 'value': '6.9'}, 'PM10': {'color_id': '0', 'aqi': '-1', 'value': '-1'}, 'O3': {'color_id': '0', 'aqi': '-1', 'value': '-1'}, 'CO': {'color_id': '0', 'aqi': '-1', 'value': '-1'}, 'NO2': {'color_id': '0', 'aqi': '-1', 'value': '-1'}, 'SO2': {'color_id': '0', 'aqi': '-999', 'value': '-1'}, 'AQI': {'color_id': '1', 'aqi': '12', 'param': 'PM25'}}}, {'stationID': '67t', 'nameTH': 'สำนักงานเทศบาลเมืองน่าน', 'nameEN': 'Municipality Office, Nan', 'areaTH': 'ต.ในเวียง อ.เมือง, น่าน', 'areaEN': 'Nai Wiang, Mueang, Nan', 'stationType': 'GROUND', 'lat': '18.7888833', 'long': '100.7763166', 'forecast': [], 'AQILast': {'date': '2024-12-15', 'time': '17:00', 'PM25': {'color_id': '2', 'aqi': '42', 'value': '21.5'}, 'PM10': {'color_id': '0', 'aqi': '-1', 'value': '-1'}, 'O3': {'color_id': '1', 'aqi': '3', 'value': '4'}, 'CO': {'color_id': '0', 'aqi': '-1', 'value': '-1'}, 'NO2': {'color_id': '1', 'aqi': '0', 'value': '1'}, 'SO2': {'color_id': '0', 'aqi': '-1', 'value': '-1'}, 'AQI': {'color_id': '2', 'aqi': '42', 'param': 'PM25'}}}, {'stationID': '75t', 'nameTH': 'โรงพยาบาลเฉลิมพระเกียรติ ', 'nameEN': 'Chalermprakiet Hospital', 'areaTH': 'ต.ห้วยโก๋น อ.เฉลิมพระเกียรติ, น่าน', 'areaEN': 'Huai Kon, Chaloem Phra Kiat, Nan', 'stationType': 'GROUND', 'lat': '19.5759666', 'long': '101.0815166', 'forecast': [], 'AQILast': {'date': '2024-12-15', 'time': '17:00', 'PM25': {'color_id': '3', 'aqi': '66', 'value': '28.8'}, 'PM10': {'color_id': '0', 'aqi': '-1', 'value': '-1'}, 'O3': {'color_id': '0', 'aqi': '-1', 'value': '-1'}, 'CO': {'color_id': '0', 'aqi': '-1', 'value': '-1'}, 'NO2': {'color_id': '1', 'aqi': '5', 'value': '11'}, 'SO2': {'color_id': '1', 'aqi': '1', 'value': '3'}, 'AQI': {'color_id': '3', 'aqi': '66', 'param': 'PM25'}}}, {'stationID': '106t', 'nameTH': 'สวนสาธารณะหนองบึงกาฬ', 'nameEN': 'Nong Bueng Kan Park', 'areaTH': 'ต.บึงกาฬ อ.เมือง, จ.บึงกาฬ ', 'areaEN': 'Mueang, Bueng Kan', 'stationType': 'GROUND', 'lat': '18.362008', 'long': '103.65977', 'forecast': [], 'AQILast': {'date': '2024-12-15', 'time': '17:00', 'PM25': {'color_id': '1', 'aqi': '12', 'value': '7.3'}, 'PM10': {'color_id': '0', 'aqi': '-999', 'value': '-1'}, 'O3': {'color_id': '1', 'aqi': '25', 'value': '35'}, 'CO': {'color_id': '1', 'aqi': '2', 'value': '0.40'}, 'NO2': {'color_id': '1', 'aqi': '0', 'value': '1'}, 'SO2': {'color_id': '1', 'aqi': '0', 'value': '0'}, 'AQI': {'color_id': '1', 'aqi': '25', 'param': 'O3'}}}, {'stationID': '101t', 'nameTH': 'ศาลากลางจังหวัดบุรีรัมย์', 'nameEN': 'Buriram City Hall', 'areaTH': 'ต.เสม็ด อ.เมือง, บุรีรัมย์', 'areaEN': 'Samed Subdistrict, Mueang District, Buriram', 'stationType': 'GROUND', 'lat': '14.945452', 'long': '103.105896', 'forecast': [], 'AQILast': {'date': '2024-12-15', 'time': '17:00', 'PM25': {'color_id': '1', 'aqi': '14', 'value': '8.3'}, 'PM10': {'color_id': '1', 'aqi': '17', 'value': '33'}, 'O3': {'color_id': '3', 'aqi': '72', 'value': '59'}, 'CO': {'color_id': '1', 'aqi': '2', 'value': '0.40'}, 'NO2': {'color_id': '1', 'aqi': '0', 'value': '1'}, 'SO2': {'color_id': '1', 'aqi': '0', 'value': '0'}, 'AQI': {'color_id': '3', 'aqi': '72', 'param': 'O3'}}}, {'stationID': '20t', 'nameTH': 'มหาวิทยาลัยกรุงเทพ วิทยาเขตรังสิต ', 'nameEN': 'Bangkok University Rangsit Campus', 'areaTH': 'ต.คลองหนึ่ง อ.คลองหลวง, ปทุมธานี', 'areaEN': 'Khlong Nueng, Khlong Luang, Pathum Thani', 'stationType': 'GROUND', 'lat': '14.03742', 'long': '100.605216', 'forecast': [], 'AQILast': {'date': '2024-12-15', 'time': '17:00', 'PM25': {'color_id': '2', 'aqi': '32', 'value': '17.4'}, 'PM10': {'color_id': '1', 'aqi': '24', 'value': '47'}, 'O3': {'color_id': '1', 'aqi': '19', 'value': '26'}, 'CO': {'color_id': '1', 'aqi': '2', 'value': '0.30'}, 'NO2': {'color_id': '1', 'aqi': '4', 'value': '9'}, 'SO2': {'color_id': '1', 'aqi': '1', 'value': '3'}, 'AQI': {'color_id': '2', 'aqi': '32', 'param': 'PM25'}}}, {'stationID': '103t', 'nameTH': ' สถานีตรวจอากาศหัวหิน สถานีอุตุนิยมวิทยาประจวบคีรีขันธ์', 'nameEN': 'Hua Hin Weather Station Prachuap Khiri Khan Meteorological Station', 'areaTH': 'ต.หัวหิน อ.หัวหิน, ประจวบคิรีขันธ์', 'areaEN': 'Hua Hin Subdistrict, Hua Hin District, Prachuap Khiri Khan', 'stationType': 'GROUND', 'lat': '12.577835', 'long': '99.953663', 'forecast': [], 'AQILast': {'date': '2024-12-15', 'time': '17:00', 'PM25': {'color_id': '2', 'aqi': '37', 'value': '19.7'}, 'PM10': {'color_id': '1', 'aqi': '22', 'value': '43'}, 'O3': {'color_id': '3', 'aqi': '72', 'value': '59'}, 'CO': {'color_id': '1', 'aqi': '3', 'value': '0.50'}, 'NO2': {'color_id': '1', 'aqi': '3', 'value': '6'}, 'SO2': {'color_id': '1', 'aqi': '0', 'value': '1'}, 'AQI': {'color_id': '3', 'aqi': '72', 'param': 'O3'}}}, {'stationID': '77t', 'nameTH': 'ศาลาประชาคมบ้านบุยายใบ', 'nameEN': 'Bu Yai Bai Hall Station', 'areaTH': 'ต.ท่าตูม อ.ศรีมหาโพธิ, ปราจีนบุรี', 'areaEN': 'Tha Tum, SiMahaPhot, Prachin Buri', 'stationType': 'GROUND', 'lat': '13.917563', 'long': '101.590529', 'forecast': [], 'AQILast': {'date': '2024-12-15', 'time': '17:00', 'PM25': {'color_id': '1', 'aqi': '23', 'value': '13.7'}, 'PM10': {'color_id': '1', 'aqi': '20', 'value': '40'}, 'O3': {'color_id': '0', 'aqi': '-1', 'value': '-1'}, 'CO': {'color_id': '0', 'aqi': '-999', 'value': '-1'}, 'NO2': {'color_id': '0', 'aqi': '-1', 'value': '-1'}, 'SO2': {'color_id': '0', 'aqi': '-1', 'value': '-1'}, 'AQI': {'color_id': '1', 'aqi': '23', 'param': 'PM25'}}}, {'stationID': '70t', 'nameTH': 'สนามกีฬาจังหวัดพะเยา', 'nameEN': 'Phayao Provincial, Phayao', 'areaTH': 'ต.บ้านต๋อม อ.เมือง, พะเยา', 'areaEN': 'Bantom, Meuang, Phayao', 'stationType': 'GROUND', 'lat': '19.200226', 'long': '99.893048', 'forecast': [], 'AQILast': {'date': '2024-12-15', 'time': '17:00', 'PM25': {'color_id': '1', 'aqi': '18', 'value': '11.0'}, 'PM10': {'color_id': '0', 'aqi': '-1', 'value': '-1'}, 'O3': {'color_id': '0', 'aqi': '-1', 'value': '-1'}, 'CO': {'color_id': '0', 'aqi': '-1', 'value': '-1'}, 'NO2': {'color_id': '0', 'aqi': '-1', 'value': '-1'}, 'SO2': {'color_id': '0', 'aqi': '-999', 'value': '-1'}, 'AQI': {'color_id': '1', 'aqi': '18', 'param': 'PM25'}}}, {'stationID': 'o73', 'nameTH': 'ศูนย์ราชการจังหวัดพังงา', 'nameEN': 'Phangnga Provincial Government Center', 'areaTH': 'ต.ถ้ำน้ำผุด อ.เมือง, พังงา', 'areaEN': 'Mueang, Phangnga', 'stationType': 'MOBILE', 'lat': '8.424964', 'long': '98.528719', 'forecast': [], 'AQILast': {'date': '2024-12-15', 'time': '17:00', 'PM25': {'color_id': '1', 'aqi': '6', 'value': '3.3'}, 'PM10': {'color_id': '0', 'aqi': '-999', 'value': '-1'}, 'O3': {'color_id': '0', 'aqi': '-999', 'value': '-1'}, 'CO': {'color_id': '0', 'aqi': '-999', 'value': '-1'}, 'NO2': {'color_id': '0', 'aqi': '-999', 'value': '-1'}, 'SO2': {'color_id': '0', 'aqi': '-999', 'value': '-1'}, 'AQI': {'color_id': '1', 'aqi': '6', 'param': 'PM25'}}}, {'stationID': 'o67', 'nameTH': 'สำนักงานทรัพยากรธรรมชาติและสิ่งแวดล้อมจังหวัดพัทลุง', 'nameEN': 'Natural Resource and Environment, Phatthalung', 'areaTH': 'ต.ควนมะพร้าว อ.เมือง, พัทลุง', 'areaEN': 'Khuan Maphrao, Mueang, Phatthalung', 'stationType': 'MOBILE', 'lat': '7.614396', 'long': '100.113766', 'forecast': [], 'AQILast': {'date': '2024-12-15', 'time': '17:00', 'PM25': {'color_id': '1', 'aqi': '7', 'value': '4.4'}, 'PM10': {'color_id': '1', 'aqi': '6', 'value': '11'}, 'O3': {'color_id': '0', 'aqi': '-999', 'value': '-1'}, 'CO': {'color_id': '0', 'aqi': '-999', 'value': '-1'}, 'NO2': {'color_id': '0', 'aqi': '-999', 'value': '-1'}, 'SO2': {'color_id': '0', 'aqi': '-999', 'value': '-1'}, 'AQI': {'color_id': '1', 'aqi': '7', 'param': 'PM25'}}}, {'stationID': '95t', 'nameTH': 'สนามกีฬาจังหวัดพิจิตร', 'nameEN': ' Phichit Provincial , Phichit', 'areaTH': 'ต.ในเมือง อ.เมือง, พิจิตร', 'areaEN': 'Nai Mueang Subdistrict, Mueang District, Phichit', 'stationType': 'GROUND', 'lat': '16.442554', 'long': '100.322756', 'forecast': [], 'AQILast': {'date': '2024-12-15', 'time': '17:00', 'PM25': {'color_id': '2', 'aqi': '30', 'value': '16.7'}, 'PM10': {'color_id': '1', 'aqi': '14', 'value': '28'}, 'O3': {'color_id': '2', 'aqi': '36', 'value': '42'}, 'CO': {'color_id': '1', 'aqi': '3', 'value': '0.60'}, 'NO2': {'color_id': '1', 'aqi': '2', 'value': '4'}, 'SO2': {'color_id': '1', 'aqi': '0', 'value': '1'}, 'AQI': {'color_id': '2', 'aqi': '36', 'param': 'O3'}}}, {'stationID': '86t', 'nameTH': 'สวนชมน่านเฉลิมพระเกียรติ', 'nameEN': 'Chom Nan Chaloem Phrakiat Public Park', 'areaTH': 'ต.ในเมือง อ.เมือง, พิษณุโลก', 'areaEN': 'Nai Mueang, Mueang, Phitsanulok', 'stationType': 'GROUND', 'lat': '16.820833', 'long': '100.258056', 'forecast': [], 'AQILast': {'date': '2024-12-15', 'time': '19:00', 'PM25': {'color_id': '2', 'aqi': '35', 'value': '18.7'}, 'PM10': {'color_id': '1', 'aqi': '18', 'value': '35'}, 'O3': {'color_id': '2', 'aqi': '35', 'value': '41'}, 'CO': {'color_id': '0', 'aqi': '-1', 'value': '-1'}, 'NO2': {'color_id': '1', 'aqi': '7', 'value': '17'}, 'SO2': {'color_id': '1', 'aqi': '0', 'value': '1'}, 'AQI': {'color_id': '2', 'aqi': '35', 'param': 'PM25'}}}, {'stationID': '43t', 'nameTH': 'ศูนย์บริการสาธารณสุขเทศบาลภูเก็ต', 'nameEN': 'Municipal Health Center', 'areaTH': 'ต.ตลาดใหญ่ อ.เมือง, ภูเก็ต', 'areaEN': 'Talat Yai, Mueang, Phuket', 'stationType': 'GROUND', 'lat': '7.884488', 'long': '98.391283', 'forecast': [], 'AQILast': {'date': '2024-12-15', 'time': '17:00', 'PM25': {'color_id': '1', 'aqi': '10', 'value': '6.1'}, 'PM10': {'color_id': '0', 'aqi': '-1', 'value': '-1'}, 'O3': {'color_id': '0', 'aqi': '-1', 'value': '-1'}, 'CO': {'color_id': '0', 'aqi': '-1', 'value': '-1'}, 'NO2': {'color_id': '1', 'aqi': '1', 'value': '2'}, 'SO2': {'color_id': '0', 'aqi': '-1', 'value': '-1'}, 'AQI': {'color_id': '1', 'aqi': '10', 'param': 'PM25'}}}, {'stationID': '102t', 'nameTH': 'สนามกีฬากลางจังหวัดมุกดาหาร', 'nameEN': 'Mukdahan Provincial Stadium', 'areaTH': 'ต.มุกดาหาร อ.เมือง, มุกดาหาร', 'areaEN': 'Mukdaman Subdistrict, Mueang District, Mukdahan', 'stationType': 'GROUND', 'lat': '16.54257', 'long': '104.7192', 'forecast': [], 'AQILast': {'date': '2024-12-15', 'time': '17:00', 'PM25': {'color_id': '1', 'aqi': '22', 'value': '13.2'}, 'PM10': {'color_id': '1', 'aqi': '17', 'value': '33'}, 'O3': {'color_id': '3', 'aqi': '59', 'value': '54'}, 'CO': {'color_id': '1', 'aqi': '2', 'value': '0.40'}, 'NO2': {'color_id': '0', 'aqi': '-1', 'value': '-1'}, 'SO2': {'color_id': '0', 'aqi': '-1', 'value': '-1'}, 'AQI': {'color_id': '3', 'aqi': '59', 'param': 'O3'}}}, {'stationID': '63t', 'nameTH': 'สนามโรงพิธีช้างเผือก ', 'nameEN': 'White Elephant Park', 'areaTH': 'ต.สะเตง อ.เมือง, ยะลา', 'areaEN': 'Sateng, Mueang, Yala', 'stationType': 'GROUND', 'lat': '6.546205', 'long': '101.283137', 'forecast': [], 'AQILast': {'date': '2024-12-15', 'time': '17:00', 'PM25': {'color_id': '1', 'aqi': '12', 'value': '7.0'}, 'PM10': {'color_id': '0', 'aqi': '-1', 'value': '-1'}, 'O3': {'color_id': '0', 'aqi': '-1', 'value': '-1'}, 'CO': {'color_id': '0', 'aqi': '-1', 'value': '-1'}, 'NO2': {'color_id': '0', 'aqi': '-1', 'value': '-1'}, 'SO2': {'color_id': '0', 'aqi': '-999', 'value': '-1'}, 'AQI': {'color_id': '1', 'aqi': '12', 'param': 'PM25'}}}, {'stationID': '78t', 'nameTH': 'ศูนย์พัฒนาเด็กเล็กเทศบาลเมืองเบตง', 'nameEN': 'child development centers, Betong', 'areaTH': 'ต.เบตง อ.เบตง, ยะลา', 'areaEN': 'Betong, Yala', 'stationType': 'GROUND', 'lat': '5.763873', 'long': '101.067903', 'forecast': [], 'AQILast': {'date': '2024-12-15', 'time': '17:00', 'PM25': {'color_id': '1', 'aqi': '12', 'value': '6.9'}, 'PM10': {'color_id': '1', 'aqi': '7', 'value': '13'}, 'O3': {'color_id': '0', 'aqi': '-999', 'value': '-1'}, 'CO': {'color_id': '0', 'aqi': '-999', 'value': '-1'}, 'NO2': {'color_id': '0', 'aqi': '-999', 'value': '-1'}, 'SO2': {'color_id': '0', 'aqi': '-999', 'value': '-1'}, 'AQI': {'color_id': '1', 'aqi': '12', 'param': 'PM25'}}}, {'stationID': '109t', 'nameTH': 'สวนสาธารณะพญาแถน', 'nameEN': 'Phaya Thaen Public Park', 'areaTH': 'ต.ในเมือง,อ.เมือง, ยโสธร', 'areaEN': 'Mueang, Yasothon', 'stationType': 'GROUND', 'lat': '15.783861', 'long': '104.154639', 'forecast': [], 'AQILast': {'date': '2024-12-15', 'time': '17:00', 'PM25': {'color_id': '2', 'aqi': '40', 'value': '21.0'}, 'PM10': {'color_id': '0', 'aqi': '-1', 'value': '-1'}, 'O3': {'color_id': '2', 'aqi': '40', 'value': '44'}, 'CO': {'color_id': '1', 'aqi': '2', 'value': '0.40'}, 'NO2': {'color_id': '1', 'aqi': '1', 'value': '3'}, 'SO2': {'color_id': '1', 'aqi': '1', 'value': '2'}, 'AQI': {'color_id': '2', 'aqi': '40', 'param': 'PM25'}}}, {'stationID': 'o70', 'nameTH': 'สำนักงานเทศบาลเมืองระนอง', 'nameEN': 'Ranong Municipal office', 'areaTH': 'ต.เขานิเวศน์  อ.เมือง, ระนอง', 'areaEN': 'Mueang District, Ranong', 'stationType': 'MOBILE', 'lat': '9.961849', 'long': '98.639341', 'forecast': [], 'AQILast': {'date': '2024-12-15', 'time': '17:00', 'PM25': {'color_id': '1', 'aqi': '6', 'value': '3.4'}, 'PM10': {'color_id': '0', 'aqi': '-999', 'value': '-1'}, 'O3': {'color_id': '0', 'aqi': '-999', 'value': '-1'}, 'CO': {'color_id': '0', 'aqi': '-999', 'value': '-1'}, 'NO2': {'color_id': '0', 'aqi': '-999', 'value': '-1'}, 'SO2': {'color_id': '0', 'aqi': '-999', 'value': '-1'}, 'AQI': {'color_id': '1', 'aqi': '6', 'param': 'PM25'}}}, {'stationID': '28t', 'nameTH': 'สำนักงานสาธารณสุขอำเภอปลวกแดง', 'nameEN': 'Pluakdaeng District Health Office', 'areaTH': 'ต.ปลวกแดง อ.ปลวกแดง, ระยอง', 'areaEN': 'Pluak Daeng, Pluak Daeng, Rayong', 'stationType': 'GROUND', 'lat': '12.97378333', 'long': '101.21285', 'forecast': [], 'AQILast': {'date': '2024-12-15', 'time': '17:00', 'PM25': {'color_id': '1', 'aqi': '21', 'value': '12.3'}, 'PM10': {'color_id': '0', 'aqi': '-1', 'value': '-1'}, 'O3': {'color_id': '1', 'aqi': '11', 'value': '15'}, 'CO': {'color_id': '0', 'aqi': '-1', 'value': '-1'}, 'NO2': {'color_id': '0', 'aqi': '-1', 'value': '-1'}, 'SO2': {'color_id': '1', 'aqi': '3', 'value': '10'}, 'AQI': {'color_id': '1', 'aqi': '21', 'param': 'PM25'}}}, {'stationID': '29t', 'nameTH': 'โรงพยาบาลส่งเสริมสุขภาพตำบลมาบตาพุด ', 'nameEN': 'Health Promotion Hospital Maptaput', 'areaTH': 'ต.มาบตาพุด อ.เมือง, ระยอง', 'areaEN': 'Map Ta Phut, Meuang, Rayong', 'stationType': 'GROUND', 'lat': '12.70865', 'long': '101.1659833', 'forecast': [], 'AQILast': {'date': '2024-12-15', 'time': '17:00', 'PM25': {'color_id': '2', 'aqi': '30', 'value': '16.6'}, 'PM10': {'color_id': '1', 'aqi': '23', 'value': '45'}, 'O3': {'color_id': '1', 'aqi': '21', 'value': '30'}, 'CO': {'color_id': '0', 'aqi': '-1', 'value': '-1'}, 'NO2': {'color_id': '0', 'aqi': '-1', 'value': '-1'}, 'SO2': {'color_id': '1', 'aqi': '0', 'value': '0'}, 'AQI': {'color_id': '2', 'aqi': '30', 'param': 'PM25'}}}, {'stationID': '30t', 'nameTH': 'สำนักงานเกษตรจังหวัดระยอง ', 'nameEN': 'Agricultural Office', 'areaTH': 'ต.ท่าประดู่ อ.เมือง, ระยอง', 'areaEN': 'Tha Pradu, Meuang, Rayong', 'stationType': 'GROUND', 'lat': '12.67155', 'long': '101.2758667', 'forecast': [], 'AQILast': {'date': '2024-12-15', 'time': '17:00', 'PM25': {'color_id': '1', 'aqi': '11', 'value': '6.6'}, 'PM10': {'color_id': '0', 'aqi': '-1', 'value': '-1'}, 'O3': {'color_id': '0', 'aqi': '-1', 'value': '-1'}, 'CO': {'color_id': '0', 'aqi': '-1', 'value': '-1'}, 'NO2': {'color_id': '0', 'aqi': '-1', 'value': '-1'}, 'SO2': {'color_id': '0', 'aqi': '-1', 'value': '-1'}, 'AQI': {'color_id': '1', 'aqi': '11', 'param': 'PM25'}}}, {'stationID': '31t', 'nameTH': 'ศูนย์วิจัยพืชไร่ระยอง ', 'nameEN': 'Field Crop Research Center, Rayong', 'areaTH': 'ต.ห้วยโป่ง อ.เมือง, ระยอง', 'areaEN': 'Huai Pong, Meuang, Rayong', 'stationType': 'GROUND', 'lat': '12.73518333', 'long': '101.13565', 'forecast': [], 'AQILast': {'date': '2024-12-15', 'time': '17:00', 'PM25': {'color_id': '1', 'aqi': '18', 'value': '10.8'}, 'PM10': {'color_id': '0', 'aqi': '-1', 'value': '-1'}, 'O3': {'color_id': '2', 'aqi': '48', 'value': '49'}, 'CO': {'color_id': '0', 'aqi': '-1', 'value': '-1'}, 'NO2': {'color_id': '0', 'aqi': '-1', 'value': '-1'}, 'SO2': {'color_id': '0', 'aqi': '-1', 'value': '-1'}, 'AQI': {'color_id': '2', 'aqi': '48', 'param': 'O3'}}}, {'stationID': '74t', 'nameTH': 'ศูนย์ราชการจังหวัดระยอง ', 'nameEN': 'Government Complex, Rayong', 'areaTH': 'ต.เนินพระ อ.เมือง, ระยอง', 'areaEN': 'Nern Pra, Meuang, Rayong', 'stationType': 'GROUND', 'lat': '12.7066', 'long': '101.18055', 'forecast': [], 'AQILast': {'date': '2024-12-15', 'time': '17:00', 'PM25': {'color_id': '1', 'aqi': '10', 'value': '5.8'}, 'PM10': {'color_id': '1', 'aqi': '8', 'value': '15'}, 'O3': {'color_id': '0', 'aqi': '-1', 'value': '-1'}, 'CO': {'color_id': '0', 'aqi': '-1', 'value': '-1'}, 'NO2': {'color_id': '0', 'aqi': '-1', 'value': '-1'}, 'SO2': {'color_id': '0', 'aqi': '-1', 'value': '-1'}, 'AQI': {'color_id': '1', 'aqi': '10', 'param': 'PM25'}}}, {'stationID': 'o38', 'nameTH': 'ค่ายสุรสิงหนาท', 'nameEN': 'Khai Surasinghanat', 'areaTH': 'ต.ตะพง อ.เมือง, ระยอง', 'areaEN': 'Taphong, Mueang, Rayong', 'stationType': 'MOBILE', 'lat': '12.648576', 'long': '101.32245', 'forecast': [], 'AQILast': {'date': '2024-12-15', 'time': '17:00', 'PM25': {'color_id': '1', 'aqi': '14', 'value': '8.3'}, 'PM10': {'color_id': '0', 'aqi': '-1', 'value': '-1'}, 'O3': {'color_id': '0', 'aqi': '-999', 'value': '-1'}, 'CO': {'color_id': '0', 'aqi': '-999', 'value': '-1'}, 'NO2': {'color_id': '0', 'aqi': '-999', 'value': '-1'}, 'SO2': {'color_id': '0', 'aqi': '-999', 'value': '-1'}, 'AQI': {'color_id': '1', 'aqi': '14', 'param': 'PM25'}}}, {'stationID': '26t', 'nameTH': 'สำนักงานสิ่งแวดล้อมภาคที่8', 'nameEN': 'Environmental Office 8 ratchaburi', 'areaTH': 'ต.หน้าเมือง อ.เมือง, ราชบุรี', 'areaEN': 'Na Mueang, Mueang, Ratchaburi', 'stationType': 'GROUND', 'lat': '13.52344', 'long': '99.814082', 'forecast': [], 'AQILast': {'date': '2024-12-15', 'time': '17:00', 'PM25': {'color_id': '2', 'aqi': '43', 'value': '22.2'}, 'PM10': {'color_id': '0', 'aqi': '-1', 'value': '-1'}, 'O3': {'color_id': '0', 'aqi': '-1', 'value': '-1'}, 'CO': {'color_id': '0', 'aqi': '-1', 'value': '-1'}, 'NO2': {'color_id': '0', 'aqi': '-1', 'value': '-1'}, 'SO2': {'color_id': '0', 'aqi': '-1', 'value': '-1'}, 'AQI': {'color_id': '2', 'aqi': '43', 'param': 'PM25'}}}, {'stationID': '99t', 'nameTH': 'สถานีอุตุนิยมวิทยาลพบุรี', 'nameEN': ' Meteorological Station Lopburi', 'areaTH': 'ต.ทะเลชุบศร อ.เมือง, ลพบุรี', 'areaEN': ' Talay Chupson Subdistrict, Mueang District, Lopburi', 'stationType': 'GROUND', 'lat': '14.800032', 'long': '100.628548', 'forecast': [], 'AQILast': {'date': '2024-12-15', 'time': '17:00', 'PM25': {'color_id': '2', 'aqi': '29', 'value': '16.2'}, 'PM10': {'color_id': '1', 'aqi': '18', 'value': '36'}, 'O3': {'color_id': '2', 'aqi': '31', 'value': '39'}, 'CO': {'color_id': '1', 'aqi': '3', 'value': '0.50'}, 'NO2': {'color_id': '1', 'aqi': '9', 'value': '21'}, 'SO2': {'color_id': '1', 'aqi': '1', 'value': '3'}, 'AQI': {'color_id': '2', 'aqi': '31', 'param': 'O3'}}}, {'stationID': '37t', 'nameTH': 'สถานีอุตุนิยมวิทยาลำปาง', 'nameEN': 'Meteorological stations, Lampang', 'areaTH': 'ต.พระบาท อ.เมือง, ลำปาง', 'areaEN': 'Phra Bat, Meuang, Lampang', 'stationType': 'GROUND', 'lat': '18.2783333', 'long': '99.5064666', 'forecast': [], 'AQILast': {'date': '2024-12-15', 'time': '17:00', 'PM25': {'color_id': '1', 'aqi': '18', 'value': '10.8'}, 'PM10': {'color_id': '0', 'aqi': '-1', 'value': '-1'}, 'O3': {'color_id': '0', 'aqi': '-1', 'value': '-1'}, 'CO': {'color_id': '0', 'aqi': '-1', 'value': '-1'}, 'NO2': {'color_id': '0', 'aqi': '-1', 'value': '-1'}, 'SO2': {'color_id': '0', 'aqi': '-1', 'value': '-1'}, 'AQI': {'color_id': '1', 'aqi': '18', 'param': 'PM25'}}}, {'stationID': '38t', 'nameTH': 'โรงพยาบาลส่งเสริมสุขภาพตำบลบ้านสบป้าด ', 'nameEN': 'Health Promotion Hospital Sob Pad, Lampang', 'areaTH': 'ต.สบป้าด อ.แม่เมาะ, ลำปาง', 'areaEN': 'Sop Pat, Mae Mo, Lampang', 'stationType': 'GROUND', 'lat': '18.2508166', 'long': '99.76395', 'forecast': [], 'AQILast': {'date': '2024-12-15', 'time': '17:00', 'PM25': {'color_id': '1', 'aqi': '14', 'value': '8.1'}, 'PM10': {'color_id': '0', 'aqi': '-1', 'value': '-1'}, 'O3': {'color_id': '0', 'aqi': '-1', 'value': '-1'}, 'CO': {'color_id': '0', 'aqi': '-1', 'value': '-1'}, 'NO2': {'color_id': '0', 'aqi': '-1', 'value': '-1'}, 'SO2': {'color_id': '0', 'aqi': '-1', 'value': '-1'}, 'AQI': {'color_id': '1', 'aqi': '14', 'param': 'PM25'}}}, {'stationID': '39t', 'nameTH': 'โรงพยาบาลส่งเสริมสุขภาพตำบลท่าสี ', 'nameEN': 'Health Promotion Hospital Banthasri', 'areaTH': 'ต.บ้านดง อ.แม่เมาะ, ลำปาง', 'areaEN': 'Ban Dong, Mae Mo, Lampang', 'stationType': 'GROUND', 'lat': '18.4267833', 'long': '99.7576333', 'forecast': [], 'AQILast': {'date': '2024-12-15', 'time': '17:00', 'PM25': {'color_id': '1', 'aqi': '14', 'value': '8.1'}, 'PM10': {'color_id': '0', 'aqi': '-1', 'value': '-1'}, 'O3': {'color_id': '0', 'aqi': '-1', 'value': '-1'}, 'CO': {'color_id': '0', 'aqi': '-999', 'value': '-1'}, 'NO2': {'color_id': '0', 'aqi': '-1', 'value': '-1'}, 'SO2': {'color_id': '0', 'aqi': '-1', 'value': '-1'}, 'AQI': {'color_id': '1', 'aqi': '14', 'param': 'PM25'}}}, {'stationID': '40t', 'nameTH': 'การประปาส่วนภูมิภาคแม่เมาะ', 'nameEN': 'Provincial Waterworks Authority Mae Moh', 'areaTH': 'ต.แม่เมาะ อ.แม่เมาะ, ลำปาง', 'areaEN': 'Mae Mo, Mae Mo, Lampang', 'stationType': 'GROUND', 'lat': '18.2826333', 'long': '99.6598166', 'forecast': [], 'AQILast': {'date': '2024-12-15', 'time': '17:00', 'PM25': {'color_id': '1', 'aqi': '14', 'value': '8.3'}, 'PM10': {'color_id': '0', 'aqi': '-1', 'value': '-1'}, 'O3': {'color_id': '0', 'aqi': '-1', 'value': '-1'}, 'CO': {'color_id': '0', 'aqi': '-999', 'value': '-1'}, 'NO2': {'color_id': '0', 'aqi': '-1', 'value': '-1'}, 'SO2': {'color_id': '0', 'aqi': '-1', 'value': '-1'}, 'AQI': {'color_id': '1', 'aqi': '14', 'param': 'PM25'}}}, {'stationID': '68t', 'nameTH': 'อุตุนิยมวิทยาลำพูน', 'nameEN': 'Meteorological Staions, Lamphun', 'areaTH': 'ต.บ้านกลาง อ.เมือง, ลำพูน', 'areaEN': 'ฺBan Klang, Mueang, Lamphun', 'stationType': 'GROUND', 'lat': '18.567194', 'long': '99.038639', 'forecast': [], 'AQILast': {'date': '2024-12-15', 'time': '17:00', 'PM25': {'color_id': '1', 'aqi': '20', 'value': '11.9'}, 'PM10': {'color_id': '0', 'aqi': '-1', 'value': '-1'}, 'O3': {'color_id': '1', 'aqi': '3', 'value': '4'}, 'CO': {'color_id': '0', 'aqi': '-1', 'value': '-1'}, 'NO2': {'color_id': '1', 'aqi': '0', 'value': '1'}, 'SO2': {'color_id': '0', 'aqi': '-1', 'value': '-1'}, 'AQI': {'color_id': '1', 'aqi': '20', 'param': 'PM25'}}}, {'stationID': 'o20', 'nameTH': 'บริเวณที่ว่าการอำเภอลี้', 'nameEN': ' Li District Office', 'areaTH': 'ต.ลี้ อ.ลี้, ลำพูน', 'areaEN': 'Lee Subdistrict, Lee District, Lamphun', 'stationType': 'MOBILE', 'lat': '17.802222', 'long': '98.949722', 'forecast': [], 'AQILast': {'date': '2024-12-15', 'time': '17:00', 'PM25': {'color_id': '1', 'aqi': '13', 'value': '8.0'}, 'PM10': {'color_id': '0', 'aqi': '-999', 'value': '-1'}, 'O3': {'color_id': '0', 'aqi': '-999', 'value': '-1'}, 'CO': {'color_id': '0', 'aqi': '-999', 'value': '-1'}, 'NO2': {'color_id': '0', 'aqi': '-999', 'value': '-1'}, 'SO2': {'color_id': '0', 'aqi': '-999', 'value': '-1'}, 'AQI': {'color_id': '1', 'aqi': '13', 'param': 'PM25'}}}, {'stationID': '112t', 'nameTH': 'สถานีอุตุนิยมวิทยาศรีสะเกษ', 'nameEN': 'Sisaket Meteorological Center', 'areaTH': 'ต.หนองครก อ.เมือง, ศรีสะเกษ', 'areaEN': 'Nongkrog Subdistrict, Mueang District, Sisaket', 'stationType': 'GROUND', 'lat': '15.087087', 'long': '104.326787', 'forecast': [], 'AQILast': {'date': '2024-12-15', 'time': '17:00', 'PM25': {'color_id': '1', 'aqi': '10', 'value': '6.0'}, 'PM10': {'color_id': '0', 'aqi': '-999', 'value': '-1'}, 'O3': {'color_id': '2', 'aqi': '43', 'value': '46'}, 'CO': {'color_id': '1', 'aqi': '1', 'value': '0.20'}, 'NO2': {'color_id': '1', 'aqi': '4', 'value': '9'}, 'SO2': {'color_id': '1', 'aqi': '0', 'value': '0'}, 'AQI': {'color_id': '2', 'aqi': '43', 'param': 'O3'}}}, {'stationID': '90t', 'nameTH': 'สถานีอุตุนิยมวิทยาสกลนคร', 'nameEN': 'Meteorological stations, Sakon Nakhon', 'areaTH': 'ต.ธาตุนาเวง อ.เมือง, สกลนคร', 'areaEN': 'That Naweng, Mueang, Sakon Nakhon', 'stationType': 'GROUND', 'lat': '17.15662', 'long': '104.133216', 'forecast': [], 'AQILast': {'date': '2024-12-15', 'time': '17:00', 'PM25': {'color_id': '1', 'aqi': '9', 'value': '5.6'}, 'PM10': {'color_id': '1', 'aqi': '7', 'value': '13'}, 'O3': {'color_id': '2', 'aqi': '45', 'value': '47'}, 'CO': {'color_id': '1', 'aqi': '2', 'value': '0.30'}, 'NO2': {'color_id': '0', 'aqi': '-1', 'value': '-1'}, 'SO2': {'color_id': '1', 'aqi': '1', 'value': '2'}, 'AQI': {'color_id': '2', 'aqi': '45', 'param': 'O3'}}}, {'stationID': '44t', 'nameTH': 'เทศบาลนครหาดใหญ่ ', 'nameEN': 'Hat Yai Municipality', 'areaTH': 'ต.หาดใหญ่ อ.หาดใหญ่, สงขลา', 'areaEN': 'Hat Yai, Songkhla', 'stationType': 'GROUND', 'lat': '7.020434', 'long': '100.484088', 'forecast': [], 'AQILast': {'date': '2024-12-15', 'time': '17:00', 'PM25': {'color_id': '1', 'aqi': '10', 'value': '6.1'}, 'PM10': {'color_id': '0', 'aqi': '-1', 'value': '-1'}, 'O3': {'color_id': '1', 'aqi': '0', 'value': '0'}, 'CO': {'color_id': '0', 'aqi': '-1', 'value': '-1'}, 'NO2': {'color_id': '0', 'aqi': '-1', 'value': '-1'}, 'SO2': {'color_id': '0', 'aqi': '-1', 'value': '-1'}, 'AQI': {'color_id': '1', 'aqi': '10', 'param': 'PM25'}}}, {'stationID': 'o75', 'nameTH': 'โรงเรียนชุมชนบ้านปาดังเบซาร์', 'nameEN': 'Chumchon Banpadang School', 'areaTH': 'ต.ปาดังเบซาร์ อ.สะเดา, จ.สงขลา', 'areaEN': 'Padangbesa, Sadao District, Songkhla', 'stationType': 'MOBILE', 'lat': '6.66638438023621', 'long': '100.32726914385205', 'forecast': [], 'AQILast': {'date': '2024-12-15', 'time': '17:00', 'PM25': {'color_id': '1', 'aqi': '6', 'value': '3.4'}, 'PM10': {'color_id': '1', 'aqi': '5', 'value': '10'}, 'O3': {'color_id': '0', 'aqi': '-999', 'value': '-1'}, 'CO': {'color_id': '0', 'aqi': '-999', 'value': '-1'}, 'NO2': {'color_id': '0', 'aqi': '-999', 'value': '-1'}, 'SO2': {'color_id': '0', 'aqi': '-999', 'value': '-1'}, 'AQI': {'color_id': '1', 'aqi': '6', 'param': 'PM25'}}}, {'stationID': '80t', 'nameTH': 'ศาลากลาง จ.สตูล', 'nameEN': 'City Hall, Satun', 'areaTH': 'ต.พิมาน อ.เมือง, สตูล', 'areaEN': 'Phiman, Mueang, Satun', 'stationType': 'GROUND', 'lat': '6.624747', 'long': '100.066159', 'forecast': [], 'AQILast': {'date': '2024-12-15', 'time': '17:00', 'PM25': {'color_id': '1', 'aqi': '10', 'value': '6.0'}, 'PM10': {'color_id': '0', 'aqi': '-1', 'value': '-1'}, 'O3': {'color_id': '0', 'aqi': '-1', 'value': '-1'}, 'CO': {'color_id': '0', 'aqi': '-1', 'value': '-1'}, 'NO2': {'color_id': '0', 'aqi': '-1', 'value': '-1'}, 'SO2': {'color_id': '0', 'aqi': '-1', 'value': '-1'}, 'AQI': {'color_id': '1', 'aqi': '10', 'param': 'PM25'}}}, {'stationID': '08t', 'nameTH': 'ศูนย์ฟื้นฟูอาชีพคนพิการและทุพลภาพ ', 'nameEN': 'Prabadang Rehabiltation Center', 'areaTH': 'ต.ทรงคนอง อ.พระประแดง, สมุทรปราการ', 'areaEN': 'Song Kanong, Phra Pradaeng, Samut Prakan', 'stationType': 'GROUND', 'lat': '13.664087', 'long': '100.543436', 'forecast': [], 'AQILast': {'date': '2024-12-15', 'time': '17:00', 'PM25': {'color_id': '2', 'aqi': '36', 'value': '19.1'}, 'PM10': {'color_id': '0', 'aqi': '-1', 'value': '-1'}, 'O3': {'color_id': '0', 'aqi': '-1', 'value': '-1'}, 'CO': {'color_id': '0', 'aqi': '-1', 'value': '-1'}, 'NO2': {'color_id': '0', 'aqi': '-1', 'value': '-1'}, 'SO2': {'color_id': '0', 'aqi': '-1', 'value': '-1'}, 'AQI': {'color_id': '2', 'aqi': '36', 'param': 'PM25'}}}, {'stationID': '16t', 'nameTH': 'โรงไฟฟ้าพระนครใต้ ', 'nameEN': 'South Bangkok Power Plant', 'areaTH': 'ต.บางโปรง อ.เมือง, สมุทรปราการ', 'areaEN': 'Bang Prong, Meuang, Samut Prakan', 'stationType': 'GROUND', 'lat': '13.618', 'long': '100.5562', 'forecast': [], 'AQILast': {'date': '2024-12-15', 'time': '17:00', 'PM25': {'color_id': '2', 'aqi': '30', 'value': '16.7'}, 'PM10': {'color_id': '1', 'aqi': '17', 'value': '34'}, 'O3': {'color_id': '0', 'aqi': '-1', 'value': '-1'}, 'CO': {'color_id': '0', 'aqi': '-1', 'value': '-1'}, 'NO2': {'color_id': '0', 'aqi': '-1', 'value': '-1'}, 'SO2': {'color_id': '0', 'aqi': '-1', 'value': '-1'}, 'AQI': {'color_id': '2', 'aqi': '30', 'param': 'PM25'}}}, {'stationID': '17t', 'nameTH': 'บ้านพักกรมอุตสาหกรรมพื้นฐานและการเหมืองแร่', 'nameEN': 'Residence for Dept. of Mineral Resources', 'areaTH': 'ต.ตลาด อ.พระประแดง, สมุทรปราการ', 'areaEN': 'Talat, Phra Pradaeng, Samut Prakan', 'stationType': 'GROUND', 'lat': '13.652141', 'long': '100.531805', 'forecast': [], 'AQILast': {'date': '2024-12-15', 'time': '17:00', 'PM25': {'color_id': '1', 'aqi': '20', 'value': '12.0'}, 'PM10': {'color_id': '0', 'aqi': '-1', 'value': '-1'}, 'O3': {'color_id': '0', 'aqi': '-1', 'value': '-1'}, 'CO': {'color_id': '0', 'aqi': '-1', 'value': '-1'}, 'NO2': {'color_id': '0', 'aqi': '-1', 'value': '-1'}, 'SO2': {'color_id': '0', 'aqi': '-1', 'value': '-1'}, 'AQI': {'color_id': '1', 'aqi': '20', 'param': 'PM25'}}}, {'stationID': '18t', 'nameTH': 'ศาลากลางจังหวัดสมุทรปราการ ', 'nameEN': 'City Hall, Samut Prakan', 'areaTH': 'ต.ปากน้ำ อ.เมือง, สมุทรปราการ', 'areaEN': 'Pak Nam, Meuang, Samut Prakan', 'stationType': 'GROUND', 'lat': '13.599149', 'long': '100.597345', 'forecast': [], 'AQILast': {'date': '2024-12-15', 'time': '17:00', 'PM25': {'color_id': '3', 'aqi': '54', 'value': '25.8'}, 'PM10': {'color_id': '0', 'aqi': '-1', 'value': '-1'}, 'O3': {'color_id': '0', 'aqi': '-1', 'value': '-1'}, 'CO': {'color_id': '0', 'aqi': '-1', 'value': '-1'}, 'NO2': {'color_id': '0', 'aqi': '-1', 'value': '-1'}, 'SO2': {'color_id': '0', 'aqi': '-1', 'value': '-1'}, 'AQI': {'color_id': '3', 'aqi': '54', 'param': 'PM25'}}}, {'stationID': '19t', 'nameTH': 'การเคหะชุมชนเมืองใหม่บางพลี ', 'nameEN': 'National Housing Authority Bangplee', 'areaTH': 'ต.บางเสาธง อ.บางเสาธง, สมุทรปราการ', 'areaEN': 'Bang Sao Thong, Bang Sao Thong, Samut Prakan\\xa0', 'stationType': 'GROUND', 'lat': '13.5705', 'long': '100.7862867', 'forecast': [], 'AQILast': {'date': '2024-12-15', 'time': '17:00', 'PM25': {'color_id': '2', 'aqi': '31', 'value': '17.1'}, 'PM10': {'color_id': '0', 'aqi': '-1', 'value': '-1'}, 'O3': {'color_id': '0', 'aqi': '-1', 'value': '-1'}, 'CO': {'color_id': '0', 'aqi': '-1', 'value': '-1'}, 'NO2': {'color_id': '0', 'aqi': '-1', 'value': '-1'}, 'SO2': {'color_id': '0', 'aqi': '-1', 'value': '-1'}, 'AQI': {'color_id': '2', 'aqi': '31', 'param': 'PM25'}}}, {'stationID': '84t', 'nameTH': 'สำนักงานสาธารณสุขจังหวัดสมุทรสงคราม', 'nameEN': 'Samut Songkhram Health Office', 'areaTH': ' ต.ลาดใหญ่ อ.เมือง, สมุทรสงคราม', 'areaEN': 'Mueang, Samut Songkhram', 'stationType': 'GROUND', 'lat': '13.428581', 'long': '100.024664', 'forecast': [], 'AQILast': {'date': '2024-12-15', 'time': '17:00', 'PM25': {'color_id': '2', 'aqi': '40', 'value': '20.7'}, 'PM10': {'color_id': '1', 'aqi': '23', 'value': '45'}, 'O3': {'color_id': '3', 'aqi': '59', 'value': '54'}, 'CO': {'color_id': '0', 'aqi': '-1', 'value': '-1'}, 'NO2': {'color_id': '1', 'aqi': '0', 'value': '0'}, 'SO2': {'color_id': '0', 'aqi': '-1', 'value': '-1'}, 'AQI': {'color_id': '3', 'aqi': '59', 'param': 'O3'}}}, {'stationID': '14t', 'nameTH': 'แขวงการทางสมุทรสาคร ', 'nameEN': 'Highway District', 'areaTH': 'ต.อ้อมน้อย อ.กระทุ่มแบน, สมุทรสาคร', 'areaEN': 'Om Noi, Krathum Baen, Samut Sakhon', 'stationType': 'GROUND', 'lat': '13.7054879', 'long': '100.315622', 'forecast': [], 'AQILast': {'date': '2024-12-15', 'time': '17:00', 'PM25': {'color_id': '2', 'aqi': '40', 'value': '21.0'}, 'PM10': {'color_id': '0', 'aqi': '-1', 'value': '-1'}, 'O3': {'color_id': '0', 'aqi': '-1', 'value': '-1'}, 'CO': {'color_id': '0', 'aqi': '-1', 'value': '-1'}, 'NO2': {'color_id': '0', 'aqi': '-1', 'value': '-1'}, 'SO2': {'color_id': '0', 'aqi': '-1', 'value': '-1'}, 'AQI': {'color_id': '2', 'aqi': '40', 'param': 'PM25'}}}, {'stationID': '27t', 'nameTH': 'โรงเรียนสมุทรสาครวิทยาลัย', 'nameEN': 'Samut Sakhon Wittayalai School', 'areaTH': 'ต.มหาชัย อ.เมือง, สมุทรสาคร', 'areaEN': 'Maha Chai, Mueang, Samut Sakhon', 'stationType': 'GROUND', 'lat': '13.5502631', 'long': '100.2647676', 'forecast': [], 'AQILast': {'date': '2024-12-15', 'time': '17:00', 'PM25': {'color_id': '3', 'aqi': '60', 'value': '27.3'}, 'PM10': {'color_id': '0', 'aqi': '-1', 'value': '-1'}, 'O3': {'color_id': '0', 'aqi': '-1', 'value': '-1'}, 'CO': {'color_id': '0', 'aqi': '-999', 'value': '-1'}, 'NO2': {'color_id': '0', 'aqi': '-1', 'value': '-1'}, 'SO2': {'color_id': '1', 'aqi': '4', 'value': '16'}, 'AQI': {'color_id': '3', 'aqi': '60', 'param': 'PM25'}}}, {'stationID': '24t', 'nameTH': 'สถานีตำรวจภูธรตำบลหน้าพระลาน ', 'nameEN': 'Na Phralan Police Station ', 'areaTH': 'ต.หน้าพระลาน อ.เฉลิมพระเกียรติ, สระบุรี', 'areaEN': 'Na Phra Lan, Chaloem Phra Kiat, Saraburi', 'stationType': 'GROUND', 'lat': '14.685833', 'long': '100.871996', 'forecast': [], 'AQILast': {'date': '2024-12-15', 'time': '17:00', 'PM25': {'color_id': '2', 'aqi': '41', 'value': '21.1'}, 'PM10': {'color_id': '3', 'aqi': '54', 'value': '83'}, 'O3': {'color_id': '0', 'aqi': '-1', 'value': '-1'}, 'CO': {'color_id': '0', 'aqi': '-1', 'value': '-1'}, 'NO2': {'color_id': '0', 'aqi': '-1', 'value': '-1'}, 'SO2': {'color_id': '0', 'aqi': '-1', 'value': '-1'}, 'AQI': {'color_id': '3', 'aqi': '54', 'param': 'PM10'}}}, {'stationID': '25t', 'nameTH': 'สถานีดับเพลิงพระลักษณ์', 'nameEN': 'Khao Noi Fire Station', 'areaTH': 'ต.ปากเพรียว อ.เมือง, สระบุรี', 'areaEN': 'Pak Phriao, Mueang Saraburi, Saraburi', 'stationType': 'GROUND', 'lat': '14.526343', 'long': '100.926047', 'forecast': [], 'AQILast': {'date': '2024-12-15', 'time': '17:00', 'PM25': {'color_id': '1', 'aqi': '17', 'value': '10.0'}, 'PM10': {'color_id': '1', 'aqi': '24', 'value': '48'}, 'O3': {'color_id': '0', 'aqi': '-1', 'value': '-1'}, 'CO': {'color_id': '0', 'aqi': '-999', 'value': '-1'}, 'NO2': {'color_id': '0', 'aqi': '-1', 'value': '-1'}, 'SO2': {'color_id': '0', 'aqi': '-999', 'value': '-1'}, 'AQI': {'color_id': '1', 'aqi': '24', 'param': 'PM10'}}}, {'stationID': '71t', 'nameTH': 'สวนกาญจนาภิเษก ร.9 (ฝั่งสวนหิน)', 'nameEN': 'Kanjanapisek Park', 'areaTH': 'ต.อรัญประเทศ อ.อรัญประเทศ, สระแก้ว', 'areaEN': 'Aranyaprathet, Aranyaprathet, Sa Kaeo', 'stationType': 'GROUND', 'lat': '13.691047', 'long': '102.510442', 'forecast': [], 'AQILast': {'date': '2024-12-15', 'time': '17:00', 'PM25': {'color_id': '1', 'aqi': '11', 'value': '6.5'}, 'PM10': {'color_id': '1', 'aqi': '14', 'value': '28'}, 'O3': {'color_id': '3', 'aqi': '61', 'value': '55'}, 'CO': {'color_id': '1', 'aqi': '2', 'value': '0.40'}, 'NO2': {'color_id': '1', 'aqi': '1', 'value': '3'}, 'SO2': {'color_id': '1', 'aqi': '1', 'value': '5'}, 'AQI': {'color_id': '3', 'aqi': '61', 'param': 'O3'}}}, {'stationID': '104t', 'nameTH': 'โรงเรียนสิงห์บุรี', 'nameEN': 'SINGBURI SCHOOL', 'areaTH': 'ต.บางมัญ อ.เมือง, สิงห์บุรี', 'areaEN': ' Bang Man Subdistrict, Mueang District, Sing Buri', 'stationType': 'GROUND', 'lat': '14.8933874', 'long': '100.4130773', 'forecast': [], 'AQILast': {'date': '2024-12-15', 'time': '17:00', 'PM25': {'color_id': '2', 'aqi': '39', 'value': '20.4'}, 'PM10': {'color_id': '0', 'aqi': '-1', 'value': '-1'}, 'O3': {'color_id': '3', 'aqi': '54', 'value': '52'}, 'CO': {'color_id': '1', 'aqi': '2', 'value': '0.40'}, 'NO2': {'color_id': '1', 'aqi': '3', 'value': '7'}, 'SO2': {'color_id': '1', 'aqi': '1', 'value': '3'}, 'AQI': {'color_id': '3', 'aqi': '54', 'param': 'O3'}}}, {'stationID': '85t', 'nameTH': 'สนามกีฬากลางจังหวัดสุพรรณบุรี', 'nameEN': 'Suphan Buri Provincial Central Stadium', 'areaTH': 'ต.ดอนกำยาน อ.เมือง, สุพรรณบุรี', 'areaEN': 'Don Kamyan, Mueang, Suphun Buri', 'stationType': 'GROUND', 'lat': '14.476214', 'long': '100.086095', 'forecast': [], 'AQILast': {'date': '2024-12-15', 'time': '17:00', 'PM25': {'color_id': '1', 'aqi': '18', 'value': '10.7'}, 'PM10': {'color_id': '1', 'aqi': '16', 'value': '31'}, 'O3': {'color_id': '0', 'aqi': '-1', 'value': '-1'}, 'CO': {'color_id': '0', 'aqi': '-1', 'value': '-1'}, 'NO2': {'color_id': '0', 'aqi': '-1', 'value': '-1'}, 'SO2': {'color_id': '0', 'aqi': '-1', 'value': '-1'}, 'AQI': {'color_id': '1', 'aqi': '18', 'param': 'PM25'}}}, {'stationID': '42t', 'nameTH': 'สำนักงานสิ่งแวดล้อมภาคที่ 14', 'nameEN': 'Environment Agency Section 14, Surat Thani', 'areaTH': 'ต.มะขามเตี้ย อ.เมือง, สุราษฎร์ธานี', 'areaEN': 'Makham Tia, Mueang, Surat Thani', 'stationType': 'GROUND', 'lat': '9.126017', 'long': '99.325145', 'forecast': [], 'AQILast': {'date': '2024-12-15', 'time': '17:00', 'PM25': {'color_id': '1', 'aqi': '10', 'value': '5.8'}, 'PM10': {'color_id': '0', 'aqi': '-1', 'value': '-1'}, 'O3': {'color_id': '0', 'aqi': '-1', 'value': '-1'}, 'CO': {'color_id': '0', 'aqi': '-1', 'value': '-1'}, 'NO2': {'color_id': '0', 'aqi': '-1', 'value': '-1'}, 'SO2': {'color_id': '0', 'aqi': '-1', 'value': '-1'}, 'AQI': {'color_id': '1', 'aqi': '10', 'param': 'PM25'}}}, {'stationID': '111t', 'nameTH': 'สถานีอุตุนิยมวิทยาสุรินทร์', 'nameEN': 'Surin Meteorological Center', 'areaTH': 'ต.นอกเมือง, อ.เมือง, จ.สุรินทร์', 'areaEN': 'Nok Mueang, Mueang, Surin', 'stationType': 'GROUND', 'lat': '14.8762222', 'long': '103.4965833', 'forecast': [], 'AQILast': {'date': '2024-12-15', 'time': '17:00', 'PM25': {'color_id': '1', 'aqi': '10', 'value': '6.2'}, 'PM10': {'color_id': '0', 'aqi': '-999', 'value': '-1'}, 'O3': {'color_id': '2', 'aqi': '50', 'value': '50'}, 'CO': {'color_id': '1', 'aqi': '2', 'value': '0.40'}, 'NO2': {'color_id': '1', 'aqi': '3', 'value': '7'}, 'SO2': {'color_id': '1', 'aqi': '0', 'value': '0'}, 'AQI': {'color_id': '2', 'aqi': '50', 'param': 'O3'}}}, {'stationID': '96t', 'nameTH': 'สวนสาธารณะ ชุมชนเลอไทย', 'nameEN': 'Le Thai Community Park', 'areaTH': 'ต.ธานี อ.เมือง, สุโขทัย', 'areaEN': 'Tambon Thani, Amphoe Mueang, Sukhothai', 'stationType': 'GROUND', 'lat': '17.006059', 'long': '99.81927', 'forecast': [], 'AQILast': {'date': '2024-12-15', 'time': '17:00', 'PM25': {'color_id': '1', 'aqi': '19', 'value': '11.3'}, 'PM10': {'color_id': '1', 'aqi': '12', 'value': '24'}, 'O3': {'color_id': '2', 'aqi': '41', 'value': '45'}, 'CO': {'color_id': '1', 'aqi': '0', 'value': '0.00'}, 'NO2': {'color_id': '1', 'aqi': '1', 'value': '2'}, 'SO2': {'color_id': '1', 'aqi': '0', 'value': '0'}, 'AQI': {'color_id': '2', 'aqi': '41', 'param': 'O3'}}}, {'stationID': '82t', 'nameTH': 'สวนสาธารณะหนองถิ่น', 'nameEN': 'Nong Thin Public Park, Nong Khai', 'areaTH': ' ต.มีชัย อ.เมือง, หนองคาย', 'areaEN': 'Meechai, Meuang, Nong Khai', 'stationType': 'GROUND', 'lat': '17.87748', 'long': '102.728925', 'forecast': [], 'AQILast': {'date': '2024-12-15', 'time': '17:00', 'PM25': {'color_id': '1', 'aqi': '9', 'value': '5.6'}, 'PM10': {'color_id': '1', 'aqi': '9', 'value': '18'}, 'O3': {'color_id': '1', 'aqi': '24', 'value': '34'}, 'CO': {'color_id': '1', 'aqi': '1', 'value': '0.20'}, 'NO2': {'color_id': '1', 'aqi': '1', 'value': '3'}, 'SO2': {'color_id': '1', 'aqi': '0', 'value': '1'}, 'AQI': {'color_id': '1', 'aqi': '24', 'param': 'O3'}}}, {'stationID': 'o24', 'nameTH': 'องค์การริหารส่วนจังหวัดหนองบัวลำภู', 'nameEN': 'Nong Bua Lamphu Provincial Administrative Organization ', 'areaTH': 'ต.หนองบัว อ.เมือง, หนองบัวลำภู', 'areaEN': 'Nong Bua Subdistrict, Mueang District, Nong Bua Lamphu', 'stationType': 'MOBILE', 'lat': '17.193824', 'long': '102.4585009', 'forecast': [], 'AQILast': {'date': '2024-12-15', 'time': '17:00', 'PM25': {'color_id': '1', 'aqi': '12', 'value': '7.1'}, 'PM10': {'color_id': '0', 'aqi': '-999', 'value': '-1'}, 'O3': {'color_id': '0', 'aqi': '-999', 'value': '-1'}, 'CO': {'color_id': '0', 'aqi': '-999', 'value': '-1'}, 'NO2': {'color_id': '0', 'aqi': '-999', 'value': '-1'}, 'SO2': {'color_id': '0', 'aqi': '-999', 'value': '-1'}, 'AQI': {'color_id': '1', 'aqi': '12', 'param': 'PM25'}}}, {'stationID': '110t', 'nameTH': 'สำนักงานเทศบาลเมืองอำนาจเจริญ', 'nameEN': 'Amnat Charoen Municipality', 'areaTH': 'ต.บุ่ง, อ.เมือง, จ.อำนาจเจริญ', 'areaEN': 'Bung, Mueang, Amnat Charoen', 'stationType': 'GROUND', 'lat': '15.8758', 'long': '104.6223', 'forecast': [], 'AQILast': {'date': '2024-12-15', 'time': '17:00', 'PM25': {'color_id': '1', 'aqi': '24', 'value': '14.2'}, 'PM10': {'color_id': '0', 'aqi': '-999', 'value': '-1'}, 'O3': {'color_id': '2', 'aqi': '43', 'value': '46'}, 'CO': {'color_id': '1', 'aqi': '2', 'value': '0.40'}, 'NO2': {'color_id': '1', 'aqi': '2', 'value': '5'}, 'SO2': {'color_id': '1', 'aqi': '0', 'value': '1'}, 'AQI': {'color_id': '2', 'aqi': '43', 'param': 'O3'}}}, {'stationID': '91t', 'nameTH': 'สวนสาธารณะหนองประจักษ์ อุดรธานี', 'nameEN': 'Nong Prajak Public Park, Udon Thani', 'areaTH': 'ต.หมากแข้ง อ.เมือง, อุดรธานี', 'areaEN': 'Mak Khaeng, Mueang, Udon Thani', 'stationType': 'GROUND', 'lat': '17.414174', 'long': '102.780926', 'forecast': [], 'AQILast': {'date': '2024-12-15', 'time': '17:00', 'PM25': {'color_id': '1', 'aqi': '10', 'value': '6.0'}, 'PM10': {'color_id': '1', 'aqi': '6', 'value': '12'}, 'O3': {'color_id': '1', 'aqi': '21', 'value': '30'}, 'CO': {'color_id': '1', 'aqi': '1', 'value': '0.20'}, 'NO2': {'color_id': '1', 'aqi': '1', 'value': '2'}, 'SO2': {'color_id': '1', 'aqi': '1', 'value': '2'}, 'AQI': {'color_id': '1', 'aqi': '21', 'param': 'O3'}}}, {'stationID': '92t', 'nameTH': 'สวนมหามงคลเฉลิมพระชนมพรรษา 6 รอบ 5 ธันวาคม 2552 อุตรดิตถ์', 'nameEN': '72nd Anniversary King Bhumibol Public Park, Uttaradit', 'areaTH': 'ต.ท่าอิฐ อ.เมือง, อุตรดิตถ์', 'areaEN': 'Tha It, Mueang, Uttaradit', 'stationType': 'GROUND', 'lat': '17.631352', 'long': '100.09896', 'forecast': [], 'AQILast': {'date': '2024-12-15', 'time': '17:00', 'PM25': {'color_id': '1', 'aqi': '17', 'value': '10.4'}, 'PM10': {'color_id': '1', 'aqi': '11', 'value': '22'}, 'O3': {'color_id': '2', 'aqi': '35', 'value': '41'}, 'CO': {'color_id': '1', 'aqi': '15', 'value': '2.60'}, 'NO2': {'color_id': '1', 'aqi': '3', 'value': '7'}, 'SO2': {'color_id': '1', 'aqi': '0', 'value': '0'}, 'AQI': {'color_id': '2', 'aqi': '35', 'param': 'O3'}}}, {'stationID': '98t', 'nameTH': 'สถานีสวนเฉลิมพระเกียรติพระบาทสมเด็จพระเจ้าอยู่หัว เฉลิมพระชนมพรรษา 80 พรรษา', 'nameEN': 'Chaloem Phrakiat Park Station 80th birthday celebration', 'areaTH': 'ต.อุทัยใหม่ อ.เมือง, อุทัยธานี', 'areaEN': 'Mueang, Uthai Thani', 'stationType': 'GROUND', 'lat': '15.373638', 'long': '100.038725', 'forecast': [], 'AQILast': {'date': '2024-12-15', 'time': '17:00', 'PM25': {'color_id': '2', 'aqi': '44', 'value': '22.5'}, 'PM10': {'color_id': '1', 'aqi': '21', 'value': '41'}, 'O3': {'color_id': '2', 'aqi': '43', 'value': '46'}, 'CO': {'color_id': '1', 'aqi': '3', 'value': '0.50'}, 'NO2': {'color_id': '1', 'aqi': '4', 'value': '10'}, 'SO2': {'color_id': '1', 'aqi': '0', 'value': '1'}, 'AQI': {'color_id': '2', 'aqi': '44', 'param': 'PM25'}}}, {'stationID': '83t', 'nameTH': 'ศูนย์แสดงและจำหน่ายสินค้า OTOP จังหวัดอุบลราชธานี', 'nameEN': 'OTOP Center, Ubon Ratchathani', 'areaTH': 'ต.ในเมือง อ.เมือง, อุบลราชธานี', 'areaEN': 'Mueang, Ubon Ratchathani', 'stationType': 'GROUND', 'lat': '15.245413', 'long': '104.846219', 'forecast': [], 'AQILast': {'date': '2024-12-15', 'time': '17:00', 'PM25': {'color_id': '1', 'aqi': '7', 'value': '4.1'}, 'PM10': {'color_id': '1', 'aqi': '9', 'value': '17'}, 'O3': {'color_id': '0', 'aqi': '-1', 'value': '-1'}, 'CO': {'color_id': '0', 'aqi': '-1', 'value': '-1'}, 'NO2': {'color_id': '1', 'aqi': '4', 'value': '10'}, 'SO2': {'color_id': '0', 'aqi': '-1', 'value': '-1'}, 'AQI': {'color_id': '1', 'aqi': '9', 'param': 'PM10'}}}, {'stationID': 'o66', 'nameTH': ' สวนน้ำเฉลิมพระเกียรติ ', 'nameEN': 'Chaloem Phra Kiat Water Park', 'areaTH': 'ต.ย่านซื่อ อ.เมือง, อ่างทอง', 'areaEN': 'Yan Sue Subdistrict, Mueang Ang Thong District Ang Thong Province', 'stationType': 'MOBILE', 'lat': '14.606306', 'long': '100.453589', 'forecast': [], 'AQILast': {'date': '2024-12-15', 'time': '17:00', 'PM25': {'color_id': '1', 'aqi': '21', 'value': '12.4'}, 'PM10': {'color_id': '1', 'aqi': '19', 'value': '37'}, 'O3': {'color_id': '0', 'aqi': '-999', 'value': '-1'}, 'CO': {'color_id': '0', 'aqi': '-999', 'value': '-1'}, 'NO2': {'color_id': '0', 'aqi': '-999', 'value': '-1'}, 'SO2': {'color_id': '0', 'aqi': '-999', 'value': '-1'}, 'AQI': {'color_id': '1', 'aqi': '21', 'param': 'PM25'}}}, {'stationID': '57t', 'nameTH': 'สำนักงานทรัพยากรธรรมชาติและสิ่งแวดล้อมจังหวัดเชียงราย', 'nameEN': 'Natural Resources and Environment Office, Chiangrai', 'areaTH': 'ต.เวียง อ.เมือง, เชียงราย', 'areaEN': 'Wiang, Meuang, Chiang Rai', 'stationType': 'GROUND', 'lat': '19.909217', 'long': '99.823467', 'forecast': [], 'AQILast': {'date': '2024-12-15', 'time': '17:00', 'PM25': {'color_id': '1', 'aqi': '16', 'value': '9.3'}, 'PM10': {'color_id': '1', 'aqi': '10', 'value': '19'}, 'O3': {'color_id': '0', 'aqi': '-1', 'value': '-1'}, 'CO': {'color_id': '0', 'aqi': '-1', 'value': '-1'}, 'NO2': {'color_id': '0', 'aqi': '-1', 'value': '-1'}, 'SO2': {'color_id': '0', 'aqi': '-999', 'value': '-1'}, 'AQI': {'color_id': '1', 'aqi': '16', 'param': 'PM25'}}}, {'stationID': '73t', 'nameTH': 'สำนักงานสาธารณสุขแม่สาย', 'nameEN': 'Maesai Health Office', 'areaTH': 'ต.เวียงพางคำ อ.แม่สาย, เชียงราย', 'areaEN': 'Wiang Phang Kham, Mae Sai, Chiang Rai', 'stationType': 'GROUND', 'lat': '20.427325', 'long': '99.883842', 'forecast': [], 'AQILast': {'date': '2024-12-15', 'time': '17:00', 'PM25': {'color_id': '2', 'aqi': '27', 'value': '15.5'}, 'PM10': {'color_id': '1', 'aqi': '15', 'value': '29'}, 'O3': {'color_id': '1', 'aqi': '0', 'value': '0'}, 'CO': {'color_id': '0', 'aqi': '-1', 'value': '-1'}, 'NO2': {'color_id': '1', 'aqi': '5', 'value': '12'}, 'SO2': {'color_id': '1', 'aqi': '15', 'value': '60'}, 'AQI': {'color_id': '2', 'aqi': '27', 'param': 'PM25'}}}, {'stationID': 'o69', 'nameTH': 'ศูนย์ป้องกันและบรรเทาสาธารณภัยเทศบาลตำบลเวียง', 'nameEN': 'Wiang Subdistrict Disaster Prevention and Mitigation Center', 'areaTH': 'ต.เวียง อ.เชียงของ, เชียงราย', 'areaEN': 'Wiang Subdistrict, Chiang Khong District, Chiang Rai', 'stationType': 'MOBILE', 'lat': '20.2575', 'long': '100.4025', 'forecast': [], 'AQILast': {'date': '2024-12-15', 'time': '17:00', 'PM25': {'color_id': '1', 'aqi': '11', 'value': '6.8'}, 'PM10': {'color_id': '0', 'aqi': '-999', 'value': '-1'}, 'O3': {'color_id': '0', 'aqi': '-999', 'value': '-1'}, 'CO': {'color_id': '0', 'aqi': '-999', 'value': '-1'}, 'NO2': {'color_id': '0', 'aqi': '-999', 'value': '-1'}, 'SO2': {'color_id': '0', 'aqi': '-999', 'value': '-1'}, 'AQI': {'color_id': '1', 'aqi': '11', 'param': 'PM25'}}}, {'stationID': '35t', 'nameTH': 'ศูนย์ราชการจังหวัดเชียงใหม่ ', 'nameEN': 'City Hall, Chiangmai', 'areaTH': 'ต.ช้างเผือก อ.เมือง, เชียงใหม่', 'areaEN': 'Chang Phueak, Meuang, Chiang Mai', 'stationType': 'GROUND', 'lat': '18.840732', 'long': '98.96978', 'forecast': [], 'AQILast': {'date': '2024-12-15', 'time': '17:00', 'PM25': {'color_id': '1', 'aqi': '24', 'value': '14.1'}, 'PM10': {'color_id': '0', 'aqi': '-1', 'value': '-1'}, 'O3': {'color_id': '0', 'aqi': '-1', 'value': '-1'}, 'CO': {'color_id': '0', 'aqi': '-1', 'value': '-1'}, 'NO2': {'color_id': '0', 'aqi': '-1', 'value': '-1'}, 'SO2': {'color_id': '0', 'aqi': '-1', 'value': '-1'}, 'AQI': {'color_id': '1', 'aqi': '24', 'param': 'PM25'}}}, {'stationID': '36t', 'nameTH': 'โรงเรียนยุพราชวิทยาลัย ', 'nameEN': 'Yupparaj Wittayalai School', 'areaTH': 'ต.ศรีภูมิ อ.เมือง, เชียงใหม่', 'areaEN': 'Si Phum, Meuang, Chiang Mai', 'stationType': 'GROUND', 'lat': '18.7909333', 'long': '98.99', 'forecast': [], 'AQILast': {'date': '2024-12-15', 'time': '17:00', 'PM25': {'color_id': '1', 'aqi': '15', 'value': '9.2'}, 'PM10': {'color_id': '0', 'aqi': '-1', 'value': '-1'}, 'O3': {'color_id': '0', 'aqi': '-999', 'value': '-1'}, 'CO': {'color_id': '0', 'aqi': '-1', 'value': '-1'}, 'NO2': {'color_id': '0', 'aqi': '-1', 'value': '-1'}, 'SO2': {'color_id': '0', 'aqi': '-1', 'value': '-1'}, 'AQI': {'color_id': '1', 'aqi': '15', 'param': 'PM25'}}}, {'stationID': 'o22', 'nameTH': 'โรงพยาบาลเทพรัตนเวชชานุกูล แม่แจ่ม', 'nameEN': 'Debaratana Vejjanukul Hospital, Mae Chaem', 'areaTH': 'ต.ช่างเคิ่ง อ.แม่แจ่ม, เชียงใหม่', 'areaEN': 'Chang Khoeng,Mae Chaem,Chiang Mai', 'stationType': 'MOBILE', 'lat': '18.498333', 'long': '98.379444', 'forecast': [], 'AQILast': {'date': '2024-12-15', 'time': '17:00', 'PM25': {'color_id': '1', 'aqi': '12', 'value': '7.4'}, 'PM10': {'color_id': '0', 'aqi': '-999', 'value': '-1'}, 'O3': {'color_id': '0', 'aqi': '-999', 'value': '-1'}, 'CO': {'color_id': '0', 'aqi': '-999', 'value': '-1'}, 'NO2': {'color_id': '0', 'aqi': '-999', 'value': '-1'}, 'SO2': {'color_id': '0', 'aqi': '-999', 'value': '-1'}, 'AQI': {'color_id': '1', 'aqi': '12', 'param': 'PM25'}}}, {'stationID': 'o25', 'nameTH': 'การไฟฟ้าส่วนภูมิภาค สาขา อำเภอฮอด', 'nameEN': 'Provincial Electricity Authority, Hot District Branch', 'areaTH': 'ต.หางดง อ.ฮอด, จ.เชียงใหม่', 'areaEN': 'Hang Dong, Hot District, Chiang Mai', 'stationType': 'MOBILE', 'lat': '18.172495', 'long': '98.61069', 'forecast': [], 'AQILast': {'date': '2024-12-15', 'time': '17:00', 'PM25': {'color_id': '2', 'aqi': '32', 'value': '17.4'}, 'PM10': {'color_id': '0', 'aqi': '-999', 'value': '-1'}, 'O3': {'color_id': '0', 'aqi': '-999', 'value': '-1'}, 'CO': {'color_id': '0', 'aqi': '-999', 'value': '-1'}, 'NO2': {'color_id': '0', 'aqi': '-999', 'value': '-1'}, 'SO2': {'color_id': '0', 'aqi': '-999', 'value': '-1'}, 'AQI': {'color_id': '2', 'aqi': '32', 'param': 'PM25'}}}, {'stationID': 'o72', 'nameTH': 'สำนักงานเทศบาลเมืองเพชรบุรี ', 'nameEN': 'Phetchaburi Municipality', 'areaTH': 'ต.คลองกระแชง อ.เมือง, เพชรบุรี', 'areaEN': 'Tambon Khlong Kra Saeng, Amphoe Mueang Phetchaburi, Chang Wat Phetchaburi', 'stationType': 'MOBILE', 'lat': '13.11249031', 'long': '99.9461325', 'forecast': [], 'AQILast': {'date': '2024-12-15', 'time': '17:00', 'PM25': {'color_id': '2', 'aqi': '39', 'value': '20.6'}, 'PM10': {'color_id': '0', 'aqi': '-999', 'value': '-1'}, 'O3': {'color_id': '0', 'aqi': '-999', 'value': '-1'}, 'CO': {'color_id': '0', 'aqi': '-999', 'value': '-1'}, 'NO2': {'color_id': '0', 'aqi': '-999', 'value': '-1'}, 'SO2': {'color_id': '0', 'aqi': '-999', 'value': '-1'}, 'AQI': {'color_id': '2', 'aqi': '39', 'param': 'PM25'}}}, {'stationID': '97t', 'nameTH': 'สวนเพชบุระ', 'nameEN': 'Phetbura garden', 'areaTH': 'ต.ในเมือง อ.เมือง, เพชรบูรณ์', 'areaEN': ' Nai Mueang Subdistrict, Mueang District, Phetchabun', 'stationType': 'GROUND', 'lat': '16.418417', 'long': '101.156556', 'forecast': [], 'AQILast': {'date': '2024-12-15', 'time': '17:00', 'PM25': {'color_id': '2', 'aqi': '38', 'value': '20.1'}, 'PM10': {'color_id': '1', 'aqi': '16', 'value': '31'}, 'O3': {'color_id': '2', 'aqi': '40', 'value': '44'}, 'CO': {'color_id': '1', 'aqi': '2', 'value': '0.30'}, 'NO2': {'color_id': '1', 'aqi': '2', 'value': '4'}, 'SO2': {'color_id': '1', 'aqi': '0', 'value': '1'}, 'AQI': {'color_id': '2', 'aqi': '40', 'param': 'O3'}}}, {'stationID': '72t', 'nameTH': 'สวนสาธารณะเฉลิมพระเกียรติ 60 พรรษามหาราชินี จังหวัดเลย', 'nameEN': '60th Anniversary Queen Sirikit Public Park, Loei', 'areaTH': 'ต.กุดป่อง อ.เมือง, เลย', 'areaEN': 'Kut Pong Subdistrict, Mueang District, Loei', 'stationType': 'GROUND', 'lat': '17.48462', 'long': '101.732734', 'forecast': [], 'AQILast': {'date': '2024-12-15', 'time': '17:00', 'PM25': {'color_id': '1', 'aqi': '13', 'value': '7.7'}, 'PM10': {'color_id': '1', 'aqi': '10', 'value': '19'}, 'O3': {'color_id': '2', 'aqi': '31', 'value': '39'}, 'CO': {'color_id': '1', 'aqi': '2', 'value': '0.40'}, 'NO2': {'color_id': '1', 'aqi': '0', 'value': '1'}, 'SO2': {'color_id': '0', 'aqi': '-1', 'value': '-1'}, 'AQI': {'color_id': '2', 'aqi': '31', 'param': 'O3'}}}, {'stationID': '69t', 'nameTH': 'อุตุนิยมวิทยาจังหวัดแพร่', 'nameEN': 'Meteorology Center, Phrae', 'areaTH': 'ต.นาจักร อ.เมือง, แพร่', 'areaEN': 'Na Chak, Meuang, Phrae', 'stationType': 'GROUND', 'lat': '18.1283666', 'long': '100.1624333', 'forecast': [], 'AQILast': {'date': '2024-12-15', 'time': '17:00', 'PM25': {'color_id': '1', 'aqi': '17', 'value': '10.2'}, 'PM10': {'color_id': '0', 'aqi': '-1', 'value': '-1'}, 'O3': {'color_id': '0', 'aqi': '-1', 'value': '-1'}, 'CO': {'color_id': '0', 'aqi': '-1', 'value': '-1'}, 'NO2': {'color_id': '0', 'aqi': '-1', 'value': '-1'}, 'SO2': {'color_id': '0', 'aqi': '-1', 'value': '-1'}, 'AQI': {'color_id': '1', 'aqi': '17', 'param': 'PM25'}}}, {'stationID': '58t', 'nameTH': 'สำนักงานทรัพยากรธรรมชาติและสิ่งแวดล้อมจังหวัดแม่ฮ่องสอน', 'nameEN': 'Natural Resources and Environment Office, Mae Hongson', 'areaTH': 'ต.จองคำ อ.เมือง, แม่ฮ่องสอน', 'areaEN': 'Chong Kham, Meuang, Mae Hong Son', 'stationType': 'GROUND', 'lat': '19.30455', 'long': '97.97165', 'forecast': [], 'AQILast': {'date': '2024-12-15', 'time': '17:00', 'PM25': {'color_id': '1', 'aqi': '17', 'value': '10.0'}, 'PM10': {'color_id': '1', 'aqi': '8', 'value': '15'}, 'O3': {'color_id': '0', 'aqi': '-1', 'value': '-1'}, 'CO': {'color_id': '0', 'aqi': '-1', 'value': '-1'}, 'NO2': {'color_id': '0', 'aqi': '-1', 'value': '-1'}, 'SO2': {'color_id': '0', 'aqi': '-999', 'value': '-1'}, 'AQI': {'color_id': '1', 'aqi': '17', 'param': 'PM25'}}}, {'stationID': 'o29', 'nameTH': 'ที่ว่าการอำเภอแม่สะเรียง', 'nameEN': 'Mae Sariang District Office', 'areaTH': 'ต.แม่สะเรียง อ.แม่สะเรียง, แม่ฮ่องสอน', 'areaEN': 'Mae Sariang, Mae Sariang District, Mae Hong Son', 'stationType': 'MOBILE', 'lat': '18.158912', 'long': '97.93271', 'forecast': [], 'AQILast': {'date': '2024-12-15', 'time': '17:00', 'PM25': {'color_id': '1', 'aqi': '19', 'value': '11.1'}, 'PM10': {'color_id': '0', 'aqi': '-999', 'value': '-1'}, 'O3': {'color_id': '0', 'aqi': '-999', 'value': '-1'}, 'CO': {'color_id': '0', 'aqi': '-999', 'value': '-1'}, 'NO2': {'color_id': '0', 'aqi': '-999', 'value': '-1'}, 'SO2': {'color_id': '0', 'aqi': '-999', 'value': '-1'}, 'AQI': {'color_id': '1', 'aqi': '19', 'param': 'PM25'}}}, {'stationID': 'o71', 'nameTH': 'เทศบาลตำบลปาย', 'nameEN': 'Pai Municipality', 'areaTH': 'ต.ปาย อ.ปาย, แม่ฮ่องสอน', 'areaEN': 'Pai, Pai, Mae Hong Son', 'stationType': 'MOBILE', 'lat': '19.3591522', 'long': '98.4364794', 'forecast': [], 'AQILast': {'date': '2024-12-15', 'time': '17:00', 'PM25': {'color_id': '1', 'aqi': '12', 'value': '7.0'}, 'PM10': {'color_id': '0', 'aqi': '-999', 'value': '-1'}, 'O3': {'color_id': '0', 'aqi': '-999', 'value': '-1'}, 'CO': {'color_id': '0', 'aqi': '-999', 'value': '-1'}, 'NO2': {'color_id': '0', 'aqi': '-999', 'value': '-1'}, 'SO2': {'color_id': '0', 'aqi': '-999', 'value': '-1'}, 'AQI': {'color_id': '1', 'aqi': '12', 'param': 'PM25'}}}]}\n"
     ]
    }
   ],
   "source": [
    "import requests\n",
    "\n",
    "# Get the URL of the task status\n",
    "url = \"https://data.tmd.go.th/api/Weather3Hours/V2/?uid=api&ukey=api12345&format=json\"\n",
    "aqi = \"http://air4thai.pcd.go.th/forappV2/getAQI_JSON.php\"\n",
    "response = requests.get(aqi).json()\n",
    "\n",
    "print(response)"
   ]
  },
  {
   "cell_type": "code",
   "execution_count": 17,
   "metadata": {},
   "outputs": [
    {
     "data": {
      "text/html": [
       "\n",
       "            <style>\n",
       "                .geemap-dark {\n",
       "                    --jp-widgets-color: white;\n",
       "                    --jp-widgets-label-color: white;\n",
       "                    --jp-ui-font-color1: white;\n",
       "                    --jp-layout-color2: #454545;\n",
       "                    background-color: #383838;\n",
       "                }\n",
       "                    \n",
       "                .geemap-dark .jupyter-button {\n",
       "                    --jp-layout-color3: #383838;\n",
       "                }\n",
       "                \n",
       "                .geemap-colab {\n",
       "                    background-color: var(--colab-primary-surface-color, white);\n",
       "                }\n",
       "                    \n",
       "                .geemap-colab .jupyter-button {\n",
       "                    --jp-layout-color3: var(--colab-primary-surface-color, white);\n",
       "                }\n",
       "            </style>\n",
       "            "
      ],
      "text/plain": [
       "<IPython.core.display.HTML object>"
      ]
     },
     "metadata": {},
     "output_type": "display_data"
    },
    {
     "name": "stdout",
     "output_type": "stream",
     "text": [
      "{'stationID': '53t', 'nameTH': 'สถานีตำรวจนครบาลโชคชัย ', 'nameEN': 'Chokchai Police Station', 'areaTH': 'ริมถนนลาดพร้าว เขตวังทองหลาง, กรุงเทพฯ', 'areaEN': 'Lat Phrao Rd. Khet Wang Thonglang, Bangkok', 'stationType': 'GROUND', 'lat': '13.7954248', 'long': '100.5930298', 'forecast': [], 'AQILast': {'date': '2024-12-15', 'time': '17:00', 'PM25': {'color_id': '2', 'aqi': '46', 'value': '23.2'}, 'PM10': {'color_id': '0', 'aqi': '-1', 'value': '-1'}, 'O3': {'color_id': '0', 'aqi': '-999', 'value': '-1'}, 'CO': {'color_id': '0', 'aqi': '-1', 'value': '-1'}, 'NO2': {'color_id': '0', 'aqi': '-1', 'value': '-1'}, 'SO2': {'color_id': '0', 'aqi': '-999', 'value': '-1'}, 'AQI': {'color_id': '2', 'aqi': '46', 'param': 'PM25'}}}\n",
      "{'stationID': 'o23', 'nameTH': 'สำนักงานทรัพยากรธรรมชาติและสิ่งแวดล้อมจังหวัดชัยนาท', 'nameEN': 'Natural Resources and Environment Office, Chainat', 'areaTH': 'ต.ในเมือง อ.เมือง, ชัยนาท', 'areaEN': 'Nai Mueang Subdistrict, Mueang District, Chainat', 'stationType': 'MOBILE', 'lat': '15.173056', 'long': '100.126944', 'forecast': [], 'AQILast': {'date': '2024-12-15', 'time': '17:00', 'PM25': {'color_id': '1', 'aqi': '23', 'value': '13.8'}, 'PM10': {'color_id': '0', 'aqi': '-999', 'value': '-1'}, 'O3': {'color_id': '0', 'aqi': '-999', 'value': '-1'}, 'CO': {'color_id': '0', 'aqi': '-999', 'value': '-1'}, 'NO2': {'color_id': '0', 'aqi': '-999', 'value': '-1'}, 'SO2': {'color_id': '0', 'aqi': '-999', 'value': '-1'}, 'AQI': {'color_id': '1', 'aqi': '23', 'param': 'PM25'}}}\n",
      "{'stationID': '108t', 'nameTH': 'สนามกีฬาเทศบาลเมืองชัยภูมิ', 'nameEN': 'Mueang Chaiyaphum Municipality Stadium', 'areaTH': ' ต.ในเมือง อ.เมืองชัยภูมิ, ชัยภูมิ', 'areaEN': ' Nai Mueang Subdistrict, Mueang Chaiyaphum District, Chaiyaphum', 'stationType': 'GROUND', 'lat': '15.81148', 'long': '102.02281', 'forecast': [], 'AQILast': {'date': '2024-12-15', 'time': '17:00', 'PM25': {'color_id': '1', 'aqi': '19', 'value': '11.5'}, 'PM10': {'color_id': '0', 'aqi': '-1', 'value': '-1'}, 'O3': {'color_id': '2', 'aqi': '50', 'value': '50'}, 'CO': {'color_id': '1', 'aqi': '3', 'value': '0.50'}, 'NO2': {'color_id': '1', 'aqi': '3', 'value': '6'}, 'SO2': {'color_id': '1', 'aqi': '0', 'value': '1'}, 'AQI': {'color_id': '2', 'aqi': '50', 'param': 'O3'}}}\n"
     ]
    }
   ],
   "source": [
    "stations = response[\"stations\"]\n",
    "for x in stations:\n",
    "    name = \"ชัย\"\n",
    "    if name in x[\"nameTH\"]:\n",
    "        print(x)\n"
   ]
  },
  {
   "cell_type": "code",
   "execution_count": 18,
   "metadata": {},
   "outputs": [
    {
     "data": {
      "text/html": [
       "\n",
       "            <style>\n",
       "                .geemap-dark {\n",
       "                    --jp-widgets-color: white;\n",
       "                    --jp-widgets-label-color: white;\n",
       "                    --jp-ui-font-color1: white;\n",
       "                    --jp-layout-color2: #454545;\n",
       "                    background-color: #383838;\n",
       "                }\n",
       "                    \n",
       "                .geemap-dark .jupyter-button {\n",
       "                    --jp-layout-color3: #383838;\n",
       "                }\n",
       "                \n",
       "                .geemap-colab {\n",
       "                    background-color: var(--colab-primary-surface-color, white);\n",
       "                }\n",
       "                    \n",
       "                .geemap-colab .jupyter-button {\n",
       "                    --jp-layout-color3: var(--colab-primary-surface-color, white);\n",
       "                }\n",
       "            </style>\n",
       "            "
      ],
      "text/plain": [
       "<IPython.core.display.HTML object>"
      ]
     },
     "metadata": {},
     "output_type": "display_data"
    }
   ],
   "source": [
    "def getByName(name=\"เชียง\"):\n",
    "    for x in stations:\n",
    "        if name in x[\"nameTH\"]:\n",
    "            print(x)"
   ]
  },
  {
   "cell_type": "code",
   "execution_count": 23,
   "metadata": {},
   "outputs": [
    {
     "data": {
      "text/html": [
       "\n",
       "            <style>\n",
       "                .geemap-dark {\n",
       "                    --jp-widgets-color: white;\n",
       "                    --jp-widgets-label-color: white;\n",
       "                    --jp-ui-font-color1: white;\n",
       "                    --jp-layout-color2: #454545;\n",
       "                    background-color: #383838;\n",
       "                }\n",
       "                    \n",
       "                .geemap-dark .jupyter-button {\n",
       "                    --jp-layout-color3: #383838;\n",
       "                }\n",
       "                \n",
       "                .geemap-colab {\n",
       "                    background-color: var(--colab-primary-surface-color, white);\n",
       "                }\n",
       "                    \n",
       "                .geemap-colab .jupyter-button {\n",
       "                    --jp-layout-color3: var(--colab-primary-surface-color, white);\n",
       "                }\n",
       "            </style>\n",
       "            "
      ],
      "text/plain": [
       "<IPython.core.display.HTML object>"
      ]
     },
     "metadata": {},
     "output_type": "display_data"
    },
    {
     "name": "stdout",
     "output_type": "stream",
     "text": [
      "{'stationID': '53t', 'nameTH': 'สถานีตำรวจนครบาลโชคชัย ', 'nameEN': 'Chokchai Police Station', 'areaTH': 'ริมถนนลาดพร้าว เขตวังทองหลาง, กรุงเทพฯ', 'areaEN': 'Lat Phrao Rd. Khet Wang Thonglang, Bangkok', 'stationType': 'GROUND', 'lat': '13.7954248', 'long': '100.5930298', 'forecast': [], 'AQILast': {'date': '2024-12-15', 'time': '17:00', 'PM25': {'color_id': '2', 'aqi': '46', 'value': '23.2'}, 'PM10': {'color_id': '0', 'aqi': '-1', 'value': '-1'}, 'O3': {'color_id': '0', 'aqi': '-999', 'value': '-1'}, 'CO': {'color_id': '0', 'aqi': '-1', 'value': '-1'}, 'NO2': {'color_id': '0', 'aqi': '-1', 'value': '-1'}, 'SO2': {'color_id': '0', 'aqi': '-999', 'value': '-1'}, 'AQI': {'color_id': '2', 'aqi': '46', 'param': 'PM25'}}}\n",
      "{'stationID': 'o23', 'nameTH': 'สำนักงานทรัพยากรธรรมชาติและสิ่งแวดล้อมจังหวัดชัยนาท', 'nameEN': 'Natural Resources and Environment Office, Chainat', 'areaTH': 'ต.ในเมือง อ.เมือง, ชัยนาท', 'areaEN': 'Nai Mueang Subdistrict, Mueang District, Chainat', 'stationType': 'MOBILE', 'lat': '15.173056', 'long': '100.126944', 'forecast': [], 'AQILast': {'date': '2024-12-15', 'time': '17:00', 'PM25': {'color_id': '1', 'aqi': '23', 'value': '13.8'}, 'PM10': {'color_id': '0', 'aqi': '-999', 'value': '-1'}, 'O3': {'color_id': '0', 'aqi': '-999', 'value': '-1'}, 'CO': {'color_id': '0', 'aqi': '-999', 'value': '-1'}, 'NO2': {'color_id': '0', 'aqi': '-999', 'value': '-1'}, 'SO2': {'color_id': '0', 'aqi': '-999', 'value': '-1'}, 'AQI': {'color_id': '1', 'aqi': '23', 'param': 'PM25'}}}\n",
      "{'stationID': '108t', 'nameTH': 'สนามกีฬาเทศบาลเมืองชัยภูมิ', 'nameEN': 'Mueang Chaiyaphum Municipality Stadium', 'areaTH': ' ต.ในเมือง อ.เมืองชัยภูมิ, ชัยภูมิ', 'areaEN': ' Nai Mueang Subdistrict, Mueang Chaiyaphum District, Chaiyaphum', 'stationType': 'GROUND', 'lat': '15.81148', 'long': '102.02281', 'forecast': [], 'AQILast': {'date': '2024-12-15', 'time': '17:00', 'PM25': {'color_id': '1', 'aqi': '19', 'value': '11.5'}, 'PM10': {'color_id': '0', 'aqi': '-1', 'value': '-1'}, 'O3': {'color_id': '2', 'aqi': '50', 'value': '50'}, 'CO': {'color_id': '1', 'aqi': '3', 'value': '0.50'}, 'NO2': {'color_id': '1', 'aqi': '3', 'value': '6'}, 'SO2': {'color_id': '1', 'aqi': '0', 'value': '1'}, 'AQI': {'color_id': '2', 'aqi': '50', 'param': 'O3'}}}\n"
     ]
    }
   ],
   "source": [
    "getByName(\"ชัย\")"
   ]
  },
  {
   "cell_type": "code",
   "execution_count": 34,
   "metadata": {},
   "outputs": [
    {
     "data": {
      "text/html": [
       "\n",
       "            <style>\n",
       "                .geemap-dark {\n",
       "                    --jp-widgets-color: white;\n",
       "                    --jp-widgets-label-color: white;\n",
       "                    --jp-ui-font-color1: white;\n",
       "                    --jp-layout-color2: #454545;\n",
       "                    background-color: #383838;\n",
       "                }\n",
       "                    \n",
       "                .geemap-dark .jupyter-button {\n",
       "                    --jp-layout-color3: #383838;\n",
       "                }\n",
       "                \n",
       "                .geemap-colab {\n",
       "                    background-color: var(--colab-primary-surface-color, white);\n",
       "                }\n",
       "                    \n",
       "                .geemap-colab .jupyter-button {\n",
       "                    --jp-layout-color3: var(--colab-primary-surface-color, white);\n",
       "                }\n",
       "            </style>\n",
       "            "
      ],
      "text/plain": [
       "<IPython.core.display.HTML object>"
      ]
     },
     "metadata": {},
     "output_type": "display_data"
    }
   ],
   "source": [
    "def getByNameArr(name=\"เชียง\"):\n",
    "    staFilter = []\n",
    "    for x in stations:\n",
    "        if name in x[\"nameTH\"]:\n",
    "            staFilter.append({'nameTH': x['nameTH'], 'pm25': x['AQILast']['PM25']['value']})\n",
    "    return staFilter"
   ]
  },
  {
   "cell_type": "code",
   "execution_count": 36,
   "metadata": {},
   "outputs": [
    {
     "data": {
      "text/html": [
       "\n",
       "            <style>\n",
       "                .geemap-dark {\n",
       "                    --jp-widgets-color: white;\n",
       "                    --jp-widgets-label-color: white;\n",
       "                    --jp-ui-font-color1: white;\n",
       "                    --jp-layout-color2: #454545;\n",
       "                    background-color: #383838;\n",
       "                }\n",
       "                    \n",
       "                .geemap-dark .jupyter-button {\n",
       "                    --jp-layout-color3: #383838;\n",
       "                }\n",
       "                \n",
       "                .geemap-colab {\n",
       "                    background-color: var(--colab-primary-surface-color, white);\n",
       "                }\n",
       "                    \n",
       "                .geemap-colab .jupyter-button {\n",
       "                    --jp-layout-color3: var(--colab-primary-surface-color, white);\n",
       "                }\n",
       "            </style>\n",
       "            "
      ],
      "text/plain": [
       "<IPython.core.display.HTML object>"
      ]
     },
     "metadata": {},
     "output_type": "display_data"
    },
    {
     "name": "stdout",
     "output_type": "stream",
     "text": [
      "[{'nameTH': 'สถานีตำรวจนครบาลโชคชัย ', 'pm25': '23.2'}, {'nameTH': 'สำนักงานทรัพยากรธรรมชาติและสิ่งแวดล้อมจังหวัดชัยนาท', 'pm25': '13.8'}, {'nameTH': 'สนามกีฬาเทศบาลเมืองชัยภูมิ', 'pm25': '11.5'}]\n"
     ]
    }
   ],
   "source": [
    "a = getByNameArr(\"ชัย\")\n",
    "# print(len(a))\n",
    "print(a)"
   ]
  },
  {
   "cell_type": "code",
   "execution_count": 40,
   "metadata": {},
   "outputs": [
    {
     "data": {
      "text/html": [
       "\n",
       "            <style>\n",
       "                .geemap-dark {\n",
       "                    --jp-widgets-color: white;\n",
       "                    --jp-widgets-label-color: white;\n",
       "                    --jp-ui-font-color1: white;\n",
       "                    --jp-layout-color2: #454545;\n",
       "                    background-color: #383838;\n",
       "                }\n",
       "                    \n",
       "                .geemap-dark .jupyter-button {\n",
       "                    --jp-layout-color3: #383838;\n",
       "                }\n",
       "                \n",
       "                .geemap-colab {\n",
       "                    background-color: var(--colab-primary-surface-color, white);\n",
       "                }\n",
       "                    \n",
       "                .geemap-colab .jupyter-button {\n",
       "                    --jp-layout-color3: var(--colab-primary-surface-color, white);\n",
       "                }\n",
       "            </style>\n",
       "            "
      ],
      "text/plain": [
       "<IPython.core.display.HTML object>"
      ]
     },
     "metadata": {},
     "output_type": "display_data"
    },
    {
     "name": "stdout",
     "output_type": "stream",
     "text": [
      "Requirement already satisfied: pandas in /opt/homebrew/Caskroom/miniconda/base/envs/gee/lib/python3.12/site-packages (2.2.0)\n",
      "Collecting openpyxl\n",
      "  Downloading openpyxl-3.1.5-py2.py3-none-any.whl.metadata (2.5 kB)\n",
      "Requirement already satisfied: numpy<2,>=1.26.0 in /opt/homebrew/Caskroom/miniconda/base/envs/gee/lib/python3.12/site-packages (from pandas) (1.26.3)\n",
      "Requirement already satisfied: python-dateutil>=2.8.2 in /opt/homebrew/Caskroom/miniconda/base/envs/gee/lib/python3.12/site-packages (from pandas) (2.8.2)\n",
      "Requirement already satisfied: pytz>=2020.1 in /opt/homebrew/Caskroom/miniconda/base/envs/gee/lib/python3.12/site-packages (from pandas) (2023.3.post1)\n",
      "Requirement already satisfied: tzdata>=2022.7 in /opt/homebrew/Caskroom/miniconda/base/envs/gee/lib/python3.12/site-packages (from pandas) (2023.4)\n",
      "Collecting et-xmlfile (from openpyxl)\n",
      "  Downloading et_xmlfile-2.0.0-py3-none-any.whl.metadata (2.7 kB)\n",
      "Requirement already satisfied: six>=1.5 in /opt/homebrew/Caskroom/miniconda/base/envs/gee/lib/python3.12/site-packages (from python-dateutil>=2.8.2->pandas) (1.16.0)\n",
      "Downloading openpyxl-3.1.5-py2.py3-none-any.whl (250 kB)\n",
      "\u001b[2K   \u001b[90m━━━━━━━━━━━━━━━━━━━━━━━━━━━━━━━━━━━━━━━━\u001b[0m \u001b[32m250.9/250.9 kB\u001b[0m \u001b[31m1.9 MB/s\u001b[0m eta \u001b[36m0:00:00\u001b[0ma \u001b[36m0:00:01\u001b[0mm\n",
      "\u001b[?25hDownloading et_xmlfile-2.0.0-py3-none-any.whl (18 kB)\n",
      "Installing collected packages: et-xmlfile, openpyxl\n",
      "Successfully installed et-xmlfile-2.0.0 openpyxl-3.1.5\n"
     ]
    }
   ],
   "source": [
    "!pip  install pandas openpyxl\n",
    "import pandas as pd\n",
    "\n",
    "def exportToExcel(arr=[]):\n",
    "    df = pd.DataFrame(arr)\n",
    "    df.to_excel(\"output.xlsx\")\n",
    "\n"
   ]
  },
  {
   "cell_type": "code",
   "execution_count": 42,
   "metadata": {},
   "outputs": [
    {
     "data": {
      "text/html": [
       "\n",
       "            <style>\n",
       "                .geemap-dark {\n",
       "                    --jp-widgets-color: white;\n",
       "                    --jp-widgets-label-color: white;\n",
       "                    --jp-ui-font-color1: white;\n",
       "                    --jp-layout-color2: #454545;\n",
       "                    background-color: #383838;\n",
       "                }\n",
       "                    \n",
       "                .geemap-dark .jupyter-button {\n",
       "                    --jp-layout-color3: #383838;\n",
       "                }\n",
       "                \n",
       "                .geemap-colab {\n",
       "                    background-color: var(--colab-primary-surface-color, white);\n",
       "                }\n",
       "                    \n",
       "                .geemap-colab .jupyter-button {\n",
       "                    --jp-layout-color3: var(--colab-primary-surface-color, white);\n",
       "                }\n",
       "            </style>\n",
       "            "
      ],
      "text/plain": [
       "<IPython.core.display.HTML object>"
      ]
     },
     "metadata": {},
     "output_type": "display_data"
    },
    {
     "name": "stdout",
     "output_type": "stream",
     "text": [
      "[{'nameTH': 'สถานีตำรวจนครบาลโชคชัย ', 'pm25': '23.2'}, {'nameTH': 'สำนักงานทรัพยากรธรรมชาติและสิ่งแวดล้อมจังหวัดชัยนาท', 'pm25': '13.8'}, {'nameTH': 'สนามกีฬาเทศบาลเมืองชัยภูมิ', 'pm25': '11.5'}]\n"
     ]
    }
   ],
   "source": [
    "arr = getByNameArr(\"ชัย\")\n",
    "exportToExcel(arr)\n",
    "print(arr)"
   ]
  },
  {
   "cell_type": "code",
   "execution_count": 50,
   "metadata": {},
   "outputs": [
    {
     "data": {
      "text/html": [
       "\n",
       "            <style>\n",
       "                .geemap-dark {\n",
       "                    --jp-widgets-color: white;\n",
       "                    --jp-widgets-label-color: white;\n",
       "                    --jp-ui-font-color1: white;\n",
       "                    --jp-layout-color2: #454545;\n",
       "                    background-color: #383838;\n",
       "                }\n",
       "                    \n",
       "                .geemap-dark .jupyter-button {\n",
       "                    --jp-layout-color3: #383838;\n",
       "                }\n",
       "                \n",
       "                .geemap-colab {\n",
       "                    background-color: var(--colab-primary-surface-color, white);\n",
       "                }\n",
       "                    \n",
       "                .geemap-colab .jupyter-button {\n",
       "                    --jp-layout-color3: var(--colab-primary-surface-color, white);\n",
       "                }\n",
       "            </style>\n",
       "            "
      ],
      "text/plain": [
       "<IPython.core.display.HTML object>"
      ]
     },
     "metadata": {},
     "output_type": "display_data"
    }
   ],
   "source": [
    "import requests\n",
    "import ee\n",
    "import matplotlib.pyplot as plt\n",
    "\n",
    "# Provide your Google Cloud project ID\n",
    "project_id = 'earthengine-380405'\n",
    "\n",
    "# Authenticate and initialize the Earth Engine API with the project ID\n",
    "ee.Authenticate()\n",
    "ee.Initialize(project=project_id)\n",
    "\n",
    "# Define the ROI as a polygon geometry\n",
    "roi = ee.Geometry.Polygon([\n",
    "    [97.0, 21.5],\n",
    "    [97.0, 17.0],\n",
    "    [101.5, 17.0],\n",
    "    [101.5, 21.5]\n",
    "])\n",
    "\n",
    "# Define the collection\n",
    "collection = ee.ImageCollection('COPERNICUS/S2') \\\n",
    "        .select(['B2', 'B3', 'B4', 'B8', 'B11', 'B12']) \\\n",
    "        .filterBounds(roi) \\\n",
    "        .filterDate('2021-01-01', '2021-12-31')\n",
    "\n",
    "# Function to add NDVI band\n",
    "def add_ndvi(image):\n",
    "    ndvi = image.normalizedDifference(['B8', 'B4']).rename('NDVI')\n",
    "    return image.addBands(ndvi)\n",
    "\n",
    "ndvi_collection = collection.map(add_ndvi).select('NDVI')\n",
    "\n",
    "# การวิเคราะห์ Time Series (NDVI) โดยใช้ Pandas และ Matplotlib สร้างกราฟ Time Series\n",
    "# Convert the image collection to a list\n",
    "ndvi_list = ndvi_collection.toList(ndvi_collection.size())\n",
    "\n",
    "# Create an empty list to store the data\n",
    "data = []\n",
    "\n",
    "# Loop over each image in the collection\n",
    "for i in range(ndvi_list.size().getInfo()):\n",
    "    image = ee.Image(ndvi_list.get(i))\n",
    "    date = ee.Date(image.get('system:time_start')).format('yyyy-MM-dd').getInfo()\n",
    "    value = image.reduceRegion(\n",
    "        reducer=ee.Reducer.mean(), \n",
    "        geometry=roi, \n",
    "        scale=200) \\\n",
    "            .values() \\\n",
    "            .get(0) \\\n",
    "            .getInfo()\n",
    "    data.append({'date': date, 'ndvi': value})\n",
    "\n",
    "# Convert the list to a Pandas DataFrame\n",
    "df = pd.DataFrame(data)\n",
    "\n",
    "# Convert the 'date' column to a datetime format\n",
    "df['date'] = pd.to_datetime(df['date'])\n",
    "\n",
    "# Set the 'date' column as the index\n",
    "df = df.set_index('date')\n",
    "\n",
    "# Plot the time series\n",
    "plt.figure(figsize=(10, 5))\n",
    "plt.plot(df.index, df['ndvi'], marker='o', color='b')\n",
    "plt.title('NDVI Time Series')\n",
    "plt.xlabel('Date')\n",
    "\n",
    "# Rotate the x-axis labels for better readability\n",
    "plt.xticks(rotation=45)\n",
    "plt.ylabel('NDVI')\n",
    "plt.grid(True)\n",
    "plt.tight_layout()\n",
    "\n",
    "# Display the plot\n",
    "plt.show()"
   ]
  }
 ],
 "metadata": {
  "kernelspec": {
   "display_name": "gee",
   "language": "python",
   "name": "python3"
  },
  "language_info": {
   "codemirror_mode": {
    "name": "ipython",
    "version": 3
   },
   "file_extension": ".py",
   "mimetype": "text/x-python",
   "name": "python",
   "nbconvert_exporter": "python",
   "pygments_lexer": "ipython3",
   "version": "3.12.1"
  }
 },
 "nbformat": 4,
 "nbformat_minor": 2
}
