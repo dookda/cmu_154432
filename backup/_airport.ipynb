{
 "cells": [
  {
   "cell_type": "code",
   "execution_count": 1,
   "metadata": {},
   "outputs": [],
   "source": [
    "import numpy as np\n",
    "import rasterio\n",
    "from rasterio.transform import from_origin\n",
    "\n",
    "# Parameters\n",
    "observer = (250, 250)  # Row, Column of observer point\n",
    "azimuth_range = (45, 90)  # Azimuth in degrees\n",
    "elevation_angle = (5, 15)  # Vertical angle in degrees (optional for 3D)\n",
    "radius = 500  # Maximum distance\n",
    "\n",
    "# Create a raster grid\n",
    "rows, cols = 500, 500\n",
    "cell_size = 1\n",
    "x, y = np.meshgrid(np.arange(cols), np.arange(rows))\n",
    "dx = x - observer[1]\n",
    "dy = y - observer[0]\n",
    "r = np.sqrt(dx**2 + dy**2)  # Distance from observer\n",
    "theta = (np.degrees(np.arctan2(dy, dx)) + 360) % 360  # Azimuth\n",
    "\n",
    "# Mask cells outside constraints\n",
    "mask = (azimuth_range[0] <= theta) & (theta <= azimuth_range[1]) & (r <= radius)\n",
    "\n",
    "# Create raster data\n",
    "raster_data = np.where(mask, 1, 0)  # 1 for visible, 0 for not visible\n",
    "\n",
    "# Save to GeoTIFF\n",
    "transform = from_origin(-250, 250, cell_size, cell_size)  # Example extent\n",
    "with rasterio.open(\n",
    "    \"visibility_plane.tif\",\n",
    "    \"w\",\n",
    "    driver=\"GTiff\",\n",
    "    height=rows,\n",
    "    width=cols,\n",
    "    count=1,\n",
    "    dtype=raster_data.dtype,\n",
    "    crs=\"EPSG:4326\",\n",
    "    transform=transform,\n",
    ") as dst:\n",
    "    dst.write(raster_data, 1)\n"
   ]
  }
 ],
 "metadata": {
  "kernelspec": {
   "display_name": "geo",
   "language": "python",
   "name": "python3"
  },
  "language_info": {
   "codemirror_mode": {
    "name": "ipython",
    "version": 3
   },
   "file_extension": ".py",
   "mimetype": "text/x-python",
   "name": "python",
   "nbconvert_exporter": "python",
   "pygments_lexer": "ipython3",
   "version": "3.12.2"
  }
 },
 "nbformat": 4,
 "nbformat_minor": 2
}
