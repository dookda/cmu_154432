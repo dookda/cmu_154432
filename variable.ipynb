{
 "cells": [
  {
   "cell_type": "markdown",
   "metadata": {},
   "source": [
    "test markdown"
   ]
  },
  {
   "cell_type": "code",
   "execution_count": null,
   "metadata": {},
   "outputs": [
    {
     "name": "stdout",
     "output_type": "stream",
     "text": [
      "hello\n"
     ]
    }
   ],
   "source": [
    "print(\"hello\") "
   ]
  },
  {
   "cell_type": "code",
   "execution_count": 4,
   "metadata": {},
   "outputs": [
    {
     "name": "stdout",
     "output_type": "stream",
     "text": [
      "true\n"
     ]
    }
   ],
   "source": [
    "if True:\n",
    "    print(\"true\")\n",
    "else:\n",
    "    print(\"false\")\n",
    "    "
   ]
  },
  {
   "cell_type": "code",
   "execution_count": 9,
   "metadata": {},
   "outputs": [
    {
     "name": "stdout",
     "output_type": "stream",
     "text": [
      "sakda homhuan 1 \n",
      "sakda homhuan 2 \n",
      "sakda homhuan 3 \n"
     ]
    }
   ],
   "source": [
    "# multi line\n",
    "name = \"sakda homhuan 1 \\n\" +\\\n",
    "        \"sakda homhuan 2 \\n\" +\\\n",
    "        \"sakda homhuan 3 \"\n",
    "print(name)"
   ]
  },
  {
   "cell_type": "code",
   "execution_count": 10,
   "metadata": {},
   "outputs": [
    {
     "name": "stdout",
     "output_type": "stream",
     "text": [
      "sakda 12\n"
     ]
    }
   ],
   "source": [
    "# case sensitive\n",
    "A = \"sakda\"\n",
    "a = 12\n",
    "\n",
    "print(A, a)"
   ]
  },
  {
   "cell_type": "code",
   "execution_count": 15,
   "metadata": {},
   "outputs": [
    {
     "data": {
      "text/plain": [
       "' fff  '"
      ]
     },
     "execution_count": 15,
     "metadata": {},
     "output_type": "execute_result"
    }
   ],
   "source": [
    "\"\"\" fff  \"\"\""
   ]
  },
  {
   "cell_type": "code",
   "execution_count": 18,
   "metadata": {},
   "outputs": [
    {
     "name": "stdout",
     "output_type": "stream",
     "text": [
      "sakda homhuan sakda\n"
     ]
    }
   ],
   "source": [
    "myVariableName = \"sakda\"\n",
    "MyLastName = \"homhuan\"\n",
    "my_first_name = \"sakda\"\n",
    "\n",
    "print(myVariableName, MyLastName, my_first_name)\n"
   ]
  },
  {
   "cell_type": "code",
   "execution_count": 19,
   "metadata": {},
   "outputs": [
    {
     "name": "stdout",
     "output_type": "stream",
     "text": [
      "sakda homhuan 2024\n"
     ]
    }
   ],
   "source": [
    "x, y, z = \"sakda\", \"homhuan\", 2024\n",
    "print(x,y,z)"
   ]
  },
  {
   "cell_type": "code",
   "execution_count": 21,
   "metadata": {},
   "outputs": [
    {
     "name": "stdout",
     "output_type": "stream",
     "text": [
      "['sakda', 'homhuan', '2024']\n",
      "sakda\n",
      "homhuan\n",
      "2024\n"
     ]
    }
   ],
   "source": [
    "myName = [\"sakda\", 'homhuan', \"\"\"2024\"\"\"]\n",
    "x, y, z = myName\n",
    "\n",
    "print(myName)\n",
    "print(x)\n",
    "print(y)\n",
    "print(z)"
   ]
  },
  {
   "cell_type": "code",
   "execution_count": 28,
   "metadata": {},
   "outputs": [
    {
     "name": "stdout",
     "output_type": "stream",
     "text": [
      "291 <class 'str'>\n",
      "30.0 <class 'float'>\n",
      "30 <class 'int'>\n"
     ]
    }
   ],
   "source": [
    "# casting\n",
    "myNumber = 29\n",
    "\n",
    "a = str(myNumber) + str(1)\n",
    "b = float(myNumber) + 1\n",
    "c = int(myNumber) + 1\n",
    "\n",
    "print(a, type(a))\n",
    "print(b, type(b))\n",
    "print(c, type(c))\n"
   ]
  },
  {
   "cell_type": "code",
   "execution_count": null,
   "metadata": {},
   "outputs": [
    {
     "name": "stdout",
     "output_type": "stream",
     "text": [
      "this is a dog\n"
     ]
    }
   ],
   "source": [
    "x = \"dog\"\n",
    "\n",
    "# create function\n",
    "def myFunction():\n",
    "    print(\"this is a \" + x)\n",
    "\n",
    "# call function\n",
    "myFunction()"
   ]
  },
  {
   "cell_type": "code",
   "execution_count": 41,
   "metadata": {},
   "outputs": [
    {
     "name": "stdout",
     "output_type": "stream",
     "text": [
      "sakda\n",
      "sakda\n"
     ]
    }
   ],
   "source": [
    "# m = \"\"\n",
    "def myFunction2():\n",
    "    global m\n",
    "    m = \"sakda\" #local variable\n",
    "    print(m) \n",
    "\n",
    "myFunction2()\n",
    "\n",
    "print(m)"
   ]
  },
  {
   "cell_type": "code",
   "execution_count": 39,
   "metadata": {},
   "outputs": [
    {
     "ename": "NameError",
     "evalue": "name 'j' is not defined",
     "output_type": "error",
     "traceback": [
      "\u001b[0;31m---------------------------------------------------------------------------\u001b[0m",
      "\u001b[0;31mNameError\u001b[0m                                 Traceback (most recent call last)",
      "Cell \u001b[0;32mIn[39], line 1\u001b[0m\n\u001b[0;32m----> 1\u001b[0m \u001b[38;5;28mprint\u001b[39m(\u001b[43mj\u001b[49m)\n",
      "\u001b[0;31mNameError\u001b[0m: name 'j' is not defined"
     ]
    }
   ],
   "source": [
    "print(j)"
   ]
  }
 ],
 "metadata": {
  "kernelspec": {
   "display_name": "py499",
   "language": "python",
   "name": "python3"
  },
  "language_info": {
   "codemirror_mode": {
    "name": "ipython",
    "version": 3
   },
   "file_extension": ".py",
   "mimetype": "text/x-python",
   "name": "python",
   "nbconvert_exporter": "python",
   "pygments_lexer": "ipython3",
   "version": "3.12.3"
  }
 },
 "nbformat": 4,
 "nbformat_minor": 2
}
