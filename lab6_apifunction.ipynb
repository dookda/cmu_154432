{
 "cells": [
  {
   "cell_type": "code",
   "execution_count": 3,
   "metadata": {},
   "outputs": [
    {
     "name": "stdout",
     "output_type": "stream",
     "text": [
      "188\n"
     ]
    }
   ],
   "source": [
    "import requests\n",
    "\n",
    "url = \"http://air4thai.pcd.go.th/forappV2/getAQI_JSON.php\"\n",
    "response = requests.get(url).json()\n",
    "\n",
    "print(len(response[\"stations\"]))\n",
    "\n"
   ]
  },
  {
   "cell_type": "code",
   "execution_count": 4,
   "metadata": {},
   "outputs": [
    {
     "name": "stdout",
     "output_type": "stream",
     "text": [
      "สำนักงานทรัพยากรธรรมชาติและสิ่งแวดล้อมจังหวัดเชียงราย 36.2\n",
      "ศูนย์ราชการจังหวัดเชียงใหม่  27.2\n"
     ]
    }
   ],
   "source": [
    "for i in response[\"stations\"]:\n",
    "    staName = \"เชียง\"\n",
    "    if(staName in i['nameTH']):\n",
    "        print(i['nameTH'], i['AQILast']['PM25']['value'])\n"
   ]
  },
  {
   "cell_type": "code",
   "execution_count": 5,
   "metadata": {},
   "outputs": [
    {
     "name": "stdout",
     "output_type": "stream",
     "text": [
      "Requirement already satisfied: pandas in /opt/homebrew/Caskroom/miniconda/base/envs/geo/lib/python3.12/site-packages (2.2.2)\n",
      "Requirement already satisfied: openpyxl in /opt/homebrew/Caskroom/miniconda/base/envs/geo/lib/python3.12/site-packages (3.1.5)\n",
      "Requirement already satisfied: numpy>=1.26.0 in /opt/homebrew/Caskroom/miniconda/base/envs/geo/lib/python3.12/site-packages (from pandas) (1.26.4)\n",
      "Requirement already satisfied: python-dateutil>=2.8.2 in /opt/homebrew/Caskroom/miniconda/base/envs/geo/lib/python3.12/site-packages (from pandas) (2.9.0)\n",
      "Requirement already satisfied: pytz>=2020.1 in /opt/homebrew/Caskroom/miniconda/base/envs/geo/lib/python3.12/site-packages (from pandas) (2024.1)\n",
      "Requirement already satisfied: tzdata>=2022.7 in /opt/homebrew/Caskroom/miniconda/base/envs/geo/lib/python3.12/site-packages (from pandas) (2024.1)\n",
      "Requirement already satisfied: et-xmlfile in /opt/homebrew/Caskroom/miniconda/base/envs/geo/lib/python3.12/site-packages (from openpyxl) (2.0.0)\n",
      "Requirement already satisfied: six>=1.5 in /opt/homebrew/Caskroom/miniconda/base/envs/geo/lib/python3.12/site-packages (from python-dateutil>=2.8.2->pandas) (1.16.0)\n"
     ]
    }
   ],
   "source": [
    "!pip install pandas openpyxl"
   ]
  },
  {
   "cell_type": "code",
   "execution_count": 6,
   "metadata": {},
   "outputs": [],
   "source": [
    "import pandas as pd\n",
    "\n",
    "def exportToExcel(data):\n",
    "    df = pd.DataFrame(data)\n",
    "    df.to_excel(\"pm25.xlsx\")\n",
    "    # print(df)\n",
    "\n",
    "def getPm25ByName(staName= \"เชียงใหม่\"):\n",
    "    staFilter = []\n",
    "    for i in response[\"stations\"]:\n",
    "        if(staName in i['nameTH']):\n",
    "            sta_name = i['nameTH']\n",
    "            pm25 = i['AQILast']['PM25']['value']\n",
    "            lat = i['lat']\n",
    "            lng = i['long']\n",
    "            json = {\"staName\": sta_name, \n",
    "                    \"pm25\": pm25, \n",
    "                    \"lat\": lat,\n",
    "                    \"lng\": lng}\n",
    "            staFilter.append(json)\n",
    "    exportToExcel(staFilter)\n",
    "    return staFilter\n",
    "\n",
    "newData = getPm25ByName(\"พิ\")\n",
    "# print(newData)"
   ]
  },
  {
   "cell_type": "code",
   "execution_count": null,
   "metadata": {},
   "outputs": [],
   "source": [
    "!pip install folium"
   ]
  },
  {
   "cell_type": "code",
   "execution_count": 8,
   "metadata": {},
   "outputs": [
    {
     "name": "stdout",
     "output_type": "stream",
     "text": [
      "{'staName': 'สวนลุมพินี ถนนพระราม 4 แขวงวังใหม่ เขตปทุมวัน', 'pm25': '42.8', 'lat': '13.732225', 'lng': '100.5448381'}\n",
      "{'staName': 'สนามกีฬาจังหวัดพิจิตร', 'pm25': '57.7', 'lat': '16.442554', 'lng': '100.322756'}\n",
      "{'staName': 'สนามโรงพิธีช้างเผือก ', 'pm25': '16.8', 'lat': '6.546205', 'lng': '101.283137'}\n",
      "{'staName': 'ศูนย์ฟื้นฟูอาชีพคนพิการและทุพลภาพ ', 'pm25': '56.3', 'lat': '13.664087', 'lng': '100.543436'}\n",
      "{'staName': 'พระตำหนักภูพิงคราชนิเวศน์ ', 'pm25': '24.4', 'lat': '18.804894', 'lng': '98.900698'}\n"
     ]
    },
    {
     "data": {
      "text/html": [
       "<iframe srcdoc=\"&lt;!DOCTYPE html&gt;\n",
       "&lt;html&gt;\n",
       "&lt;head&gt;\n",
       "    \n",
       "    &lt;meta http-equiv=&quot;content-type&quot; content=&quot;text/html; charset=UTF-8&quot; /&gt;\n",
       "    \n",
       "        &lt;script&gt;\n",
       "            L_NO_TOUCH = false;\n",
       "            L_DISABLE_3D = false;\n",
       "        &lt;/script&gt;\n",
       "    \n",
       "    &lt;style&gt;html, body {width: 100%;height: 100%;margin: 0;padding: 0;}&lt;/style&gt;\n",
       "    &lt;style&gt;#map {position:absolute;top:0;bottom:0;right:0;left:0;}&lt;/style&gt;\n",
       "    &lt;script src=&quot;https://cdn.jsdelivr.net/npm/leaflet@1.9.3/dist/leaflet.js&quot;&gt;&lt;/script&gt;\n",
       "    &lt;script src=&quot;https://code.jquery.com/jquery-3.7.1.min.js&quot;&gt;&lt;/script&gt;\n",
       "    &lt;script src=&quot;https://cdn.jsdelivr.net/npm/bootstrap@5.2.2/dist/js/bootstrap.bundle.min.js&quot;&gt;&lt;/script&gt;\n",
       "    &lt;script src=&quot;https://cdnjs.cloudflare.com/ajax/libs/Leaflet.awesome-markers/2.0.2/leaflet.awesome-markers.js&quot;&gt;&lt;/script&gt;\n",
       "    &lt;link rel=&quot;stylesheet&quot; href=&quot;https://cdn.jsdelivr.net/npm/leaflet@1.9.3/dist/leaflet.css&quot;/&gt;\n",
       "    &lt;link rel=&quot;stylesheet&quot; href=&quot;https://cdn.jsdelivr.net/npm/bootstrap@5.2.2/dist/css/bootstrap.min.css&quot;/&gt;\n",
       "    &lt;link rel=&quot;stylesheet&quot; href=&quot;https://netdna.bootstrapcdn.com/bootstrap/3.0.0/css/bootstrap-glyphicons.css&quot;/&gt;\n",
       "    &lt;link rel=&quot;stylesheet&quot; href=&quot;https://cdn.jsdelivr.net/npm/@fortawesome/fontawesome-free@6.2.0/css/all.min.css&quot;/&gt;\n",
       "    &lt;link rel=&quot;stylesheet&quot; href=&quot;https://cdnjs.cloudflare.com/ajax/libs/Leaflet.awesome-markers/2.0.2/leaflet.awesome-markers.css&quot;/&gt;\n",
       "    &lt;link rel=&quot;stylesheet&quot; href=&quot;https://cdn.jsdelivr.net/gh/python-visualization/folium/folium/templates/leaflet.awesome.rotate.min.css&quot;/&gt;\n",
       "    \n",
       "            &lt;meta name=&quot;viewport&quot; content=&quot;width=device-width,\n",
       "                initial-scale=1.0, maximum-scale=1.0, user-scalable=no&quot; /&gt;\n",
       "            &lt;style&gt;\n",
       "                #map_4d3800b72cf6ffddf78c0c141bd0b87c {\n",
       "                    position: relative;\n",
       "                    width: 100.0%;\n",
       "                    height: 100.0%;\n",
       "                    left: 0.0%;\n",
       "                    top: 0.0%;\n",
       "                }\n",
       "                .leaflet-container { font-size: 1rem; }\n",
       "            &lt;/style&gt;\n",
       "        \n",
       "&lt;/head&gt;\n",
       "&lt;body&gt;\n",
       "    \n",
       "    \n",
       "            &lt;div class=&quot;folium-map&quot; id=&quot;map_4d3800b72cf6ffddf78c0c141bd0b87c&quot; &gt;&lt;/div&gt;\n",
       "        \n",
       "&lt;/body&gt;\n",
       "&lt;script&gt;\n",
       "    \n",
       "    \n",
       "            var map_4d3800b72cf6ffddf78c0c141bd0b87c = L.map(\n",
       "                &quot;map_4d3800b72cf6ffddf78c0c141bd0b87c&quot;,\n",
       "                {\n",
       "                    center: [18.7883, 98.9853],\n",
       "                    crs: L.CRS.EPSG3857,\n",
       "                    zoom: 10,\n",
       "                    zoomControl: true,\n",
       "                    preferCanvas: false,\n",
       "                }\n",
       "            );\n",
       "\n",
       "            \n",
       "\n",
       "        \n",
       "    \n",
       "            var tile_layer_eec0124b1279897422cc39c894aad457 = L.tileLayer(\n",
       "                &quot;https://tile.openstreetmap.org/{z}/{x}/{y}.png&quot;,\n",
       "                {&quot;attribution&quot;: &quot;\\u0026copy; \\u003ca href=\\&quot;https://www.openstreetmap.org/copyright\\&quot;\\u003eOpenStreetMap\\u003c/a\\u003e contributors&quot;, &quot;detectRetina&quot;: false, &quot;maxNativeZoom&quot;: 19, &quot;maxZoom&quot;: 19, &quot;minZoom&quot;: 0, &quot;noWrap&quot;: false, &quot;opacity&quot;: 1, &quot;subdomains&quot;: &quot;abc&quot;, &quot;tms&quot;: false}\n",
       "            );\n",
       "        \n",
       "    \n",
       "            tile_layer_eec0124b1279897422cc39c894aad457.addTo(map_4d3800b72cf6ffddf78c0c141bd0b87c);\n",
       "        \n",
       "    \n",
       "            var feature_group_e01c968be3a187961410e0d7fca0b1a1 = L.featureGroup(\n",
       "                {}\n",
       "            );\n",
       "        \n",
       "    \n",
       "            var marker_ab42bb872a6c61fb655393979c664717 = L.marker(\n",
       "                [13.732225, 100.5448381],\n",
       "                {}\n",
       "            ).addTo(feature_group_e01c968be3a187961410e0d7fca0b1a1);\n",
       "        \n",
       "    \n",
       "            var marker_420199b17762816dbd0c0c6e4812cb1a = L.marker(\n",
       "                [16.442554, 100.322756],\n",
       "                {}\n",
       "            ).addTo(feature_group_e01c968be3a187961410e0d7fca0b1a1);\n",
       "        \n",
       "    \n",
       "            var marker_697c2ca98bd853a3952d9e7e3a064054 = L.marker(\n",
       "                [6.546205, 101.283137],\n",
       "                {}\n",
       "            ).addTo(feature_group_e01c968be3a187961410e0d7fca0b1a1);\n",
       "        \n",
       "    \n",
       "            var marker_3e29d70ebff27c69522006b60e20b718 = L.marker(\n",
       "                [13.664087, 100.543436],\n",
       "                {}\n",
       "            ).addTo(feature_group_e01c968be3a187961410e0d7fca0b1a1);\n",
       "        \n",
       "    \n",
       "            var marker_ef1c0004354e66873a5f58c893e9c31b = L.marker(\n",
       "                [18.804894, 98.900698],\n",
       "                {}\n",
       "            ).addTo(feature_group_e01c968be3a187961410e0d7fca0b1a1);\n",
       "        \n",
       "    \n",
       "            feature_group_e01c968be3a187961410e0d7fca0b1a1.addTo(map_4d3800b72cf6ffddf78c0c141bd0b87c);\n",
       "        \n",
       "    \n",
       "            var layer_control_66452bb01e0f98f3c96bf6d74590e9e3_layers = {\n",
       "                base_layers : {\n",
       "                    &quot;openstreetmap&quot; : tile_layer_eec0124b1279897422cc39c894aad457,\n",
       "                },\n",
       "                overlays :  {\n",
       "                    &quot;marker&quot; : feature_group_e01c968be3a187961410e0d7fca0b1a1,\n",
       "                },\n",
       "            };\n",
       "            let layer_control_66452bb01e0f98f3c96bf6d74590e9e3 = L.control.layers(\n",
       "                layer_control_66452bb01e0f98f3c96bf6d74590e9e3_layers.base_layers,\n",
       "                layer_control_66452bb01e0f98f3c96bf6d74590e9e3_layers.overlays,\n",
       "                {&quot;autoZIndex&quot;: true, &quot;collapsed&quot;: true, &quot;position&quot;: &quot;topright&quot;}\n",
       "            ).addTo(map_4d3800b72cf6ffddf78c0c141bd0b87c);\n",
       "\n",
       "        \n",
       "&lt;/script&gt;\n",
       "&lt;/html&gt;\" width=\"100%\" height=\"300px\"style=\"border:none !important;\" \"allowfullscreen\" \"webkitallowfullscreen\" \"mozallowfullscreen\"></iframe>"
      ],
      "text/plain": [
       "<folium.folium.Map at 0x1292dbce0>"
      ]
     },
     "execution_count": 8,
     "metadata": {},
     "output_type": "execute_result"
    }
   ],
   "source": [
    "import folium\n",
    "\n",
    "map = folium.Figure(height=\"300px\")\n",
    "m = folium.Map(location=[18.7883, 98.9853],\n",
    "               zoom_start=10).add_to(map)\n",
    "mkGroup = folium.FeatureGroup(\"marker\").add_to(m)\n",
    "\n",
    "folium.LayerControl().add_to(m)\n",
    "\n",
    "for i in newData:\n",
    "    folium.map.Marker(location=[i['lat'], i['lng']]).add_to(mkGroup)\n",
    "    print(i)\n",
    "\n",
    "m"
   ]
  }
 ],
 "metadata": {
  "kernelspec": {
   "display_name": "geo",
   "language": "python",
   "name": "python3"
  },
  "language_info": {
   "codemirror_mode": {
    "name": "ipython",
    "version": 3
   },
   "file_extension": ".py",
   "mimetype": "text/x-python",
   "name": "python",
   "nbconvert_exporter": "python",
   "pygments_lexer": "ipython3",
   "version": "3.12.2"
  }
 },
 "nbformat": 4,
 "nbformat_minor": 2
}
