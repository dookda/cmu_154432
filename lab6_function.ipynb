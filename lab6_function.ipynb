{
 "cells": [
  {
   "cell_type": "code",
   "execution_count": 3,
   "metadata": {},
   "outputs": [
    {
     "name": "stdout",
     "output_type": "stream",
     "text": [
      "hello\n"
     ]
    }
   ],
   "source": [
    "def functionName():\n",
    "    print(\"hello\")\n",
    "\n",
    "functionName()"
   ]
  },
  {
   "cell_type": "code",
   "execution_count": 5,
   "metadata": {},
   "outputs": [
    {
     "name": "stdout",
     "output_type": "stream",
     "text": [
      "สวัสดีคุณ sakda homhuan\n"
     ]
    }
   ],
   "source": [
    "def hello(name, lname):\n",
    "    print(f\"สวัสดีคุณ {name} {lname}\")\n",
    "\n",
    "hello(\"sakda\", \"homhuan\")"
   ]
  },
  {
   "cell_type": "code",
   "execution_count": 8,
   "metadata": {},
   "outputs": [
    {
     "name": "stdout",
     "output_type": "stream",
     "text": [
      "8\n"
     ]
    }
   ],
   "source": [
    "def rectangle(w=2,h=4):\n",
    "    area = w * h\n",
    "    print(area)\n",
    "\n",
    "rectangle()"
   ]
  },
  {
   "cell_type": "code",
   "execution_count": 11,
   "metadata": {},
   "outputs": [
    {
     "name": "stdout",
     "output_type": "stream",
     "text": [
      "20\n"
     ]
    }
   ],
   "source": [
    "def multiplyTwo(x):\n",
    "    res = x * 2\n",
    "    return res\n",
    "\n",
    "def plusFive(x):\n",
    "    res = x + 5\n",
    "    return res\n",
    "\n",
    "a = multiplyTwo(5)\n",
    "b = plusFive(5)\n",
    "print(a + b)"
   ]
  },
  {
   "cell_type": "code",
   "execution_count": 38,
   "metadata": {},
   "outputs": [
    {
     "name": "stdout",
     "output_type": "stream",
     "text": [
      "0 งวดหน้าลองใหม่\n",
      "1 งวดหน้าลองใหม่\n",
      "2 งวดหน้าลองใหม่\n",
      "เลขที่ออก 9\n"
     ]
    }
   ],
   "source": [
    "import random\n",
    "def lottery():\n",
    "    randNumber =  random.randint(1, 10)\n",
    "    i = 0\n",
    "    while i < 3:\n",
    "        guessNumber = input(\"กรอกเลข2ตัว: \")\n",
    "        if(str(randNumber) == guessNumber):\n",
    "            print(i,\"ดีใจด้วยคุณถูกรางวัล\")\n",
    "        else:\n",
    "            print(i,\"งวดหน้าลองใหม่\")\n",
    "        i += 1\n",
    "    print(\"เลขที่ออก\", randNumber)\n",
    "lottery()"
   ]
  }
 ],
 "metadata": {
  "kernelspec": {
   "display_name": "geo",
   "language": "python",
   "name": "python3"
  },
  "language_info": {
   "codemirror_mode": {
    "name": "ipython",
    "version": 3
   },
   "file_extension": ".py",
   "mimetype": "text/x-python",
   "name": "python",
   "nbconvert_exporter": "python",
   "pygments_lexer": "ipython3",
   "version": "3.12.2"
  }
 },
 "nbformat": 4,
 "nbformat_minor": 2
}
