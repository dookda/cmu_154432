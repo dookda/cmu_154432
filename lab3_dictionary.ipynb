{
 "cells": [
  {
   "cell_type": "code",
   "execution_count": null,
   "metadata": {},
   "outputs": [
    {
     "name": "stdout",
     "output_type": "stream",
     "text": [
      "Peter\n",
      "{'name': 'batman', 'lastName': 'Homhuan', 'stdId': 123456789, 'status': False}\n"
     ]
    }
   ],
   "source": [
    "student = {\n",
    "    \"name\": \"sakda\",\n",
    "    \"lastName\": \"Homhuan\",\n",
    "    \"stdId\": 123456789,\n",
    "    \"status\": False\n",
    "    }\n",
    "\n",
    "student[\"name\"] = \"Peter\"\n",
    "print(student[\"name\"])\n",
    "\n",
    "student.update({\"name\":\"Batman\"}) \n",
    "print(student)"
   ]
  },
  {
   "cell_type": "code",
   "execution_count": 19,
   "metadata": {},
   "outputs": [
    {
     "name": "stdout",
     "output_type": "stream",
     "text": [
      "{'name': 'sakda', 'lastName': 'Homhuan', 'stdId': 123456789, 'status': False}\n",
      "{'name': 'sakda', 'lastName': 'Homhuan', 'stdId': 123456789, 'status': False, 'superHero': True}\n",
      "{'name': 'sakda', 'lastName': 'Homhuan', 'stdId': 123456789, 'status': False, 'superHero': True, 'superCar': True}\n",
      "{'name': 'sakda', 'lastName': 'Homhuan', 'stdId': 123456789, 'status': False, 'superHero': True}\n",
      "{'name': 'sakda', 'lastName': 'Homhuan', 'stdId': 123456789, 'status': False}\n"
     ]
    }
   ],
   "source": [
    "student = {\n",
    "    \"name\": \"sakda\",\n",
    "    \"lastName\": \"Homhuan\",\n",
    "    \"stdId\": 123456789,\n",
    "    \"status\": False\n",
    "    }\n",
    "\n",
    "student2 = student.copy()\n",
    "print(student2)\n",
    "\n",
    "student[\"superHero\"] = True\n",
    "print(student)\n",
    "student.update({\"superCar\": True})\n",
    "print(student)\n",
    "student.pop(\"superCar\")\n",
    "print(student)\n",
    "student.popitem()\n",
    "print(student)\n",
    "\n"
   ]
  },
  {
   "cell_type": "code",
   "execution_count": 28,
   "metadata": {},
   "outputs": [
    {
     "name": "stdout",
     "output_type": "stream",
     "text": [
      "('name', 'sakda')\n",
      "('lastName', 'Homhuan')\n",
      "('stdId', 123456789)\n",
      "('status', False)\n"
     ]
    }
   ],
   "source": [
    "student = {\n",
    "    \"name\": \"sakda\",\n",
    "    \"lastName\": \"Homhuan\",\n",
    "    \"stdId\": 123456789,\n",
    "    \"status\": False\n",
    "    }\n",
    "\n",
    "# loop\n",
    "for x in student.items():\n",
    "    # student[\"name\"]\n",
    "    print(x)"
   ]
  }
 ],
 "metadata": {
  "kernelspec": {
   "display_name": "py499",
   "language": "python",
   "name": "python3"
  },
  "language_info": {
   "codemirror_mode": {
    "name": "ipython",
    "version": 3
   },
   "file_extension": ".py",
   "mimetype": "text/x-python",
   "name": "python",
   "nbconvert_exporter": "python",
   "pygments_lexer": "ipython3",
   "version": "3.12.3"
  }
 },
 "nbformat": 4,
 "nbformat_minor": 2
}
