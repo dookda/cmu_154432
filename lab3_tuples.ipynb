{
 "cells": [
  {
   "cell_type": "code",
   "execution_count": 9,
   "metadata": {},
   "outputs": [
    {
     "name": "stdout",
     "output_type": "stream",
     "text": [
      "[1, 2, 3, 4, 5, 6, 7, 'moo deng']\n"
     ]
    }
   ],
   "source": [
    "\n",
    "tuple1 = (1,2,3,4,5,6,\"sakda\")\n",
    "tuple2 = tuple((1,2,3,4,5,6,\"sakda\"))\n",
    "list1 = [1,2,3,4,5,6,7,\"sakda\"]\n",
    "tuple3 = 1,2,3,4,5,6,7,\"sakda\"\n",
    "list1[7] = \"moo deng\"\n",
    "# print(type(tuple1))\n",
    "# print(type(tuple2))\n",
    "print(list1)\n",
    "# print(type(tuple3))"
   ]
  },
  {
   "cell_type": "code",
   "execution_count": null,
   "metadata": {},
   "outputs": [
    {
     "name": "stdout",
     "output_type": "stream",
     "text": [
      "(1, 2, 3, 4, 5, 6, 'sakda')\n",
      "Moo deng Moo deng\n"
     ]
    }
   ],
   "source": [
    "tuple1 = (1,2,3,4,5,6,\"sakda\")\n",
    "print(tuple1)\n",
    "\n",
    "tuple2List = list(tuple1)\n",
    "tuple2List[6] = \"Moo deng\"\n",
    "tuple1 = tuple(tuple2List)\n",
    "print(tuple1[6], tuple1[-1])\n",
    "\n"
   ]
  },
  {
   "cell_type": "code",
   "execution_count": 22,
   "metadata": {},
   "outputs": [
    {
     "name": "stdout",
     "output_type": "stream",
     "text": [
      "(1, 2, 3, 4, 5, 6, 'Moo deng')\n",
      "2\n",
      "3\n",
      "4\n",
      "5\n",
      "6\n",
      "7\n",
      "Moo dengMoo dengMoo dengMoo dengMoo deng\n"
     ]
    }
   ],
   "source": [
    "print(tuple1)\n",
    "\n",
    "for x in tuple1:\n",
    "    if isinstance(x, str):\n",
    "        print(str(x) * 5)\n",
    "    else:\n",
    "        print(x + 1)"
   ]
  }
 ],
 "metadata": {
  "kernelspec": {
   "display_name": "py499",
   "language": "python",
   "name": "python3"
  },
  "language_info": {
   "codemirror_mode": {
    "name": "ipython",
    "version": 3
   },
   "file_extension": ".py",
   "mimetype": "text/x-python",
   "name": "python",
   "nbconvert_exporter": "python",
   "pygments_lexer": "ipython3",
   "version": "3.12.3"
  }
 },
 "nbformat": 4,
 "nbformat_minor": 2
}
