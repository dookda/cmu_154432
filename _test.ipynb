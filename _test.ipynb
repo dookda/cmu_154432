{
 "cells": [
  {
   "cell_type": "code",
   "execution_count": null,
   "metadata": {},
   "outputs": [],
   "source": [
    "def ชื่อฟังก์ชัน(พารามิเตอร์):\n",
    "    # เนื้อหาของฟังก์ชัน\n",
    "    โค้ดที่ต้องการให้ทำงาน"
   ]
  },
  {
   "cell_type": "code",
   "execution_count": 3,
   "metadata": {},
   "outputs": [
    {
     "name": "stdout",
     "output_type": "stream",
     "text": [
      "None\n"
     ]
    }
   ],
   "source": [
    "def say_hello():\n",
    "    \"\"\"aa\"\"\"\n",
    "    #print(\"สวัสดี!\")\n",
    "\n",
    "a = say_hello()\n",
    "print(a)"
   ]
  },
  {
   "cell_type": "code",
   "execution_count": 4,
   "metadata": {},
   "outputs": [
    {
     "name": "stdout",
     "output_type": "stream",
     "text": [
      "4\n"
     ]
    }
   ],
   "source": [
    "def func(a):\n",
    "    return a + 1\n",
    "\n",
    "\n",
    "d = func(1) + func(1)\n",
    "print(d)\n"
   ]
  },
  {
   "cell_type": "code",
   "execution_count": null,
   "metadata": {},
   "outputs": [],
   "source": [
    "x = 20  # ตัวแปร x มีขอบเขตทั่วโลก\n",
    "\n",
    "def my_function():\n",
    "    print(x)\n",
    "\n",
    "my_function()  # Output: 20\n",
    "print(x)       # Output: 20"
   ]
  },
  {
   "cell_type": "code",
   "execution_count": null,
   "metadata": {},
   "outputs": [],
   "source": []
  }
 ],
 "metadata": {
  "kernelspec": {
   "display_name": "geo",
   "language": "python",
   "name": "python3"
  },
  "language_info": {
   "codemirror_mode": {
    "name": "ipython",
    "version": 3
   },
   "file_extension": ".py",
   "mimetype": "text/x-python",
   "name": "python",
   "nbconvert_exporter": "python",
   "pygments_lexer": "ipython3",
   "version": "3.12.2"
  }
 },
 "nbformat": 4,
 "nbformat_minor": 2
}
